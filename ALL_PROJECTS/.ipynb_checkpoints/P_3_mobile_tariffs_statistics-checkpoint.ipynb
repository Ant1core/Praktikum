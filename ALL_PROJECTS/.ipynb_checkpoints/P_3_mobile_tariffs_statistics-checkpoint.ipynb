{
 "cells": [
  {
   "cell_type": "markdown",
   "metadata": {},
   "source": [
    "# Определение перспективного тарифа для телеком-компании"
   ]
  },
  {
   "cell_type": "markdown",
   "metadata": {},
   "source": [
    "## Описание проекта"
   ]
  },
  {
   "cell_type": "markdown",
   "metadata": {},
   "source": [
    "Клиентам предлагают два тарифных плана: «Смарт» и «Ультра». Чтобы скорректировать рекламный бюджет, коммерческий департамент хочет понять, какой тариф приносит больше денег.\n",
    "Необходимо провести анализ клиентов на небольшой выборке и сформулировать выводы - какой тариф лучше."
   ]
  },
  {
   "cell_type": "markdown",
   "metadata": {},
   "source": [
    "### Описание тарифов"
   ]
  },
  {
   "cell_type": "markdown",
   "metadata": {},
   "source": [
    "#### Тариф «Смарт»\n",
    "1.\tЕжемесячная плата: 550 рублей\n",
    "2.\tВключено 500 минут разговора, 50 сообщений и 15 Гб интернет-трафика\n",
    "3. Стоимость услуг сверх тарифного пакета\n",
    "    * минута разговора: 3 рубля\n",
    "    * сообщение: 3 рубля\n",
    "    * 1 Гб интернет-трафика: 200 рублей\n",
    "\n",
    "#### Тариф «Ультра»\n",
    "1.\tЕжемесячная плата: 1950 рублей\n",
    "2.\tВключено 3000 минут разговора, 1000 сообщений и 30 Гб интернет-трафика\n",
    "3.\tСтоимость услуг сверх тарифного пакета:\n",
    "    * минута разговора: 1 рубль\n",
    "    * сообщение: 1 рубль\n",
    "    * 1 Гб интернет-трафика: 150 рублей\n",
    "\n",
    "Обратите внимание: «Мегалайн» всегда округляет вверх значения минут и мегабайтов. Если пользователь проговорил всего 1 секунду, в тарифе засчитывается целая минута.\n"
   ]
  },
  {
   "cell_type": "markdown",
   "metadata": {},
   "source": [
    "## 1. Первичное изучение данных и предобработка"
   ]
  },
  {
   "cell_type": "code",
   "execution_count": 2,
   "metadata": {},
   "outputs": [],
   "source": [
    "import pandas as pd\n",
    "import numpy as np\n",
    "import seaborn as sns\n",
    "import matplotlib.pyplot as plt\n",
    "from scipy import stats as st\n",
    "\n",
    "sns.set(style = 'darkgrid')"
   ]
  },
  {
   "cell_type": "code",
   "execution_count": 3,
   "metadata": {},
   "outputs": [],
   "source": [
    "df_calls = pd.read_csv('/datasets/calls.csv')\n",
    "df_internet = pd.read_csv('/datasets/internet.csv', index_col=[0])\n",
    "df_messages = pd.read_csv('/datasets/messages.csv')\n",
    "df_tariffs = pd.read_csv('/datasets//tariffs.csv')\n",
    "df_users = pd.read_csv('/datasets//users.csv')"
   ]
  },
  {
   "cell_type": "code",
   "execution_count": 4,
   "metadata": {},
   "outputs": [],
   "source": [
    "# функция для построения гистограммы\n",
    "def hist_plot(data, column):\n",
    "    data.plot(y=column, kind = 'hist', figsize=(15,8), grid=True, bins = 50)"
   ]
  },
  {
   "cell_type": "markdown",
   "metadata": {},
   "source": [
    "#### Данные о звонках"
   ]
  },
  {
   "cell_type": "markdown",
   "metadata": {},
   "source": [
    "Таблица df_calls (информация о звонках):\n",
    "* id — уникальный номер звонка\n",
    "* call_date — дата звонка\n",
    "* duration — длительность звонка в минутах\n",
    "* user_id — идентификатор пользователя, сделавшего звонок\n"
   ]
  },
  {
   "cell_type": "code",
   "execution_count": 5,
   "metadata": {},
   "outputs": [
    {
     "name": "stdout",
     "output_type": "stream",
     "text": [
      "<class 'pandas.core.frame.DataFrame'>\n",
      "RangeIndex: 202607 entries, 0 to 202606\n",
      "Data columns (total 4 columns):\n",
      "id           202607 non-null object\n",
      "call_date    202607 non-null object\n",
      "duration     202607 non-null float64\n",
      "user_id      202607 non-null int64\n",
      "dtypes: float64(1), int64(1), object(2)\n",
      "memory usage: 6.2+ MB\n"
     ]
    }
   ],
   "source": [
    "df_calls.info()"
   ]
  },
  {
   "cell_type": "code",
   "execution_count": 6,
   "metadata": {},
   "outputs": [],
   "source": [
    "# приведём столбец call_date к формату времени.\n",
    "df_calls['call_date'] = pd.to_datetime(df_calls['call_date'], format='%Y-%m-%d', errors='coerce')"
   ]
  },
  {
   "cell_type": "code",
   "execution_count": 7,
   "metadata": {},
   "outputs": [
    {
     "data": {
      "text/plain": [
       "id           39613\n",
       "call_date    39613\n",
       "duration     39613\n",
       "user_id      39613\n",
       "dtype: int64"
      ]
     },
     "execution_count": 7,
     "metadata": {},
     "output_type": "execute_result"
    },
    {
     "data": {
      "image/png": "[encoded data removed]",
      "text/plain": [
       "<Figure size 1080x576 with 1 Axes>"
      ]
     },
     "metadata": {},
     "output_type": "display_data"
    }
   ],
   "source": [
    "# в столбце 'duration' много звонков с длительностью 0.\n",
    "df_calls['duration'].hist(bins = 50, figsize=(15,8))\n",
    "df_calls.query('duration == 0').count()"
   ]
  },
  {
   "cell_type": "markdown",
   "metadata": {},
   "source": [
    "Скорее всего, это звонки, которые так и не были осуществлены (пропущенные, сброшенные и тд.)\n",
    "Таких звонков почти 40000, т.е. около 20% от данных.\n",
    "\n",
    "Так как мы изучаем тарифы, нас в первую очередь будут интересовать услуги, которые по данным тарифам были оказаны. В случае со звонками нулевой продолжительности, никакой услуги оказано не было, эти данные в рассчёты по тарифам не попадут. \n",
    "Поэтому мы отбросим строки с нулевой длительностью звонка.\n",
    "\n",
    "Также, по условиям оператора, округление значений минут для рассчётов осуществляется вверх. Поэтому также округлим наши данные и приведём к целочисленному формату."
   ]
  },
  {
   "cell_type": "code",
   "execution_count": 8,
   "metadata": {},
   "outputs": [
    {
     "data": {
      "image/png": "[encoded data removed]",
      "text/plain": [
       "<Figure size 1080x576 with 1 Axes>"
      ]
     },
     "metadata": {},
     "output_type": "display_data"
    }
   ],
   "source": [
    "# Возьмём только ненулевые звонки\n",
    "df_calls = df_calls.query('duration != 0')\n",
    "\n",
    "# округлим значения \"вверх\" и посмотрим гистограмму\n",
    "df_calls['duration'] = df_calls['duration'].apply(np.ceil).astype('int')\n",
    "hist_plot(df_calls, 'duration')"
   ]
  },
  {
   "cell_type": "markdown",
   "metadata": {},
   "source": [
    "Большая часть звонков весьма короткие - от 1 до 10 минут, но есть данные и о получасовых переговорах.\n",
    "Данные выглядит логично, форматы правильные."
   ]
  },
  {
   "cell_type": "markdown",
   "metadata": {},
   "source": [
    "#### Данные об использовании интернет"
   ]
  },
  {
   "cell_type": "markdown",
   "metadata": {},
   "source": [
    "Таблица df_internet (информация об интернет-сессиях):\n",
    "* id — уникальный номер сессии\n",
    "* mb_used — объём потраченного за сессию интернет-трафика (в мегабайтах)\n",
    "* session_date — дата интернет-сессии\n",
    "* user_id — идентификатор пользователя\n"
   ]
  },
  {
   "cell_type": "code",
   "execution_count": 9,
   "metadata": {},
   "outputs": [
    {
     "name": "stdout",
     "output_type": "stream",
     "text": [
      "<class 'pandas.core.frame.DataFrame'>\n",
      "Int64Index: 149396 entries, 0 to 149395\n",
      "Data columns (total 4 columns):\n",
      "id              149396 non-null object\n",
      "mb_used         149396 non-null float64\n",
      "session_date    149396 non-null object\n",
      "user_id         149396 non-null int64\n",
      "dtypes: float64(1), int64(1), object(2)\n",
      "memory usage: 5.7+ MB\n"
     ]
    }
   ],
   "source": [
    "df_internet.info()"
   ]
  },
  {
   "cell_type": "markdown",
   "metadata": {},
   "source": [
    "С данными по использованному интернет похожая ситуация, как и со звонками - почти 20000 нулевых значений.\n",
    "Предположим, что нулевые значения получились, когда клиент интернет активировал, но трафика получено не было -> услуга оператора по тарифу оказана не была -> отброс этих данных не повлияет на анализ для наших целей."
   ]
  },
  {
   "cell_type": "code",
   "execution_count": 10,
   "metadata": {},
   "outputs": [
    {
     "data": {
      "image/png": "[encoded data removed]",
      "text/plain": [
       "<Figure size 1080x576 with 1 Axes>"
      ]
     },
     "metadata": {},
     "output_type": "display_data"
    }
   ],
   "source": [
    "# Возьмём только ненулевые звонки\n",
    "df_internet = df_internet.query('mb_used != 0')\n",
    "\n",
    "# округлим значения \"вверх\" и посмотрим гистограмму\n",
    "df_internet['mb_used'] = df_internet['mb_used'].apply(np.ceil).astype('int')\n",
    "hist_plot(df_internet, 'mb_used')"
   ]
  },
  {
   "cell_type": "markdown",
   "metadata": {},
   "source": [
    "Данные выглядят нормально. Средние сессии - от 100 до 500 мб. "
   ]
  },
  {
   "cell_type": "code",
   "execution_count": 11,
   "metadata": {},
   "outputs": [],
   "source": [
    "# приведём столбец session_date к формату времени.\n",
    "df_internet['session_date'] = pd.to_datetime(df_internet['session_date'], format='%Y-%m-%d', errors='coerce')"
   ]
  },
  {
   "cell_type": "code",
   "execution_count": 12,
   "metadata": {},
   "outputs": [
    {
     "data": {
      "text/html": [
       "<div>\n",
       "<style scoped>\n",
       "    .dataframe tbody tr th:only-of-type {\n",
       "        vertical-align: middle;\n",
       "    }\n",
       "\n",
       "    .dataframe tbody tr th {\n",
       "        vertical-align: top;\n",
       "    }\n",
       "\n",
       "    .dataframe thead th {\n",
       "        text-align: right;\n",
       "    }\n",
       "</style>\n",
       "<table border=\"1\" class=\"dataframe\">\n",
       "  <thead>\n",
       "    <tr style=\"text-align: right;\">\n",
       "      <th></th>\n",
       "      <th>id</th>\n",
       "      <th>mb_used</th>\n",
       "      <th>session_date</th>\n",
       "      <th>user_id</th>\n",
       "    </tr>\n",
       "  </thead>\n",
       "  <tbody>\n",
       "    <tr>\n",
       "      <td>0</td>\n",
       "      <td>1000_0</td>\n",
       "      <td>113</td>\n",
       "      <td>2018-11-25</td>\n",
       "      <td>1000</td>\n",
       "    </tr>\n",
       "    <tr>\n",
       "      <td>1</td>\n",
       "      <td>1000_1</td>\n",
       "      <td>1053</td>\n",
       "      <td>2018-09-07</td>\n",
       "      <td>1000</td>\n",
       "    </tr>\n",
       "    <tr>\n",
       "      <td>2</td>\n",
       "      <td>1000_2</td>\n",
       "      <td>1198</td>\n",
       "      <td>2018-06-25</td>\n",
       "      <td>1000</td>\n",
       "    </tr>\n",
       "    <tr>\n",
       "      <td>3</td>\n",
       "      <td>1000_3</td>\n",
       "      <td>551</td>\n",
       "      <td>2018-08-22</td>\n",
       "      <td>1000</td>\n",
       "    </tr>\n",
       "    <tr>\n",
       "      <td>4</td>\n",
       "      <td>1000_4</td>\n",
       "      <td>303</td>\n",
       "      <td>2018-09-24</td>\n",
       "      <td>1000</td>\n",
       "    </tr>\n",
       "  </tbody>\n",
       "</table>\n",
       "</div>"
      ],
      "text/plain": [
       "       id  mb_used session_date  user_id\n",
       "0  1000_0      113   2018-11-25     1000\n",
       "1  1000_1     1053   2018-09-07     1000\n",
       "2  1000_2     1198   2018-06-25     1000\n",
       "3  1000_3      551   2018-08-22     1000\n",
       "4  1000_4      303   2018-09-24     1000"
      ]
     },
     "execution_count": 12,
     "metadata": {},
     "output_type": "execute_result"
    }
   ],
   "source": [
    "df_internet.head(5)"
   ]
  },
  {
   "cell_type": "markdown",
   "metadata": {},
   "source": [
    "#### Данные о сообщениях"
   ]
  },
  {
   "cell_type": "markdown",
   "metadata": {},
   "source": [
    "Таблица df_messages (информация о сообщениях):\n",
    "* id — уникальный номер сообщения\n",
    "* message_date — дата сообщения\n",
    "* user_id — идентификатор пользователя, отправившего сообщение\n"
   ]
  },
  {
   "cell_type": "code",
   "execution_count": 13,
   "metadata": {},
   "outputs": [
    {
     "name": "stdout",
     "output_type": "stream",
     "text": [
      "<class 'pandas.core.frame.DataFrame'>\n",
      "RangeIndex: 123036 entries, 0 to 123035\n",
      "Data columns (total 3 columns):\n",
      "id              123036 non-null object\n",
      "message_date    123036 non-null object\n",
      "user_id         123036 non-null int64\n",
      "dtypes: int64(1), object(2)\n",
      "memory usage: 2.8+ MB\n"
     ]
    }
   ],
   "source": [
    "df_messages.info(5)"
   ]
  },
  {
   "cell_type": "code",
   "execution_count": 14,
   "metadata": {},
   "outputs": [],
   "source": [
    "# приведём столбец session_date к формату времени.\n",
    "df_messages['message_date'] = pd.to_datetime(df_messages['message_date'], format='%Y-%m-%d', errors='coerce')"
   ]
  },
  {
   "cell_type": "markdown",
   "metadata": {},
   "source": [
    "Остальные данные выглядят валидно."
   ]
  },
  {
   "cell_type": "markdown",
   "metadata": {},
   "source": [
    "#### Данные о тарифах"
   ]
  },
  {
   "cell_type": "markdown",
   "metadata": {},
   "source": [
    "Таблица tariffs (информация о тарифах):\n",
    "* tariff_name — название тарифа\n",
    "* rub_monthly_fee — ежемесячная абонентская плата в рублях\n",
    "* minutes_included — количество минут разговора в месяц, включённых в абонентскую плату\n",
    "* messages_included — количество сообщений в месяц, включённых в абонентскую плату\n",
    "* mb_per_month_included — объём интернет-трафика, включённого в абонентскую плату (в мегабайтах)\n",
    "* rub_per_minute — стоимость минуты разговора сверх тарифного пакета (например, если в тарифе 100 минут разговора в месяц, то со 101 минуты будет взиматься плата)\n",
    "* rub_per_message — стоимость отправки сообщения сверх тарифного пакета\n",
    "* rub_per_gb — стоимость дополнительного гигабайта интернет-трафика сверх тарифного пакета (1 гигабайт = 1024 мегабайта)\n"
   ]
  },
  {
   "cell_type": "code",
   "execution_count": 15,
   "metadata": {},
   "outputs": [
    {
     "data": {
      "text/html": [
       "<div>\n",
       "<style scoped>\n",
       "    .dataframe tbody tr th:only-of-type {\n",
       "        vertical-align: middle;\n",
       "    }\n",
       "\n",
       "    .dataframe tbody tr th {\n",
       "        vertical-align: top;\n",
       "    }\n",
       "\n",
       "    .dataframe thead th {\n",
       "        text-align: right;\n",
       "    }\n",
       "</style>\n",
       "<table border=\"1\" class=\"dataframe\">\n",
       "  <thead>\n",
       "    <tr style=\"text-align: right;\">\n",
       "      <th></th>\n",
       "      <th>messages_included</th>\n",
       "      <th>mb_per_month_included</th>\n",
       "      <th>minutes_included</th>\n",
       "      <th>rub_monthly_fee</th>\n",
       "      <th>rub_per_gb</th>\n",
       "      <th>rub_per_message</th>\n",
       "      <th>rub_per_minute</th>\n",
       "      <th>tariff_name</th>\n",
       "    </tr>\n",
       "  </thead>\n",
       "  <tbody>\n",
       "    <tr>\n",
       "      <td>0</td>\n",
       "      <td>50</td>\n",
       "      <td>15360</td>\n",
       "      <td>500</td>\n",
       "      <td>550</td>\n",
       "      <td>200</td>\n",
       "      <td>3</td>\n",
       "      <td>3</td>\n",
       "      <td>smart</td>\n",
       "    </tr>\n",
       "    <tr>\n",
       "      <td>1</td>\n",
       "      <td>1000</td>\n",
       "      <td>30720</td>\n",
       "      <td>3000</td>\n",
       "      <td>1950</td>\n",
       "      <td>150</td>\n",
       "      <td>1</td>\n",
       "      <td>1</td>\n",
       "      <td>ultra</td>\n",
       "    </tr>\n",
       "  </tbody>\n",
       "</table>\n",
       "</div>"
      ],
      "text/plain": [
       "   messages_included  mb_per_month_included  minutes_included  \\\n",
       "0                 50                  15360               500   \n",
       "1               1000                  30720              3000   \n",
       "\n",
       "   rub_monthly_fee  rub_per_gb  rub_per_message  rub_per_minute tariff_name  \n",
       "0              550         200                3               3       smart  \n",
       "1             1950         150                1               1       ultra  "
      ]
     },
     "execution_count": 15,
     "metadata": {},
     "output_type": "execute_result"
    }
   ],
   "source": [
    "df_tariffs"
   ]
  },
  {
   "cell_type": "markdown",
   "metadata": {},
   "source": [
    "Данные в таблице выглядят валидно."
   ]
  },
  {
   "cell_type": "markdown",
   "metadata": {},
   "source": [
    "#### Данные о пользователях"
   ]
  },
  {
   "cell_type": "markdown",
   "metadata": {},
   "source": [
    "Таблица df_users (информация о пользователях):\n",
    "* user_id — уникальный идентификатор пользователя\n",
    "* first_name — имя пользователя\n",
    "* last_name — фамилия пользователя\n",
    "* age — возраст пользователя (годы)\n",
    "* reg_date — дата подключения тарифа (день, месяц, год)\n",
    "* churn_date — дата прекращения пользования тарифом (если значение пропущено, то тариф ещё действовал на момент выгрузки данных)\n",
    "* city — город проживания пользователя\n",
    "* tariff — название тарифного плана\n"
   ]
  },
  {
   "cell_type": "code",
   "execution_count": 16,
   "metadata": {},
   "outputs": [
    {
     "name": "stdout",
     "output_type": "stream",
     "text": [
      "<class 'pandas.core.frame.DataFrame'>\n",
      "RangeIndex: 500 entries, 0 to 499\n",
      "Data columns (total 8 columns):\n",
      "user_id       500 non-null int64\n",
      "age           500 non-null int64\n",
      "churn_date    38 non-null object\n",
      "city          500 non-null object\n",
      "first_name    500 non-null object\n",
      "last_name     500 non-null object\n",
      "reg_date      500 non-null object\n",
      "tariff        500 non-null object\n",
      "dtypes: int64(2), object(6)\n",
      "memory usage: 31.4+ KB\n"
     ]
    }
   ],
   "source": [
    "df_users.info()"
   ]
  },
  {
   "cell_type": "markdown",
   "metadata": {},
   "source": [
    "Имеем данные по 500 пользователям. Всего 40 из них меняли тарифы (столбец churn_date).\n",
    "Для удобства, мы заменим \n",
    "Остальные столбцы пропущенных значений не имеют.\n",
    "\n",
    "Столбец дата регистрации имеет не правильный формат."
   ]
  },
  {
   "cell_type": "code",
   "execution_count": 17,
   "metadata": {},
   "outputs": [],
   "source": [
    "# приведём столбцы session_date и churn_date к формату времени.\n",
    "df_users['reg_date'] = pd.to_datetime(df_users['reg_date'], format='%Y-%m-%d', errors='coerce')\n",
    "df_users['churn_date'] = pd.to_datetime(df_users['churn_date'], format='%Y-%m-%d', errors='ignore')"
   ]
  },
  {
   "cell_type": "markdown",
   "metadata": {},
   "source": [
    "### Вывод\n",
    "Входные данные представляют собой 5 csv-файлов с таблицами.\n",
    "Таблицы были проанализированы, обнаружены неверные форматы данных, а также нулевые значения для некоторых столбцов.\n",
    "\n",
    "По результатам предобработки, данные были приведены к валидным форматам. Нулевые значения, где это применимо, были отброшены, т.к. не влияют на цели нашего исследования."
   ]
  },
  {
   "cell_type": "markdown",
   "metadata": {},
   "source": [
    "## 2. Подготовка данных"
   ]
  },
  {
   "cell_type": "markdown",
   "metadata": {},
   "source": [
    "Необходимо посчитать для каждого пользователя:\n",
    "* количество сделанных звонков и израсходованных минут разговора по месяцам;\n",
    "* количество отправленных сообщений по месяцам;\n",
    "* объем израсходованного интернет-трафика по месяцам;\n",
    "* помесячную выручку с каждого пользователя (вычтите бесплатный лимит из суммарного количества звонков, сообщений и интернет-трафика; остаток умножьте на значение из тарифного плана; прибавьте абонентскую плату, соответствующую тарифному плану).\n"
   ]
  },
  {
   "cell_type": "markdown",
   "metadata": {},
   "source": [
    "Т.к. у нас все рассчёты планируются помесячно, мы добавим в таблицы по использованным услугами столбец с номером месяца, вычисленным из даты:"
   ]
  },
  {
   "cell_type": "code",
   "execution_count": 18,
   "metadata": {},
   "outputs": [],
   "source": [
    "df_calls['month'] = df_calls['call_date'].dt.month\n",
    "df_messages['month'] = df_messages['message_date'].dt.month\n",
    "df_internet['month'] = df_internet['session_date'].dt.month"
   ]
  },
  {
   "cell_type": "code",
   "execution_count": 19,
   "metadata": {},
   "outputs": [
    {
     "data": {
      "text/html": [
       "<div>\n",
       "<style scoped>\n",
       "    .dataframe tbody tr th:only-of-type {\n",
       "        vertical-align: middle;\n",
       "    }\n",
       "\n",
       "    .dataframe tbody tr th {\n",
       "        vertical-align: top;\n",
       "    }\n",
       "\n",
       "    .dataframe thead th {\n",
       "        text-align: right;\n",
       "    }\n",
       "</style>\n",
       "<table border=\"1\" class=\"dataframe\">\n",
       "  <thead>\n",
       "    <tr style=\"text-align: right;\">\n",
       "      <th></th>\n",
       "      <th></th>\n",
       "      <th>count</th>\n",
       "      <th>sum</th>\n",
       "    </tr>\n",
       "    <tr>\n",
       "      <th>user_id</th>\n",
       "      <th>month</th>\n",
       "      <th></th>\n",
       "      <th></th>\n",
       "    </tr>\n",
       "  </thead>\n",
       "  <tbody>\n",
       "    <tr>\n",
       "      <td rowspan=\"8\" valign=\"top\">1000</td>\n",
       "      <td>5</td>\n",
       "      <td>17</td>\n",
       "      <td>159</td>\n",
       "    </tr>\n",
       "    <tr>\n",
       "      <td>6</td>\n",
       "      <td>28</td>\n",
       "      <td>172</td>\n",
       "    </tr>\n",
       "    <tr>\n",
       "      <td>7</td>\n",
       "      <td>41</td>\n",
       "      <td>340</td>\n",
       "    </tr>\n",
       "    <tr>\n",
       "      <td>8</td>\n",
       "      <td>42</td>\n",
       "      <td>408</td>\n",
       "    </tr>\n",
       "    <tr>\n",
       "      <td>9</td>\n",
       "      <td>46</td>\n",
       "      <td>466</td>\n",
       "    </tr>\n",
       "    <tr>\n",
       "      <td>10</td>\n",
       "      <td>44</td>\n",
       "      <td>350</td>\n",
       "    </tr>\n",
       "    <tr>\n",
       "      <td>11</td>\n",
       "      <td>37</td>\n",
       "      <td>338</td>\n",
       "    </tr>\n",
       "    <tr>\n",
       "      <td>12</td>\n",
       "      <td>38</td>\n",
       "      <td>333</td>\n",
       "    </tr>\n",
       "    <tr>\n",
       "      <td rowspan=\"2\" valign=\"top\">1001</td>\n",
       "      <td>11</td>\n",
       "      <td>45</td>\n",
       "      <td>430</td>\n",
       "    </tr>\n",
       "    <tr>\n",
       "      <td>12</td>\n",
       "      <td>47</td>\n",
       "      <td>414</td>\n",
       "    </tr>\n",
       "  </tbody>\n",
       "</table>\n",
       "</div>"
      ],
      "text/plain": [
       "               count  sum\n",
       "user_id month            \n",
       "1000    5         17  159\n",
       "        6         28  172\n",
       "        7         41  340\n",
       "        8         42  408\n",
       "        9         46  466\n",
       "        10        44  350\n",
       "        11        37  338\n",
       "        12        38  333\n",
       "1001    11        45  430\n",
       "        12        47  414"
      ]
     },
     "execution_count": 19,
     "metadata": {},
     "output_type": "execute_result"
    }
   ],
   "source": [
    "# создадим датафрейм, в который будем считать и записывать наши группировки\n",
    "# сразу добавим туда данные о кол-ве звонков и израсходованных минутах по месяцам\n",
    "df_used_monthly = df_calls.pivot_table(index = ('user_id','month'), values = 'duration', aggfunc=('count','sum'))\n",
    "df_used_monthly.head(10)"
   ]
  },
  {
   "cell_type": "code",
   "execution_count": 20,
   "metadata": {},
   "outputs": [],
   "source": [
    "# добавим данные по сообщениям\n",
    "df_pivot = df_messages.pivot_table(index = ('user_id','month'), values = 'id', aggfunc=('count'))\n",
    "df_used_monthly = df_used_monthly.merge(df_pivot, on=('user_id','month'), how='left')"
   ]
  },
  {
   "cell_type": "code",
   "execution_count": 21,
   "metadata": {},
   "outputs": [],
   "source": [
    "# добавим данные по использованию интернета\n",
    "df_pivot = df_internet.pivot_table(index = ('user_id','month'), values = 'mb_used', aggfunc=('sum'))\n",
    "df_used_monthly = df_used_monthly.merge(df_pivot, on=('user_id','month'), how='left')"
   ]
  },
  {
   "cell_type": "code",
   "execution_count": 22,
   "metadata": {},
   "outputs": [],
   "source": [
    "# т.к. мы делали merge \"налево\", то отсутствующие в присоединяемых таблицах данные должны образовать NA у нас\n",
    "# проверим такие значения, и заменим их на 0 - это значит, что услугами данного типа в этом месяце пользователь не пользовался\n",
    "df_used_monthly=df_used_monthly.fillna(0)\n",
    "\n",
    "# также переименуем столбцы\n",
    "df_used_monthly = df_used_monthly.rename({'count': 'calls_count', 'sum': 'minutes', 'id':'messages', 'sum_y':'mb_total'}, axis=1)"
   ]
  },
  {
   "cell_type": "code",
   "execution_count": 23,
   "metadata": {},
   "outputs": [
    {
     "data": {
      "text/html": [
       "<div>\n",
       "<style scoped>\n",
       "    .dataframe tbody tr th:only-of-type {\n",
       "        vertical-align: middle;\n",
       "    }\n",
       "\n",
       "    .dataframe tbody tr th {\n",
       "        vertical-align: top;\n",
       "    }\n",
       "\n",
       "    .dataframe thead th {\n",
       "        text-align: right;\n",
       "    }\n",
       "</style>\n",
       "<table border=\"1\" class=\"dataframe\">\n",
       "  <thead>\n",
       "    <tr style=\"text-align: right;\">\n",
       "      <th></th>\n",
       "      <th>user_id</th>\n",
       "      <th>month</th>\n",
       "      <th>calls_count</th>\n",
       "      <th>minutes</th>\n",
       "      <th>messages</th>\n",
       "      <th>mb_used</th>\n",
       "    </tr>\n",
       "  </thead>\n",
       "  <tbody>\n",
       "    <tr>\n",
       "      <td>0</td>\n",
       "      <td>1000</td>\n",
       "      <td>5</td>\n",
       "      <td>17</td>\n",
       "      <td>159</td>\n",
       "      <td>22.0</td>\n",
       "      <td>2256.0</td>\n",
       "    </tr>\n",
       "    <tr>\n",
       "      <td>1</td>\n",
       "      <td>1000</td>\n",
       "      <td>6</td>\n",
       "      <td>28</td>\n",
       "      <td>172</td>\n",
       "      <td>60.0</td>\n",
       "      <td>23257.0</td>\n",
       "    </tr>\n",
       "    <tr>\n",
       "      <td>2</td>\n",
       "      <td>1000</td>\n",
       "      <td>7</td>\n",
       "      <td>41</td>\n",
       "      <td>340</td>\n",
       "      <td>75.0</td>\n",
       "      <td>14016.0</td>\n",
       "    </tr>\n",
       "    <tr>\n",
       "      <td>3</td>\n",
       "      <td>1000</td>\n",
       "      <td>8</td>\n",
       "      <td>42</td>\n",
       "      <td>408</td>\n",
       "      <td>81.0</td>\n",
       "      <td>14070.0</td>\n",
       "    </tr>\n",
       "    <tr>\n",
       "      <td>4</td>\n",
       "      <td>1000</td>\n",
       "      <td>9</td>\n",
       "      <td>46</td>\n",
       "      <td>466</td>\n",
       "      <td>57.0</td>\n",
       "      <td>14581.0</td>\n",
       "    </tr>\n",
       "    <tr>\n",
       "      <td>5</td>\n",
       "      <td>1000</td>\n",
       "      <td>10</td>\n",
       "      <td>44</td>\n",
       "      <td>350</td>\n",
       "      <td>73.0</td>\n",
       "      <td>14717.0</td>\n",
       "    </tr>\n",
       "    <tr>\n",
       "      <td>6</td>\n",
       "      <td>1000</td>\n",
       "      <td>11</td>\n",
       "      <td>37</td>\n",
       "      <td>338</td>\n",
       "      <td>58.0</td>\n",
       "      <td>14768.0</td>\n",
       "    </tr>\n",
       "    <tr>\n",
       "      <td>7</td>\n",
       "      <td>1000</td>\n",
       "      <td>12</td>\n",
       "      <td>38</td>\n",
       "      <td>333</td>\n",
       "      <td>70.0</td>\n",
       "      <td>9827.0</td>\n",
       "    </tr>\n",
       "    <tr>\n",
       "      <td>8</td>\n",
       "      <td>1001</td>\n",
       "      <td>11</td>\n",
       "      <td>45</td>\n",
       "      <td>430</td>\n",
       "      <td>0.0</td>\n",
       "      <td>18452.0</td>\n",
       "    </tr>\n",
       "    <tr>\n",
       "      <td>9</td>\n",
       "      <td>1001</td>\n",
       "      <td>12</td>\n",
       "      <td>47</td>\n",
       "      <td>414</td>\n",
       "      <td>0.0</td>\n",
       "      <td>14053.0</td>\n",
       "    </tr>\n",
       "  </tbody>\n",
       "</table>\n",
       "</div>"
      ],
      "text/plain": [
       "   user_id  month  calls_count  minutes  messages  mb_used\n",
       "0     1000      5           17      159      22.0   2256.0\n",
       "1     1000      6           28      172      60.0  23257.0\n",
       "2     1000      7           41      340      75.0  14016.0\n",
       "3     1000      8           42      408      81.0  14070.0\n",
       "4     1000      9           46      466      57.0  14581.0\n",
       "5     1000     10           44      350      73.0  14717.0\n",
       "6     1000     11           37      338      58.0  14768.0\n",
       "7     1000     12           38      333      70.0   9827.0\n",
       "8     1001     11           45      430       0.0  18452.0\n",
       "9     1001     12           47      414       0.0  14053.0"
      ]
     },
     "execution_count": 23,
     "metadata": {},
     "output_type": "execute_result"
    }
   ],
   "source": [
    "df_used_monthly.reset_index(inplace=True, drop=False)\n",
    "df_used_monthly.head(10)"
   ]
  },
  {
   "cell_type": "markdown",
   "metadata": {},
   "source": [
    "Хорошо. Теперь посчитаем помесячную выручку с каждого пользователя."
   ]
  },
  {
   "cell_type": "code",
   "execution_count": 24,
   "metadata": {},
   "outputs": [],
   "source": [
    "# создадим функцию для прохода по строкам таблицы\n",
    "def count_money(row):\n",
    "    # собираем данные по пользованию услугами за месяц\n",
    "    user = row['user_id']\n",
    "    tariff = df_users.query('user_id == @user')['tariff'].item()\n",
    "    tariff_params = df_tariffs.query('tariff_name == @tariff')\n",
    "    minutes = row['minutes']\n",
    "    messages = row['messages']\n",
    "    mb_used = row['mb_used']\n",
    "    \n",
    "    # считаем перерасход за звонки, округляем в большую сторону\n",
    "    calls_mon = np.ceil((minutes - tariff_params['minutes_included'].item()))\n",
    "    # если пакет не был израсходован\n",
    "    if calls_mon < 0:\n",
    "        calls_mon = 0\n",
    "    # считаем сумму за перерасход\n",
    "    else:\n",
    "        calls_mon *= tariff_params['rub_per_minute'].item()\n",
    "        \n",
    "    # перерасход за сообщения\n",
    "    messages_mon = np.ceil((messages - tariff_params['messages_included'].item()))\n",
    "    if messages_mon < 0:\n",
    "        messages_mon = 0\n",
    "    else:\n",
    "        messages_mon *= tariff_params['rub_per_message'].item()\n",
    "    \n",
    "    # перерасход за интернет. МБ переведём сразу в Гб и округлим в большую сторону\n",
    "    inet_mon = np.ceil(((mb_used - tariff_params['mb_per_month_included'].item()) / 1024))\n",
    "    if inet_mon < 0:\n",
    "        inet_mon = 0\n",
    "    else:\n",
    "        inet_mon *= tariff_params['rub_per_gb'].item()\n",
    "    \n",
    "    # считаем общий счёт за месяц\n",
    "    monthly_bill = calls_mon + messages_mon + inet_mon + tariff_params['rub_monthly_fee'].item()\n",
    "    return monthly_bill"
   ]
  },
  {
   "cell_type": "code",
   "execution_count": 25,
   "metadata": {},
   "outputs": [
    {
     "name": "stderr",
     "output_type": "stream",
     "text": [
      "/opt/conda/lib/python3.7/site-packages/ipykernel_launcher.py:5: FutureWarning: `item` has been deprecated and will be removed in a future version\n",
      "  \"\"\"\n",
      "/opt/conda/lib/python3.7/site-packages/ipykernel_launcher.py:12: FutureWarning: `item` has been deprecated and will be removed in a future version\n",
      "  if sys.path[0] == '':\n",
      "/opt/conda/lib/python3.7/site-packages/ipykernel_launcher.py:21: FutureWarning: `item` has been deprecated and will be removed in a future version\n",
      "/opt/conda/lib/python3.7/site-packages/ipykernel_launcher.py:28: FutureWarning: `item` has been deprecated and will be removed in a future version\n",
      "/opt/conda/lib/python3.7/site-packages/ipykernel_launcher.py:35: FutureWarning: `item` has been deprecated and will be removed in a future version\n",
      "/opt/conda/lib/python3.7/site-packages/ipykernel_launcher.py:32: FutureWarning: `item` has been deprecated and will be removed in a future version\n",
      "/opt/conda/lib/python3.7/site-packages/ipykernel_launcher.py:18: FutureWarning: `item` has been deprecated and will be removed in a future version\n",
      "/opt/conda/lib/python3.7/site-packages/ipykernel_launcher.py:25: FutureWarning: `item` has been deprecated and will be removed in a future version\n"
     ]
    }
   ],
   "source": [
    "# применим функцию и запишем её результат в отдельный столбец\n",
    "# Я не нашёл способа работать с одним значением в Series, кроме метода .item()...\n",
    "# Но он выдаёт ошибки ниже, хотя и работает\n",
    "\n",
    "df_used_monthly['bill'] = df_used_monthly.apply(count_money, axis = 1)"
   ]
  },
  {
   "cell_type": "code",
   "execution_count": 26,
   "metadata": {},
   "outputs": [
    {
     "data": {
      "text/html": [
       "<div>\n",
       "<style scoped>\n",
       "    .dataframe tbody tr th:only-of-type {\n",
       "        vertical-align: middle;\n",
       "    }\n",
       "\n",
       "    .dataframe tbody tr th {\n",
       "        vertical-align: top;\n",
       "    }\n",
       "\n",
       "    .dataframe thead th {\n",
       "        text-align: right;\n",
       "    }\n",
       "</style>\n",
       "<table border=\"1\" class=\"dataframe\">\n",
       "  <thead>\n",
       "    <tr style=\"text-align: right;\">\n",
       "      <th></th>\n",
       "      <th>user_id</th>\n",
       "      <th>month</th>\n",
       "      <th>calls_count</th>\n",
       "      <th>minutes</th>\n",
       "      <th>messages</th>\n",
       "      <th>mb_used</th>\n",
       "      <th>bill</th>\n",
       "    </tr>\n",
       "  </thead>\n",
       "  <tbody>\n",
       "    <tr>\n",
       "      <td>0</td>\n",
       "      <td>1000</td>\n",
       "      <td>5</td>\n",
       "      <td>17</td>\n",
       "      <td>159</td>\n",
       "      <td>22.0</td>\n",
       "      <td>2256.0</td>\n",
       "      <td>1950.0</td>\n",
       "    </tr>\n",
       "    <tr>\n",
       "      <td>1</td>\n",
       "      <td>1000</td>\n",
       "      <td>6</td>\n",
       "      <td>28</td>\n",
       "      <td>172</td>\n",
       "      <td>60.0</td>\n",
       "      <td>23257.0</td>\n",
       "      <td>1950.0</td>\n",
       "    </tr>\n",
       "    <tr>\n",
       "      <td>2</td>\n",
       "      <td>1000</td>\n",
       "      <td>7</td>\n",
       "      <td>41</td>\n",
       "      <td>340</td>\n",
       "      <td>75.0</td>\n",
       "      <td>14016.0</td>\n",
       "      <td>1950.0</td>\n",
       "    </tr>\n",
       "    <tr>\n",
       "      <td>3</td>\n",
       "      <td>1000</td>\n",
       "      <td>8</td>\n",
       "      <td>42</td>\n",
       "      <td>408</td>\n",
       "      <td>81.0</td>\n",
       "      <td>14070.0</td>\n",
       "      <td>1950.0</td>\n",
       "    </tr>\n",
       "    <tr>\n",
       "      <td>4</td>\n",
       "      <td>1000</td>\n",
       "      <td>9</td>\n",
       "      <td>46</td>\n",
       "      <td>466</td>\n",
       "      <td>57.0</td>\n",
       "      <td>14581.0</td>\n",
       "      <td>1950.0</td>\n",
       "    </tr>\n",
       "    <tr>\n",
       "      <td>5</td>\n",
       "      <td>1000</td>\n",
       "      <td>10</td>\n",
       "      <td>44</td>\n",
       "      <td>350</td>\n",
       "      <td>73.0</td>\n",
       "      <td>14717.0</td>\n",
       "      <td>1950.0</td>\n",
       "    </tr>\n",
       "    <tr>\n",
       "      <td>6</td>\n",
       "      <td>1000</td>\n",
       "      <td>11</td>\n",
       "      <td>37</td>\n",
       "      <td>338</td>\n",
       "      <td>58.0</td>\n",
       "      <td>14768.0</td>\n",
       "      <td>1950.0</td>\n",
       "    </tr>\n",
       "    <tr>\n",
       "      <td>7</td>\n",
       "      <td>1000</td>\n",
       "      <td>12</td>\n",
       "      <td>38</td>\n",
       "      <td>333</td>\n",
       "      <td>70.0</td>\n",
       "      <td>9827.0</td>\n",
       "      <td>1950.0</td>\n",
       "    </tr>\n",
       "    <tr>\n",
       "      <td>8</td>\n",
       "      <td>1001</td>\n",
       "      <td>11</td>\n",
       "      <td>45</td>\n",
       "      <td>430</td>\n",
       "      <td>0.0</td>\n",
       "      <td>18452.0</td>\n",
       "      <td>1350.0</td>\n",
       "    </tr>\n",
       "    <tr>\n",
       "      <td>9</td>\n",
       "      <td>1001</td>\n",
       "      <td>12</td>\n",
       "      <td>47</td>\n",
       "      <td>414</td>\n",
       "      <td>0.0</td>\n",
       "      <td>14053.0</td>\n",
       "      <td>550.0</td>\n",
       "    </tr>\n",
       "  </tbody>\n",
       "</table>\n",
       "</div>"
      ],
      "text/plain": [
       "   user_id  month  calls_count  minutes  messages  mb_used    bill\n",
       "0     1000      5           17      159      22.0   2256.0  1950.0\n",
       "1     1000      6           28      172      60.0  23257.0  1950.0\n",
       "2     1000      7           41      340      75.0  14016.0  1950.0\n",
       "3     1000      8           42      408      81.0  14070.0  1950.0\n",
       "4     1000      9           46      466      57.0  14581.0  1950.0\n",
       "5     1000     10           44      350      73.0  14717.0  1950.0\n",
       "6     1000     11           37      338      58.0  14768.0  1950.0\n",
       "7     1000     12           38      333      70.0   9827.0  1950.0\n",
       "8     1001     11           45      430       0.0  18452.0  1350.0\n",
       "9     1001     12           47      414       0.0  14053.0   550.0"
      ]
     },
     "execution_count": 26,
     "metadata": {},
     "output_type": "execute_result"
    }
   ],
   "source": [
    "df_used_monthly.head(10)"
   ]
  },
  {
   "cell_type": "markdown",
   "metadata": {},
   "source": [
    "### Вывод\n",
    "В соответсвии с целями исследования, была проведена обработка данных. В результате сформирована таблица со средними показателями пользованиям услугами для каждого пользователя, разбитые по месяцам.\n",
    "Эти данные будут использоваться для дальнейшего анализа."
   ]
  },
  {
   "cell_type": "markdown",
   "metadata": {},
   "source": [
    "## 3. Анализ данных"
   ]
  },
  {
   "cell_type": "markdown",
   "metadata": {},
   "source": [
    "Опишите поведение клиентов оператора, исходя из выборки. Сколько минут разговора, сколько сообщений и какой объём интернет-трафика требуется пользователям каждого тарифа в месяц? Посчитайте среднее количество, дисперсию и стандартное отклонение. Постройте гистограммы. Опишите распределения."
   ]
  },
  {
   "cell_type": "code",
   "execution_count": 27,
   "metadata": {},
   "outputs": [],
   "source": [
    "# создадим массивы с ID пользователей разных тарифов\n",
    "smart_users = df_users.query('tariff == \"smart\"')['user_id'].unique()\n",
    "ultra_users = df_users.query('tariff == \"ultra\"')['user_id'].unique()"
   ]
  },
  {
   "cell_type": "code",
   "execution_count": 28,
   "metadata": {},
   "outputs": [],
   "source": [
    "# разобьём таблицу с данными по месяцам на две, исходя из спользованных тарифов\n",
    "smart_monthly = df_used_monthly.query('user_id in @smart_users')\n",
    "ultra_monthly = df_used_monthly.query('user_id in @ultra_users')"
   ]
  },
  {
   "cell_type": "code",
   "execution_count": 29,
   "metadata": {},
   "outputs": [],
   "source": [
    "# и сгруппируем даныне по пользователям, чтобы посмотреть среднее использование сервисов по пользователям\n",
    "smart_users_mean = smart_monthly.pivot_table(index='user_id', values = ('minutes', 'messages', 'mb_used', 'bill'), aggfunc='mean').reset_index()\n",
    "ultra_users_mean = ultra_monthly.pivot_table(index='user_id', values = ('minutes', 'messages', 'mb_used', 'bill'), aggfunc='mean').reset_index()"
   ]
  },
  {
   "cell_type": "markdown",
   "metadata": {},
   "source": [
    "У нас получились два датафрейма со средним использованием услуг оператора по каждому пользователю.\n",
    "\n",
    "Изучим поведение пользователей.\n",
    "Для начала, посмотрим на распределение среднего счёта по пользователям разных тарифов."
   ]
  },
  {
   "cell_type": "code",
   "execution_count": 30,
   "metadata": {},
   "outputs": [
    {
     "data": {
      "text/plain": [
       "<matplotlib.legend.Legend at 0x7fc265fb1810>"
      ]
     },
     "execution_count": 30,
     "metadata": {},
     "output_type": "execute_result"
    },
    {
     "data": {
      "image/png": "[encoded data removed]",
      "text/plain": [
       "<Figure size 1080x576 with 1 Axes>"
      ]
     },
     "metadata": {},
     "output_type": "display_data"
    }
   ],
   "source": [
    "#построим графики по среднему счёту\n",
    "ax = smart_users_mean['bill'].hist(bins=20, figsize=(15,8), label='Smart', alpha=0.5)\n",
    "ultra_users_mean['bill'].hist(ax=ax, bins=10, label='Ultra', alpha=0.5)\n",
    "\n",
    "ax.set_xlabel('Bill')\n",
    "ax.set_ylabel('Users')\n",
    "ax.set_title('Mean monthly bill per user')\n",
    "plt.legend()"
   ]
  },
  {
   "cell_type": "markdown",
   "metadata": {},
   "source": [
    "Можно сделать вывод, что пользователям тарифа Smart часто не хватает включённых в абонентскую плату пакетов. Видно, что большинство пользователей Smart активируют услуги \"сверх\" и месячный счёт для многих выше абонентской платы. Хотя есть и те, кому хватает.\n",
    "\n",
    "А вот среди пользователей тарифа Ultra, наоборот - подавляющему большинству хватает включённых в тариф услуг. Хотя также есть пользователи, кто услуги докупает.\n",
    "\n",
    "Теперь посмотрим, а какие вообще потребности у пользователей разных тарифов.\n",
    "Посчитаем среднее и дисперсию для разных использованных услуг. Так как у нас весьма ограниченный набор данных, все характеристики будут являться статистиками для генеральной совокупности всех пользователей каждого тарифа."
   ]
  },
  {
   "cell_type": "code",
   "execution_count": 31,
   "metadata": {},
   "outputs": [],
   "source": [
    "# рассчёты сохраним в отдельный фрейм\n",
    "tariffs_stats = pd.DataFrame()\n",
    "tariffs_stats['tariff'] = ['Smart', 'Ultra']\n",
    "\n",
    "# считаем разом для всех значений\n",
    "for elems in ['minutes', 'messages', 'mb_used', 'bill']:\n",
    "    # среднее значение\n",
    "    tariffs_stats['{}_mean'.format(elems)] = [smart_users_mean[elems].mean(), ultra_users_mean[elems].mean()]\n",
    "    # дисперсия по выборке\n",
    "    tariffs_stats['{}_var'.format(elems)] = [np.var(smart_users_mean[elems], ddof=1), np.var(ultra_users_mean[elems], ddof=1)]\n",
    "    # стандартное отклонение\n",
    "    tariffs_stats['{}_std'.format(elems)] = tariffs_stats['{}_var'.format(elems)] ** 0.5\n",
    "    # округлим\n",
    "    tariffs_stats = tariffs_stats.round(1)"
   ]
  },
  {
   "cell_type": "code",
   "execution_count": 40,
   "metadata": {},
   "outputs": [
    {
     "data": {
      "text/html": [
       "<div>\n",
       "<style scoped>\n",
       "    .dataframe tbody tr th:only-of-type {\n",
       "        vertical-align: middle;\n",
       "    }\n",
       "\n",
       "    .dataframe tbody tr th {\n",
       "        vertical-align: top;\n",
       "    }\n",
       "\n",
       "    .dataframe thead th {\n",
       "        text-align: right;\n",
       "    }\n",
       "</style>\n",
       "<table border=\"1\" class=\"dataframe\">\n",
       "  <thead>\n",
       "    <tr style=\"text-align: right;\">\n",
       "      <th></th>\n",
       "      <th>tariff</th>\n",
       "      <th>minutes_mean</th>\n",
       "      <th>minutes_var</th>\n",
       "      <th>minutes_std</th>\n",
       "      <th>messages_mean</th>\n",
       "      <th>messages_var</th>\n",
       "      <th>messages_std</th>\n",
       "      <th>mb_used_mean</th>\n",
       "      <th>mb_used_var</th>\n",
       "      <th>mb_used_std</th>\n",
       "      <th>bill_mean</th>\n",
       "      <th>bill_var</th>\n",
       "      <th>bill_std</th>\n",
       "    </tr>\n",
       "  </thead>\n",
       "  <tbody>\n",
       "    <tr>\n",
       "      <td>0</td>\n",
       "      <td>Smart</td>\n",
       "      <td>420.8</td>\n",
       "      <td>20578.3</td>\n",
       "      <td>143.5</td>\n",
       "      <td>32.4</td>\n",
       "      <td>704.9</td>\n",
       "      <td>26.6</td>\n",
       "      <td>16205.8</td>\n",
       "      <td>12926754.9</td>\n",
       "      <td>3595.4</td>\n",
       "      <td>1331.3</td>\n",
       "      <td>369738.5</td>\n",
       "      <td>608.1</td>\n",
       "    </tr>\n",
       "    <tr>\n",
       "      <td>1</td>\n",
       "      <td>Ultra</td>\n",
       "      <td>547.0</td>\n",
       "      <td>71872.1</td>\n",
       "      <td>268.1</td>\n",
       "      <td>54.0</td>\n",
       "      <td>2076.6</td>\n",
       "      <td>45.6</td>\n",
       "      <td>19556.8</td>\n",
       "      <td>70324666.7</td>\n",
       "      <td>8386.0</td>\n",
       "      <td>2087.0</td>\n",
       "      <td>92339.8</td>\n",
       "      <td>303.9</td>\n",
       "    </tr>\n",
       "  </tbody>\n",
       "</table>\n",
       "</div>"
      ],
      "text/plain": [
       "  tariff  minutes_mean  minutes_var  minutes_std  messages_mean  messages_var  \\\n",
       "0  Smart         420.8      20578.3        143.5           32.4         704.9   \n",
       "1  Ultra         547.0      71872.1        268.1           54.0        2076.6   \n",
       "\n",
       "   messages_std  mb_used_mean  mb_used_var  mb_used_std  bill_mean  bill_var  \\\n",
       "0          26.6       16205.8   12926754.9       3595.4     1331.3  369738.5   \n",
       "1          45.6       19556.8   70324666.7       8386.0     2087.0   92339.8   \n",
       "\n",
       "   bill_std  \n",
       "0     608.1  \n",
       "1     303.9  "
      ]
     },
     "execution_count": 40,
     "metadata": {},
     "output_type": "execute_result"
    }
   ],
   "source": [
    "tariffs_stats"
   ]
  },
  {
   "cell_type": "markdown",
   "metadata": {},
   "source": [
    "Для наглядности, сразу построим и графики распределения."
   ]
  },
  {
   "cell_type": "code",
   "execution_count": 33,
   "metadata": {},
   "outputs": [],
   "source": [
    "# функция для построения графиков распределения\n",
    "def plot_users_needs(nbins=50):\n",
    "    for cols in ['minutes', 'messages', 'mb_used']:\n",
    "        sns.set(style = 'darkgrid')\n",
    "        plt.figure(figsize=(17,8))\n",
    "        ax= sns.distplot(ultra_users_mean[cols], bins=nbins, label='Ultra')\n",
    "        sns.distplot(smart_users_mean[cols], bins=nbins, label='Smart', ax=ax)\n",
    "        ax.set_title('Monthly {} usage distribution'.format(cols))\n",
    "        plt.legend()\n",
    "        plt.show()"
   ]
  },
  {
   "cell_type": "code",
   "execution_count": 34,
   "metadata": {},
   "outputs": [
    {
     "data": {
      "image/png": "[encoded data removed]",
      "text/plain": [
       "<Figure size 1224x576 with 1 Axes>"
      ]
     },
     "metadata": {},
     "output_type": "display_data"
    },
    {
     "data": {
      "image/png": "[encoded data removed]",
      "text/plain": [
       "<Figure size 1224x576 with 1 Axes>"
      ]
     },
     "metadata": {},
     "output_type": "display_data"
    },
    {
     "data": {
      "image/png": "[encoded data removed]",
      "text/plain": [
       "<Figure size 1224x576 with 1 Axes>"
      ]
     },
     "metadata": {},
     "output_type": "display_data"
    }
   ],
   "source": [
    "plot_users_needs()"
   ]
  },
  {
   "cell_type": "markdown",
   "metadata": {},
   "source": [
    "### Выводы:\n",
    "1. Распределения использованных минут является нормальным распределением. Средние значения для обоих тарифов не сильно отличаются (420 и 540). А вот стандартное отклонение для пользователей Ultra почти в 2 раза больше, чем у пользователей Smart. Это очевидно и на графике - распределение Ultra более \"плоское\" - значения более разбросаны.\n",
    "    Однако интересно, что включённые 3000 минут в Ultra никто их нашей выборки не выговаривает. И по правилу \"3Хсигма\", врятли кто-то из пользователей этого тарифа в принципе использует все 3000 минут.\n",
    "\n",
    "2. Распределения отправленных сообщений являются скошенными влево. Это связано с тем, что многие пользователи вовсе не пользователись сообщениями (0 сообщений или около того за месяц). В среднем, на Ultra сообщений отправляют больше, однако для данного тарифа пропорционально больше и стандартное отклонение. \n",
    "\n",
    "3. Пользователи обоих тарифов используют интернет примерно одинаково - в среднем 16 и 19 Гб в месяц. Однако, учитывая отклонения, пользователи Smart видимо являются более активными пользователями интернет, т.к. 99% из них потребляют от 6 ГБ (std=3.5). Средняя величина чуть больше лимиту по тарифу (15 Гб), что подтверждает теорию о том, что пользователям Smart как правило не хватает включённого в тариф трафика.\n",
    "    А вот пользователи Ultra, хоть и имеют средний трафик немного выше, но и отклонение отличается от Smart почти в 3 раза. При этом пользователи Ultra в большинстве не превышают тарифные 30Гб в месяц, хотя есть и те, кто докупал пакеты. \n",
    "    \n",
    "4. Несмотря на абонентскую плату всего 550р., средний счёт по тарифу Smart равен 1331 р., т.е. более чем в 2 раза выше! Пользователям явно не хватает включённых в тариф услуг.\n",
    "    А вот для Ultra, средний счёт (2087 р.) не сильно отличается от абонентской платы - т.е. пользователям Ultra как правило хватает включённых услуг."
   ]
  },
  {
   "cell_type": "markdown",
   "metadata": {},
   "source": [
    "## 4. Проверка гипотез"
   ]
  },
  {
   "cell_type": "markdown",
   "metadata": {},
   "source": [
    "Необходимо проверить гипотезы:\n",
    "1. Средняя выручка пользователей тарифов «Ультра» и «Смарт» различается.\n",
    "2. Средняя выручка пользователей из Москвы отличается от выручки пользователей из других регионов."
   ]
  },
  {
   "cell_type": "markdown",
   "metadata": {},
   "source": [
    "### 1. Средняя выручка пользователей тарифов «Ультра» и «Смарт» различается.\n",
    "\n",
    "Сформулируем двусторонние гипотезы.\n",
    "\n",
    "Ho: \"Средняя выручка Ультра равна средняя выручка Смарт.\"\n",
    "\n",
    "H1: \"Средние выручки по тарифам не равны\""
   ]
  },
  {
   "cell_type": "code",
   "execution_count": 35,
   "metadata": {},
   "outputs": [
    {
     "name": "stdout",
     "output_type": "stream",
     "text": [
      "p-значение: 8.727266062008599e-241\n",
      "Отвергаем нулевую гипотезу\n"
     ]
    }
   ],
   "source": [
    "# задаём значимость в 10%\n",
    "alpha = 0.05\n",
    "\n",
    "# t-test для данных по двум тарифам, с учётом разных дисперсий\n",
    "results = st.ttest_ind(\n",
    "    ultra_monthly['bill'],\n",
    "    smart_monthly['bill'],\n",
    "    equal_var=False\n",
    ")\n",
    "\n",
    "print('p-значение:', results.pvalue)\n",
    "\n",
    "if (results.pvalue < alpha):\n",
    "    print(\"Отвергаем нулевую гипотезу\")\n",
    "else:\n",
    "    print(\"Не получилось отвергнуть нулевую гипотезу\")"
   ]
  },
  {
   "cell_type": "markdown",
   "metadata": {},
   "source": [
    "Получается, что нулевая гипотеза крайне маловероятна. А значит скорее всего, альтернативная гипотеза об отличии выручки по тарифам верна."
   ]
  },
  {
   "cell_type": "markdown",
   "metadata": {},
   "source": [
    "### 2. Средняя выручка пользователей из Москвы отличается от выручки пользователей из других регионов.\n",
    "\n",
    "Ho: \"Средняя выручка пользователей из Москвы равна средней выручке других пользователей\"\n",
    "\n",
    "\n",
    "H1: \"Средняя выручка пользователей из Москвы больше средней выручки по другим регионам\"\n",
    "\n",
    "Альтернативная гипотеза сформулирована исходя из предположения, что в столице люди тратят больше денег на всё, в том числе связь."
   ]
  },
  {
   "cell_type": "code",
   "execution_count": 36,
   "metadata": {},
   "outputs": [
    {
     "name": "stdout",
     "output_type": "stream",
     "text": [
      "p-значение: 0.4252867781930174\n",
      "Не получилось отвергнуть нулевую гипотезу\n"
     ]
    }
   ],
   "source": [
    "# для проверки гипотезы, нам необходимо подготовить данные по счетам пользователей из Москвы и других регионов раздельно\n",
    "# сформируем массив с ID москвичей\n",
    "moscow_users = df_users.query('city == \"Москва\"')['user_id']\n",
    "\n",
    "# возьмём массивы с помесячными счетами москвичей и остальных\n",
    "moscow_bills = df_used_monthly.query('user_id in @moscow_users')['bill']\n",
    "other_bills = df_used_monthly.query('user_id not in @moscow_users')['bill']\n",
    "\n",
    "alpha = 0.05\n",
    "results = st.ttest_ind(\n",
    "    moscow_bills,\n",
    "    other_bills,\n",
    "    equal_var=False\n",
    ")\n",
    "\n",
    "print('p-значение:', results.pvalue)\n",
    "\n",
    "# тест односторонний, вправо\n",
    "if (results.pvalue/2 < alpha) and (moscow_bills.mean() > other_bills.mean()):\n",
    "    print(\"Отвергаем нулевую гипотезу\")\n",
    "else:\n",
    "    print(\"Не получилось отвергнуть нулевую гипотезу\")"
   ]
  },
  {
   "cell_type": "markdown",
   "metadata": {},
   "source": [
    "Гипотезу Ho отвергнуть не получилось. Похоже, что с большой вероятностью, пользователи в Москве тратят примерно столько же на связь, что и в других регионах."
   ]
  },
  {
   "cell_type": "markdown",
   "metadata": {},
   "source": [
    "### Вывод:\n",
    "1. Гипотеза о равенстве средней выручки с пользователей двух тарифов не подтвердилась. \n",
    "2. Гипотезу о равенстве средней выручки пользователей Москвы и других регионов отвергнуть не получилось."
   ]
  },
  {
   "cell_type": "markdown",
   "metadata": {},
   "source": [
    "## 5. Общий вывод"
   ]
  },
  {
   "cell_type": "markdown",
   "metadata": {},
   "source": [
    "В ходе работы были изучены данные о пользовании услугами связи по двум тарифам - Smart и Ultra. Предоставленные данные содержали информацию о 500 пользователях этих тарифов.\n",
    "\n",
    "Данные были предварительно проанализированы и обработаны. Приведены объяснения возможных аномалий, значения отформатированы.\n",
    "\n",
    "В соответствии с целями исследования, были проведены рассчёты:\n",
    "* количество сделанных звонков и израсходованных минут разговора по месяцам;\n",
    "* количество отправленных сообщений по месяцам;\n",
    "* объем израсходованного интернет-трафика по месяцам;\n",
    "* помесячную выручку с каждого пользователя\n",
    "По результатам была сформирована отдельная таблица с данными рассчётов.\n",
    "\n",
    "Далее было изучено поведение пользователей разных тарифов - сколько в месяц потребляют услуг каждые из них. Были рассчитаны средние значения разных сервисов, дисперсия и стандартное отклонение. Также были построены графики распределения по использованным значения и проанализированы.\n",
    "Можно сделать вывод, что пользователям тарифа Smart часто не хватает включённых в абонентскую плату пакетов. Видно, что большинство пользователей Smart активируют услуги \"сверх\" и месячный счёт для многих выше абонентской платы.\n",
    "А вот пользователи Ultra редко \"вычерпывают\" свои лимиты - большинство укладывается во включенные в абон.плату сервисы.\n",
    "\n",
    "Также можно отметить, что стандартное отклонение использования услуг для тарифа Ultra значительно больше, чем для тарифа Smart. Это может свидетельствовать о том, что поведение пользователей тарифа Ultra различно - вероятно этот тариф используют те, кому необходимы большие лимиты по какой-то из услуг (например, интернет), а другие сервисы используются меньше.\n",
    "А вот поведение пользователей Smart более стандартно - дисперсия существенно меньше.\n",
    "\n",
    "Далее в работе были проверены две гипотезы. Для каждой были сформулированы нулевая и альтернативные гипотезы, проведён t-тест. \n",
    "Статистическая значимость для обоих тестов была выбрана в 5%. \n",
    "1. Гипотеза 1: \"Средняя выручка пользователей тарифов «Ультра» и «Смарт» различается.\" Гипотеза не отвергнута, выручки пользователей тарифов различаются с высокой вероятностью.\n",
    "2. Гипотеза 2: \"Средняя выручка пользователей из Москвы отличается от выручки пользователей из других регионов\". Гипотеза не подтвердилась. Выручка пользователей Москвы вероятно не сильно отличается от выручки пользователей других регионов.\n",
    "\n",
    "Выбрать \"лучший\" тариф из этих двух не представляется возможным. В тарифе \"Smart\" слишком мало включённых сервисов - большинству пользователей приходится докупать доп. пакеты. А в тарифе Ultra наоборот, лимиты избыточны - мало кто из пользователей их \"вычерпывает\".\n",
    "\n",
    "Оптимальным вариантом видится введение нового тарифа, среднего между имеющимися."
   ]
  },
  {
   "cell_type": "code",
   "execution_count": null,
   "metadata": {},
   "outputs": [],
   "source": []
  }
 ],
 "metadata": {
  "kernelspec": {
   "display_name": "Python 3",
   "language": "python",
   "name": "python3"
  },
  "language_info": {
   "codemirror_mode": {
    "name": "ipython",
    "version": 3
   },
   "file_extension": ".py",
   "mimetype": "text/x-python",
   "name": "python",
   "nbconvert_exporter": "python",
   "pygments_lexer": "ipython3",
   "version": "3.7.7"
  }
 },
 "nbformat": 4,
 "nbformat_minor": 2
}
