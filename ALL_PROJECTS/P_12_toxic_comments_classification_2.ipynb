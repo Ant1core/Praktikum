{
 "cells": [
  {
   "cell_type": "markdown",
   "metadata": {},
   "source": [
    "# Проект 12. Определение тональности (токсичности) текста"
   ]
  },
  {
   "cell_type": "code",
   "execution_count": null,
   "metadata": {},
   "outputs": [],
   "source": []
  },
  {
   "cell_type": "markdown",
   "metadata": {},
   "source": [
    "Нужен инструмент, который будет искать токсичные комментарии и отправлять их на модерацию. <br/>\n",
    "Необходимо обучить модель классифицировать комментарии на позитивные и негативные. Имеется набор данных с разметкой о токсичности правок.\n",
    "Необходиио построитб модель со значением метрики качества F1 не меньше 0.75."
   ]
  },
  {
   "cell_type": "code",
   "execution_count": 1,
   "metadata": {},
   "outputs": [],
   "source": [
    "import pandas as pd\n",
    "import numpy as np\n",
    "import joblib\n",
    "import matplotlib.pyplot as plt\n",
    "import seaborn as sns\n",
    "from scipy import stats as st\n",
    "\n",
    "from tqdm import notebook\n",
    "\n",
    "from sklearn.feature_extraction.text import TfidfVectorizer\n",
    "from sklearn.model_selection import train_test_split\n",
    "from sklearn.model_selection import GridSearchCV\n",
    "from sklearn.utils import shuffle\n",
    "\n",
    "from sklearn.linear_model import LogisticRegression\n",
    "from sklearn.ensemble import RandomForestClassifier, AdaBoostClassifier\n",
    "from sklearn.tree import DecisionTreeClassifier\n",
    "from sklearn.svm import LinearSVC\n",
    "from sklearn.neighbors import KNeighborsClassifier\n",
    "from sklearn.naive_bayes import MultinomialNB\n",
    "from sklearn.linear_model import SGDClassifier\n",
    "\n",
    "import lightgbm as lgb\n",
    "import catboost as cb\n",
    "\n",
    "from sklearn.metrics import f1_score\n",
    "from sklearn.metrics import roc_curve\n",
    "from sklearn.metrics import roc_auc_score\n",
    "\n",
    "import re\n",
    "from gensim.parsing.preprocessing import remove_stopwords\n",
    "\n",
    "import nltk\n",
    "from nltk.stem import PorterStemmer, LancasterStemmer, WordNetLemmatizer\n",
    "from nltk.tokenize import sent_tokenize, word_tokenize\n",
    "from nltk.corpus import wordnet\n",
    "\n",
    "import imblearn\n",
    "\n",
    "import spacy"
   ]
  },
  {
   "cell_type": "code",
   "execution_count": 2,
   "metadata": {},
   "outputs": [],
   "source": [
    "#import nltk\n",
    "#nltk.download()"
   ]
  },
  {
   "cell_type": "code",
   "execution_count": 3,
   "metadata": {},
   "outputs": [],
   "source": [
    "try:\n",
    "    data = pd.read_csv(\"g:/Projects/praktikum/datasets/toxic_comments.csv\")\n",
    "except:\n",
    "    data = pd.read_csv('/datasets/toxic_comments.csv')"
   ]
  },
  {
   "cell_type": "code",
   "execution_count": 4,
   "metadata": {},
   "outputs": [
    {
     "name": "stdout",
     "output_type": "stream",
     "text": [
      "<class 'pandas.core.frame.DataFrame'>\n",
      "RangeIndex: 159571 entries, 0 to 159570\n",
      "Data columns (total 2 columns):\n",
      " #   Column  Non-Null Count   Dtype \n",
      "---  ------  --------------   ----- \n",
      " 0   text    159571 non-null  object\n",
      " 1   toxic   159571 non-null  int64 \n",
      "dtypes: int64(1), object(1)\n",
      "memory usage: 2.4+ MB\n"
     ]
    }
   ],
   "source": [
    "data.info()"
   ]
  },
  {
   "cell_type": "markdown",
   "metadata": {},
   "source": [
    "Имеем корпус из 160к твитов.\n",
    "* text - текст твита\n",
    "* toxic - признак токсичности текста"
   ]
  },
  {
   "cell_type": "markdown",
   "metadata": {},
   "source": [
    "# 1. Обработка данных"
   ]
  },
  {
   "cell_type": "markdown",
   "metadata": {},
   "source": [
    "Предобработку данных будем осуществлять по следующей схеме (для каждой строки):\n",
    "1. Токенизируем текст\n",
    "2. Лемматизируем токены, используя Spacy\n",
    "3. Удаляем из лемматизированного текста стоп-слова, используя Gensim.\n",
    "4. Очищаем текст от лишних символов, за исключением букв английского алфавита и пробелов, c помощью Re."
   ]
  },
  {
   "cell_type": "code",
   "execution_count": 5,
   "metadata": {},
   "outputs": [],
   "source": [
    "# грузим английскую модель Spacy\n",
    "nlp = spacy.load('en')"
   ]
  },
  {
   "cell_type": "code",
   "execution_count": 6,
   "metadata": {},
   "outputs": [],
   "source": [
    "def clear_text(row):\n",
    "    text = row['text']\n",
    "    \n",
    "    # токенизация\n",
    "    tokens = nlp(text)\n",
    "    lemm_result = []\n",
    "    \n",
    "    # лемматизация\n",
    "    lemms_line = \" \".join([token.lemma_ for token in tokens])\n",
    "    \n",
    "    # удаление стоп-слов\n",
    "    text_no_sw = remove_stopwords(lemms_line)\n",
    "    \n",
    "    # очистка от мусора\n",
    "    clear_lemms = re.sub(r'[^a-zA-Z]', ' ', text_no_sw)\n",
    "    clear_text = \" \".join(clear_lemms.split())\n",
    "   \n",
    "    return clear_text"
   ]
  },
  {
   "cell_type": "code",
   "execution_count": 7,
   "metadata": {},
   "outputs": [
    {
     "name": "stderr",
     "output_type": "stream",
     "text": [
      "G:\\Anaconda\\lib\\site-packages\\tqdm\\std.py:668: FutureWarning: The Panel class is removed from pandas. Accessing it from the top-level namespace will also be removed in the next version\n",
      "  from pandas import Panel\n"
     ]
    },
    {
     "data": {
      "application/vnd.jupyter.widget-view+json": {
       "model_id": "9e1d25f53c4840829fe31504e842fd1e",
       "version_major": 2,
       "version_minor": 0
      },
      "text/plain": [
       "HBox(children=(FloatProgress(value=0.0, max=159571.0), HTML(value='')))"
      ]
     },
     "metadata": {},
     "output_type": "display_data"
    },
    {
     "name": "stdout",
     "output_type": "stream",
     "text": [
      "\n"
     ]
    }
   ],
   "source": [
    "notebook.tqdm.pandas()\n",
    "data['clear_lemms'] = data.progress_apply(clear_text, axis=1)"
   ]
  },
  {
   "cell_type": "code",
   "execution_count": 8,
   "metadata": {},
   "outputs": [],
   "source": [
    "# выгружаем расширенный фрейм, чтобы не делать обработку каждый раз\n",
    "data.to_csv('toxic_c_clear2.csv', index=False)"
   ]
  },
  {
   "cell_type": "markdown",
   "metadata": {},
   "source": [
    "Загрузим подготовленный файл, с очищенным текстом."
   ]
  },
  {
   "cell_type": "code",
   "execution_count": 9,
   "metadata": {},
   "outputs": [
    {
     "name": "stdout",
     "output_type": "stream",
     "text": [
      "<class 'pandas.core.frame.DataFrame'>\n",
      "Int64Index: 159518 entries, 0 to 159570\n",
      "Data columns (total 3 columns):\n",
      " #   Column       Non-Null Count   Dtype \n",
      "---  ------       --------------   ----- \n",
      " 0   text         159518 non-null  object\n",
      " 1   toxic        159518 non-null  int64 \n",
      " 2   clear_lemms  159518 non-null  object\n",
      "dtypes: int64(1), object(2)\n",
      "memory usage: 4.9+ MB\n"
     ]
    }
   ],
   "source": [
    "data=pd.read_csv('toxic_c_clear2.csv')\n",
    "\n",
    "#некоторые твиты в исходных данных были некорректны, и в результате получили пустые строки с леммами - выбрасываем\n",
    "data.dropna(inplace=True)\n",
    "\n",
    "data.info()"
   ]
  },
  {
   "cell_type": "code",
   "execution_count": 10,
   "metadata": {},
   "outputs": [
    {
     "data": {
      "text/plain": [
       "array(['explanation edit PRON username Hardcore Metallica Fan revert PRON vandalism closure gas PRON vote New York Dolls FAC remove template talk page PRON retire now',\n",
       "       'd aww PRON match background colour PRON seemingly stick thank talk January UTC'],\n",
       "      dtype=object)"
      ]
     },
     "execution_count": 10,
     "metadata": {},
     "output_type": "execute_result"
    }
   ],
   "source": [
    "data.head(2)['clear_lemms'].values"
   ]
  },
  {
   "cell_type": "markdown",
   "metadata": {},
   "source": [
    "Супер! Приступаем к подготовке к обучению!\n",
    "\n",
    "## 2. Подготовка признаков (TF-IDF)"
   ]
  },
  {
   "cell_type": "code",
   "execution_count": 11,
   "metadata": {},
   "outputs": [],
   "source": [
    "corpus = data['clear_lemms']\n",
    "label = data['toxic']"
   ]
  },
  {
   "cell_type": "markdown",
   "metadata": {},
   "source": [
    "Посмотрим на распределение целевого признака."
   ]
  },
  {
   "cell_type": "code",
   "execution_count": 12,
   "metadata": {},
   "outputs": [
    {
     "data": {
      "image/png": "[encoded data removed]",
      "text/plain": [
       "<Figure size 432x288 with 1 Axes>"
      ]
     },
     "metadata": {
      "needs_background": "light"
     },
     "output_type": "display_data"
    }
   ],
   "source": [
    "label.hist()\n",
    "plt.title('Label distribution for all data')\n",
    "plt.show()"
   ]
  },
  {
   "cell_type": "markdown",
   "metadata": {},
   "source": [
    "Признак не сбалансирован - токсичных комментариев существенно меньше! Это станет проблемой - вместо обучения определять токсичные слова и словосочетания, модели будут забивать память ненужными данными из обычных комментов. <br/>\n",
    "Я пробовал использовать следующие методики балансировки:\n",
    "1. Балансировка весов классов для вероятностных моделей (class_weight)\n",
    "2. Downsampling более частого класса\n",
    "3. Upsampling редкого класса\n",
    "4. Генерация синтетических экземпляров методом SMOTE\n",
    "\n",
    "Лучшие результаты показал первый способ балансировки, поэтому в работе остался только он. "
   ]
  },
  {
   "cell_type": "markdown",
   "metadata": {},
   "source": [
    "Сначала отделим 0.2 комментариев на тестовую выборку."
   ]
  },
  {
   "cell_type": "code",
   "execution_count": 13,
   "metadata": {},
   "outputs": [
    {
     "name": "stdout",
     "output_type": "stream",
     "text": [
      "Train corpus: (127614,)\n",
      "Test corpus: (31904,)\n"
     ]
    }
   ],
   "source": [
    "corpus_train, corpus_test, label_train, label_test = train_test_split(corpus, label, test_size=0.2)\n",
    "print('Train corpus:', corpus_train.shape)\n",
    "print('Test corpus:', corpus_test.shape)"
   ]
  },
  {
   "cell_type": "markdown",
   "metadata": {},
   "source": [
    "Теперь векторизируем признаки. <br/>\n",
    "Используем алгоритм TF-IDF для получения векторов слов и их встречаемости в комментариях."
   ]
  },
  {
   "cell_type": "code",
   "execution_count": 14,
   "metadata": {},
   "outputs": [
    {
     "data": {
      "text/plain": [
       "TfidfVectorizer()"
      ]
     },
     "execution_count": 14,
     "metadata": {},
     "output_type": "execute_result"
    }
   ],
   "source": [
    "# инициализируем векторайзер и фитим на обучающей выборке\n",
    "count_tfidf = TfidfVectorizer()\n",
    "count_tfidf.fit(corpus_train)"
   ]
  },
  {
   "cell_type": "code",
   "execution_count": 15,
   "metadata": {},
   "outputs": [
    {
     "name": "stdout",
     "output_type": "stream",
     "text": [
      "Train corpus (127614, 138421)\n",
      "Label train (127614,)\n",
      "---\n",
      "Test corpus (31904, 138421)\n",
      "Test label (31904,)\n"
     ]
    }
   ],
   "source": [
    "# трансформируем обучающий и тестовый корпуса\n",
    "tf_idf_train = count_tfidf.transform(corpus_train)\n",
    "tf_idf_test = count_tfidf.transform(corpus_test)\n",
    "\n",
    "print('Train corpus', tf_idf_train.shape)\n",
    "print('Label train', label_train.shape)\n",
    "print('---')\n",
    "print('Test corpus', tf_idf_test.shape)\n",
    "print('Test label', label_test.shape)"
   ]
  },
  {
   "cell_type": "markdown",
   "metadata": {},
   "source": [
    "Данные готовы к обучению моделей!"
   ]
  },
  {
   "cell_type": "markdown",
   "metadata": {},
   "source": [
    "# 3. Обучение и тестирование моделей"
   ]
  },
  {
   "cell_type": "code",
   "execution_count": 16,
   "metadata": {},
   "outputs": [],
   "source": [
    "# функция для теста. На вход - модель, на выходе метрики и ROC-график\n",
    "def test_me(cur_model):    \n",
    "    #probs and ROC-AUC\n",
    "    probabilities_test = cur_model.predict_proba(tf_idf_test)\n",
    "    probabilities_one_test = probabilities_test[:, 1]\n",
    "    fpr, tpr, thresholds = roc_curve(label_test, probabilities_one_test)\n",
    "    \n",
    "    # F1 score\n",
    "    predictions = cur_model.predict(tf_idf_test)\n",
    "    f1 = f1_score(label_test, predictions)\n",
    "    print('F1_Score=', f1)\n",
    "    \n",
    "    #график\n",
    "    plt.figure()\n",
    "    plt.plot(fpr, tpr)\n",
    "    plt.plot([0, 1], [0, 1], linestyle='--')\n",
    "    plt.xlim([0,1])\n",
    "    plt.ylim([0,1])\n",
    "    plt.xlabel('False Positive Rate')\n",
    "    plt.ylabel('True Positive Rate')\n",
    "    plt.title('ROC-кривая')\n",
    "            \n",
    "    # AUC-ROC SCORE\n",
    "    auc_roc = roc_auc_score(label_test, probabilities_one_test)\n",
    "    print('ROC-AUC Score=', auc_roc)\n",
    "    \n",
    "    plt.show()\n",
    "    return f1"
   ]
  },
  {
   "cell_type": "code",
   "execution_count": 17,
   "metadata": {},
   "outputs": [],
   "source": [
    "# таблица с результатами\n",
    "result = pd.DataFrame(columns = ['F1_score'])"
   ]
  },
  {
   "cell_type": "markdown",
   "metadata": {},
   "source": [
    "## 3.1 Logistic Regression"
   ]
  },
  {
   "cell_type": "code",
   "execution_count": 18,
   "metadata": {},
   "outputs": [
    {
     "data": {
      "text/plain": [
       "LogisticRegression(class_weight='balanced', max_iter=1000, random_state=112211)"
      ]
     },
     "execution_count": 18,
     "metadata": {},
     "output_type": "execute_result"
    }
   ],
   "source": [
    "model_lr = LogisticRegression(random_state=112211, max_iter=1000, class_weight='balanced')\n",
    "model_lr.fit(tf_idf_train, label_train)"
   ]
  },
  {
   "cell_type": "code",
   "execution_count": 19,
   "metadata": {},
   "outputs": [
    {
     "name": "stdout",
     "output_type": "stream",
     "text": [
      "F1_Score= 0.753568030447193\n",
      "ROC-AUC Score= 0.9726067891590335\n"
     ]
    },
    {
     "data": {
      "image/png": "[encoded data removed]",
      "text/plain": [
       "<Figure size 432x288 with 1 Axes>"
      ]
     },
     "metadata": {
      "needs_background": "light"
     },
     "output_type": "display_data"
    }
   ],
   "source": [
    "f1_lr = test_me(model_lr)"
   ]
  },
  {
   "cell_type": "code",
   "execution_count": 20,
   "metadata": {},
   "outputs": [
    {
     "data": {
      "text/html": [
       "<div>\n",
       "<style scoped>\n",
       "    .dataframe tbody tr th:only-of-type {\n",
       "        vertical-align: middle;\n",
       "    }\n",
       "\n",
       "    .dataframe tbody tr th {\n",
       "        vertical-align: top;\n",
       "    }\n",
       "\n",
       "    .dataframe thead th {\n",
       "        text-align: right;\n",
       "    }\n",
       "</style>\n",
       "<table border=\"1\" class=\"dataframe\">\n",
       "  <thead>\n",
       "    <tr style=\"text-align: right;\">\n",
       "      <th></th>\n",
       "      <th>F1_score</th>\n",
       "    </tr>\n",
       "  </thead>\n",
       "  <tbody>\n",
       "    <tr>\n",
       "      <th>LogRegression</th>\n",
       "      <td>0.753568</td>\n",
       "    </tr>\n",
       "  </tbody>\n",
       "</table>\n",
       "</div>"
      ],
      "text/plain": [
       "               F1_score\n",
       "LogRegression  0.753568"
      ]
     },
     "execution_count": 20,
     "metadata": {},
     "output_type": "execute_result"
    }
   ],
   "source": [
    "# собираем результаты тестов в табличку\n",
    "result.loc['LogRegression'] = f1_lr\n",
    "result"
   ]
  },
  {
   "cell_type": "markdown",
   "metadata": {},
   "source": [
    "## 3.2 RandomForestClassifier"
   ]
  },
  {
   "cell_type": "code",
   "execution_count": 21,
   "metadata": {},
   "outputs": [],
   "source": [
    "# функция для обучения gridsearch\n",
    "def RFC_grid(feat, targ):\n",
    "    estimator = RandomForestClassifier(random_state=112211)\n",
    "    param_grid = {\n",
    "            \"n_estimators\"      : [500,1000],\n",
    "            \"max_features\"      : [\"auto\"],\n",
    "            \"min_samples_leaf\" : [1],\n",
    "            \"min_samples_split\" : [10,20],\n",
    "            \"bootstrap\": [False],\n",
    "                }\n",
    "\n",
    "    rfr_grid = GridSearchCV(estimator, param_grid, n_jobs=-1, cv=3, scoring='f1')\n",
    "    rfr_grid.fit(feat, targ)\n",
    "\n",
    "    print('...Search completed...')\n",
    "    print('Best RMSE score', rfr_grid.best_score_)\n",
    "    print('Best params:', rfr_grid.best_params_)\n",
    "\n",
    "    return rfr_grid.best_params_"
   ]
  },
  {
   "cell_type": "code",
   "execution_count": 22,
   "metadata": {},
   "outputs": [],
   "source": [
    "#RFC_params = RFC_grid(tf_idf_train, label_downsampled)\n",
    "RFC_params = {'bootstrap': False, 'max_features': 'auto', 'min_samples_split': 10, 'n_estimators': 200, 'class_weight':'balanced'}"
   ]
  },
  {
   "cell_type": "code",
   "execution_count": 23,
   "metadata": {},
   "outputs": [
    {
     "data": {
      "text/plain": [
       "RandomForestClassifier(bootstrap=False, class_weight='balanced',\n",
       "                       min_samples_split=10, n_estimators=200)"
      ]
     },
     "execution_count": 23,
     "metadata": {},
     "output_type": "execute_result"
    }
   ],
   "source": [
    "model_rfc = RandomForestClassifier(**RFC_params)\n",
    "model_rfc.fit(tf_idf_train, label_train)"
   ]
  },
  {
   "cell_type": "code",
   "execution_count": 24,
   "metadata": {},
   "outputs": [
    {
     "name": "stdout",
     "output_type": "stream",
     "text": [
      "F1_Score= 0.6954252913550182\n",
      "ROC-AUC Score= 0.9594755892101204\n"
     ]
    },
    {
     "data": {
      "image/png": "[encoded data removed]",
      "text/plain": [
       "<Figure size 432x288 with 1 Axes>"
      ]
     },
     "metadata": {
      "needs_background": "light"
     },
     "output_type": "display_data"
    }
   ],
   "source": [
    "f1_rfc = test_me(model_rfc)"
   ]
  },
  {
   "cell_type": "code",
   "execution_count": 25,
   "metadata": {},
   "outputs": [
    {
     "data": {
      "text/html": [
       "<div>\n",
       "<style scoped>\n",
       "    .dataframe tbody tr th:only-of-type {\n",
       "        vertical-align: middle;\n",
       "    }\n",
       "\n",
       "    .dataframe tbody tr th {\n",
       "        vertical-align: top;\n",
       "    }\n",
       "\n",
       "    .dataframe thead th {\n",
       "        text-align: right;\n",
       "    }\n",
       "</style>\n",
       "<table border=\"1\" class=\"dataframe\">\n",
       "  <thead>\n",
       "    <tr style=\"text-align: right;\">\n",
       "      <th></th>\n",
       "      <th>F1_score</th>\n",
       "    </tr>\n",
       "  </thead>\n",
       "  <tbody>\n",
       "    <tr>\n",
       "      <th>LogRegression</th>\n",
       "      <td>0.753568</td>\n",
       "    </tr>\n",
       "    <tr>\n",
       "      <th>RFClassifier</th>\n",
       "      <td>0.695425</td>\n",
       "    </tr>\n",
       "  </tbody>\n",
       "</table>\n",
       "</div>"
      ],
      "text/plain": [
       "               F1_score\n",
       "LogRegression  0.753568\n",
       "RFClassifier   0.695425"
      ]
     },
     "execution_count": 25,
     "metadata": {},
     "output_type": "execute_result"
    }
   ],
   "source": [
    "result.loc['RFClassifier'] = f1_rfc\n",
    "result"
   ]
  },
  {
   "cell_type": "markdown",
   "metadata": {},
   "source": [
    "## 3.3 Linear Support Vector Classifier"
   ]
  },
  {
   "cell_type": "code",
   "execution_count": 26,
   "metadata": {},
   "outputs": [
    {
     "data": {
      "text/plain": [
       "0.7560627674750358"
      ]
     },
     "execution_count": 26,
     "metadata": {},
     "output_type": "execute_result"
    }
   ],
   "source": [
    "model_svc = LinearSVC(tol=1e-5, class_weight='balanced')\n",
    "model_svc.fit(tf_idf_train, label_train)\n",
    "\n",
    "predict = model_svc.predict(tf_idf_test)\n",
    "f1_score(label_test, predict)"
   ]
  },
  {
   "cell_type": "code",
   "execution_count": 27,
   "metadata": {},
   "outputs": [
    {
     "data": {
      "text/html": [
       "<div>\n",
       "<style scoped>\n",
       "    .dataframe tbody tr th:only-of-type {\n",
       "        vertical-align: middle;\n",
       "    }\n",
       "\n",
       "    .dataframe tbody tr th {\n",
       "        vertical-align: top;\n",
       "    }\n",
       "\n",
       "    .dataframe thead th {\n",
       "        text-align: right;\n",
       "    }\n",
       "</style>\n",
       "<table border=\"1\" class=\"dataframe\">\n",
       "  <thead>\n",
       "    <tr style=\"text-align: right;\">\n",
       "      <th></th>\n",
       "      <th>F1_score</th>\n",
       "    </tr>\n",
       "  </thead>\n",
       "  <tbody>\n",
       "    <tr>\n",
       "      <th>LogRegression</th>\n",
       "      <td>0.753568</td>\n",
       "    </tr>\n",
       "    <tr>\n",
       "      <th>RFClassifier</th>\n",
       "      <td>0.695425</td>\n",
       "    </tr>\n",
       "    <tr>\n",
       "      <th>LinearSVC</th>\n",
       "      <td>0.756063</td>\n",
       "    </tr>\n",
       "  </tbody>\n",
       "</table>\n",
       "</div>"
      ],
      "text/plain": [
       "               F1_score\n",
       "LogRegression  0.753568\n",
       "RFClassifier   0.695425\n",
       "LinearSVC      0.756063"
      ]
     },
     "execution_count": 27,
     "metadata": {},
     "output_type": "execute_result"
    }
   ],
   "source": [
    "result.loc['LinearSVC'] = f1_score(label_test, predict)\n",
    "result"
   ]
  },
  {
   "cell_type": "markdown",
   "metadata": {},
   "source": [
    "## 3.4 AdaBoostClassifier"
   ]
  },
  {
   "cell_type": "code",
   "execution_count": 29,
   "metadata": {},
   "outputs": [
    {
     "data": {
      "text/plain": [
       "AdaBoostClassifier(learning_rate=1, n_estimators=200)"
      ]
     },
     "execution_count": 29,
     "metadata": {},
     "output_type": "execute_result"
    }
   ],
   "source": [
    "model_abc = AdaBoostClassifier(n_estimators=200, learning_rate=1)\n",
    "model_abc.fit(tf_idf_train, label_train)"
   ]
  },
  {
   "cell_type": "code",
   "execution_count": 30,
   "metadata": {},
   "outputs": [
    {
     "name": "stdout",
     "output_type": "stream",
     "text": [
      "F1_Score= 0.7247261626862992\n",
      "ROC-AUC Score= 0.9422037816717025\n"
     ]
    },
    {
     "data": {
      "image/png": "[encoded data removed]",
      "text/plain": [
       "<Figure size 432x288 with 1 Axes>"
      ]
     },
     "metadata": {
      "needs_background": "light"
     },
     "output_type": "display_data"
    }
   ],
   "source": [
    "f1_ada = test_me(model_abc)"
   ]
  },
  {
   "cell_type": "code",
   "execution_count": 31,
   "metadata": {},
   "outputs": [
    {
     "data": {
      "text/html": [
       "<div>\n",
       "<style scoped>\n",
       "    .dataframe tbody tr th:only-of-type {\n",
       "        vertical-align: middle;\n",
       "    }\n",
       "\n",
       "    .dataframe tbody tr th {\n",
       "        vertical-align: top;\n",
       "    }\n",
       "\n",
       "    .dataframe thead th {\n",
       "        text-align: right;\n",
       "    }\n",
       "</style>\n",
       "<table border=\"1\" class=\"dataframe\">\n",
       "  <thead>\n",
       "    <tr style=\"text-align: right;\">\n",
       "      <th></th>\n",
       "      <th>F1_score</th>\n",
       "    </tr>\n",
       "  </thead>\n",
       "  <tbody>\n",
       "    <tr>\n",
       "      <th>LogRegression</th>\n",
       "      <td>0.753568</td>\n",
       "    </tr>\n",
       "    <tr>\n",
       "      <th>RFClassifier</th>\n",
       "      <td>0.695425</td>\n",
       "    </tr>\n",
       "    <tr>\n",
       "      <th>LinearSVC</th>\n",
       "      <td>0.756063</td>\n",
       "    </tr>\n",
       "    <tr>\n",
       "      <th>AdaBoostClassifier</th>\n",
       "      <td>0.724726</td>\n",
       "    </tr>\n",
       "  </tbody>\n",
       "</table>\n",
       "</div>"
      ],
      "text/plain": [
       "                    F1_score\n",
       "LogRegression       0.753568\n",
       "RFClassifier        0.695425\n",
       "LinearSVC           0.756063\n",
       "AdaBoostClassifier  0.724726"
      ]
     },
     "execution_count": 31,
     "metadata": {},
     "output_type": "execute_result"
    }
   ],
   "source": [
    "result.loc['AdaBoostClassifier'] = f1_ada\n",
    "result"
   ]
  },
  {
   "cell_type": "markdown",
   "metadata": {},
   "source": [
    "## 3.5 LightGBM"
   ]
  },
  {
   "cell_type": "code",
   "execution_count": 32,
   "metadata": {},
   "outputs": [
    {
     "data": {
      "text/plain": [
       "LGBMClassifier(min_child_weight=1, num_leaves=500, reg_lambda=5)"
      ]
     },
     "execution_count": 32,
     "metadata": {},
     "output_type": "execute_result"
    }
   ],
   "source": [
    "lgb_params = {'learning_rate': 0.1, 'max_depth': -1, 'min_child_weight': 1, 'num_leaves': 500, 'reg_lambda': 5}\n",
    "model_lgb = lgb.LGBMClassifier(**lgb_params)\n",
    "model_lgb.fit(tf_idf_train, label_train)"
   ]
  },
  {
   "cell_type": "code",
   "execution_count": 33,
   "metadata": {},
   "outputs": [
    {
     "name": "stdout",
     "output_type": "stream",
     "text": [
      "F1_Score= 0.767321613236815\n",
      "ROC-AUC Score= 0.96651176907802\n"
     ]
    },
    {
     "data": {
      "image/png": "[encoded data removed]",
      "text/plain": [
       "<Figure size 432x288 with 1 Axes>"
      ]
     },
     "metadata": {
      "needs_background": "light"
     },
     "output_type": "display_data"
    }
   ],
   "source": [
    "f1_lgb = test_me(model_lgb)"
   ]
  },
  {
   "cell_type": "code",
   "execution_count": 34,
   "metadata": {},
   "outputs": [
    {
     "data": {
      "text/html": [
       "<div>\n",
       "<style scoped>\n",
       "    .dataframe tbody tr th:only-of-type {\n",
       "        vertical-align: middle;\n",
       "    }\n",
       "\n",
       "    .dataframe tbody tr th {\n",
       "        vertical-align: top;\n",
       "    }\n",
       "\n",
       "    .dataframe thead th {\n",
       "        text-align: right;\n",
       "    }\n",
       "</style>\n",
       "<table border=\"1\" class=\"dataframe\">\n",
       "  <thead>\n",
       "    <tr style=\"text-align: right;\">\n",
       "      <th></th>\n",
       "      <th>F1_score</th>\n",
       "    </tr>\n",
       "  </thead>\n",
       "  <tbody>\n",
       "    <tr>\n",
       "      <th>LogRegression</th>\n",
       "      <td>0.753568</td>\n",
       "    </tr>\n",
       "    <tr>\n",
       "      <th>RFClassifier</th>\n",
       "      <td>0.695425</td>\n",
       "    </tr>\n",
       "    <tr>\n",
       "      <th>LinearSVC</th>\n",
       "      <td>0.756063</td>\n",
       "    </tr>\n",
       "    <tr>\n",
       "      <th>AdaBoostClassifier</th>\n",
       "      <td>0.724726</td>\n",
       "    </tr>\n",
       "    <tr>\n",
       "      <th>LightGBM</th>\n",
       "      <td>0.767322</td>\n",
       "    </tr>\n",
       "  </tbody>\n",
       "</table>\n",
       "</div>"
      ],
      "text/plain": [
       "                    F1_score\n",
       "LogRegression       0.753568\n",
       "RFClassifier        0.695425\n",
       "LinearSVC           0.756063\n",
       "AdaBoostClassifier  0.724726\n",
       "LightGBM            0.767322"
      ]
     },
     "execution_count": 34,
     "metadata": {},
     "output_type": "execute_result"
    }
   ],
   "source": [
    "result.loc['LightGBM'] = f1_lgb\n",
    "result"
   ]
  },
  {
   "cell_type": "markdown",
   "metadata": {},
   "source": [
    "## 3.6 Catboost"
   ]
  },
  {
   "cell_type": "code",
   "execution_count": 35,
   "metadata": {},
   "outputs": [
    {
     "name": "stdout",
     "output_type": "stream",
     "text": [
      "0:\tlearn: 0.3731980\ttotal: 873ms\tremaining: 14m 32s\n",
      "100:\tlearn: 0.1232283\ttotal: 1m 15s\tremaining: 11m 11s\n",
      "200:\tlearn: 0.1051070\ttotal: 2m 29s\tremaining: 9m 53s\n",
      "300:\tlearn: 0.0939368\ttotal: 3m 43s\tremaining: 8m 38s\n",
      "400:\tlearn: 0.0873267\ttotal: 4m 57s\tremaining: 7m 24s\n",
      "500:\tlearn: 0.0817309\ttotal: 6m 10s\tremaining: 6m 9s\n",
      "600:\tlearn: 0.0774029\ttotal: 7m 23s\tremaining: 4m 54s\n",
      "700:\tlearn: 0.0731797\ttotal: 8m 37s\tremaining: 3m 40s\n",
      "800:\tlearn: 0.0693951\ttotal: 9m 51s\tremaining: 2m 26s\n",
      "900:\tlearn: 0.0653348\ttotal: 11m 5s\tremaining: 1m 13s\n",
      "999:\tlearn: 0.0622128\ttotal: 12m 18s\tremaining: 0us\n"
     ]
    },
    {
     "data": {
      "text/plain": [
       "<catboost.core.CatBoostClassifier at 0x1a007326188>"
      ]
     },
     "execution_count": 35,
     "metadata": {},
     "output_type": "execute_result"
    }
   ],
   "source": [
    "cb_params = {'depth': 6, 'iterations': 1000, 'learning_rate': 0.4, 'verbose':100}\n",
    "model_cb = cb.CatBoostClassifier(**cb_params)\n",
    "model_cb.fit(tf_idf_train, label_train)"
   ]
  },
  {
   "cell_type": "code",
   "execution_count": 36,
   "metadata": {},
   "outputs": [
    {
     "name": "stdout",
     "output_type": "stream",
     "text": [
      "F1_Score= 0.7731208867336334\n",
      "ROC-AUC Score= 0.9645392452670016\n"
     ]
    },
    {
     "data": {
      "image/png": "[encoded data removed]",
      "text/plain": [
       "<Figure size 432x288 with 1 Axes>"
      ]
     },
     "metadata": {
      "needs_background": "light"
     },
     "output_type": "display_data"
    }
   ],
   "source": [
    "f1_cb = test_me(model_cb)"
   ]
  },
  {
   "cell_type": "code",
   "execution_count": 37,
   "metadata": {},
   "outputs": [
    {
     "data": {
      "text/html": [
       "<div>\n",
       "<style scoped>\n",
       "    .dataframe tbody tr th:only-of-type {\n",
       "        vertical-align: middle;\n",
       "    }\n",
       "\n",
       "    .dataframe tbody tr th {\n",
       "        vertical-align: top;\n",
       "    }\n",
       "\n",
       "    .dataframe thead th {\n",
       "        text-align: right;\n",
       "    }\n",
       "</style>\n",
       "<table border=\"1\" class=\"dataframe\">\n",
       "  <thead>\n",
       "    <tr style=\"text-align: right;\">\n",
       "      <th></th>\n",
       "      <th>F1_score</th>\n",
       "    </tr>\n",
       "  </thead>\n",
       "  <tbody>\n",
       "    <tr>\n",
       "      <th>LogRegression</th>\n",
       "      <td>0.753568</td>\n",
       "    </tr>\n",
       "    <tr>\n",
       "      <th>RFClassifier</th>\n",
       "      <td>0.695425</td>\n",
       "    </tr>\n",
       "    <tr>\n",
       "      <th>LinearSVC</th>\n",
       "      <td>0.756063</td>\n",
       "    </tr>\n",
       "    <tr>\n",
       "      <th>AdaBoostClassifier</th>\n",
       "      <td>0.724726</td>\n",
       "    </tr>\n",
       "    <tr>\n",
       "      <th>LightGBM</th>\n",
       "      <td>0.767322</td>\n",
       "    </tr>\n",
       "    <tr>\n",
       "      <th>CatBoost</th>\n",
       "      <td>0.773121</td>\n",
       "    </tr>\n",
       "  </tbody>\n",
       "</table>\n",
       "</div>"
      ],
      "text/plain": [
       "                    F1_score\n",
       "LogRegression       0.753568\n",
       "RFClassifier        0.695425\n",
       "LinearSVC           0.756063\n",
       "AdaBoostClassifier  0.724726\n",
       "LightGBM            0.767322\n",
       "CatBoost            0.773121"
      ]
     },
     "execution_count": 37,
     "metadata": {},
     "output_type": "execute_result"
    }
   ],
   "source": [
    "result.loc['CatBoost'] = f1_cb\n",
    "result"
   ]
  },
  {
   "cell_type": "markdown",
   "metadata": {},
   "source": [
    "# 4. Выводы\n",
    "\n",
    "Целью работы было построение модели для определения тональности(токсичности) комментариев. <br/>\n",
    "Входные данные: корпус из 160к комментариев.\n",
    "\n",
    "Для подготовки к обучению моделей, была проведена обработка данных:\n",
    "1. Токенизация текста\n",
    "2. Лемматизация токенов, используя Spacy\n",
    "3. Очистка текста от стоп-слов и лишних символов\n",
    "4. Векторизация методом TF-IDF\n",
    "\n",
    "Полученные данные были разбиты на тренировочную и тестовую выборку (5:1). <br/>\n",
    "Для балансировки целевых классов использовалась методика балансировки весов классов (class_weight).\n",
    "\n",
    "Далее были обучены и протестированы различные модели. Для оценки качества тестирования использовалась метрика F1. <br/>\n",
    "Результаты тестирования:"
   ]
  },
  {
   "cell_type": "code",
   "execution_count": 39,
   "metadata": {},
   "outputs": [
    {
     "data": {
      "text/html": [
       "<div>\n",
       "<style scoped>\n",
       "    .dataframe tbody tr th:only-of-type {\n",
       "        vertical-align: middle;\n",
       "    }\n",
       "\n",
       "    .dataframe tbody tr th {\n",
       "        vertical-align: top;\n",
       "    }\n",
       "\n",
       "    .dataframe thead th {\n",
       "        text-align: right;\n",
       "    }\n",
       "</style>\n",
       "<table border=\"1\" class=\"dataframe\">\n",
       "  <thead>\n",
       "    <tr style=\"text-align: right;\">\n",
       "      <th></th>\n",
       "      <th>F1_score</th>\n",
       "    </tr>\n",
       "  </thead>\n",
       "  <tbody>\n",
       "    <tr>\n",
       "      <th>LogRegression</th>\n",
       "      <td>0.753568</td>\n",
       "    </tr>\n",
       "    <tr>\n",
       "      <th>RFClassifier</th>\n",
       "      <td>0.695425</td>\n",
       "    </tr>\n",
       "    <tr>\n",
       "      <th>LinearSVC</th>\n",
       "      <td>0.756063</td>\n",
       "    </tr>\n",
       "    <tr>\n",
       "      <th>AdaBoostClassifier</th>\n",
       "      <td>0.724726</td>\n",
       "    </tr>\n",
       "    <tr>\n",
       "      <th>LightGBM</th>\n",
       "      <td>0.767322</td>\n",
       "    </tr>\n",
       "    <tr>\n",
       "      <th>CatBoost</th>\n",
       "      <td>0.773121</td>\n",
       "    </tr>\n",
       "  </tbody>\n",
       "</table>\n",
       "</div>"
      ],
      "text/plain": [
       "                    F1_score\n",
       "LogRegression       0.753568\n",
       "RFClassifier        0.695425\n",
       "LinearSVC           0.756063\n",
       "AdaBoostClassifier  0.724726\n",
       "LightGBM            0.767322\n",
       "CatBoost            0.773121"
      ]
     },
     "execution_count": 39,
     "metadata": {},
     "output_type": "execute_result"
    }
   ],
   "source": [
    "result"
   ]
  },
  {
   "cell_type": "code",
   "execution_count": null,
   "metadata": {},
   "outputs": [],
   "source": []
  }
 ],
 "metadata": {
  "kernelspec": {
   "display_name": "Python 3",
   "language": "python",
   "name": "python3"
  },
  "language_info": {
   "codemirror_mode": {
    "name": "ipython",
    "version": 3
   },
   "file_extension": ".py",
   "mimetype": "text/x-python",
   "name": "python",
   "nbconvert_exporter": "python",
   "pygments_lexer": "ipython3",
   "version": "3.7.7"
  }
 },
 "nbformat": 4,
 "nbformat_minor": 4
}
