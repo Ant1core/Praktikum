{
 "cells": [
  {
   "cell_type": "markdown",
   "metadata": {},
   "source": [
    "# Проектная работа. Разработка скважин \"ГлавРосГосНефть\""
   ]
  },
  {
   "cell_type": "markdown",
   "metadata": {},
   "source": [
    "Нужно решить, где бурить новую скважину.\n",
    "Шаги для выбора локации обычно такие:\n",
    "* В избранном регионе собирают характеристики для скважин: качество нефти и объём её запасов;\n",
    "* Строят модель для предсказания объёма запасов в новых скважинах;\n",
    "* Выбирают скважины с самыми высокими оценками значений;\n",
    "* Определяют регион с максимальной суммарной прибылью отобранных скважин.\n",
    "\n",
    "Предоставлены пробы нефти в трёх регионах. Характеристики для каждой скважины в регионе уже известны. Необходимо построить модель для определения региона, где добыча принесёт наибольшую прибыль. Проанализировать возможную прибыль и риски техникой Bootstrap."
   ]
  },
  {
   "cell_type": "code",
   "execution_count": 2,
   "metadata": {},
   "outputs": [],
   "source": [
    "import pandas as pd\n",
    "import numpy as np\n",
    "import joblib\n",
    "import matplotlib.pyplot as plt\n",
    "import seaborn as sns\n",
    "from scipy import stats as st\n",
    "\n",
    "#models\n",
    "from sklearn.tree import DecisionTreeClassifier\n",
    "from sklearn.tree import DecisionTreeRegressor\n",
    "from sklearn.ensemble import RandomForestClassifier\n",
    "from sklearn.ensemble import RandomForestRegressor\n",
    "from sklearn.linear_model import LogisticRegression\n",
    "from sklearn.linear_model import LinearRegression\n",
    "\n",
    "#preprocess\n",
    "from sklearn.model_selection import train_test_split\n",
    "from sklearn.preprocessing import OneHotEncoder\n",
    "from sklearn.preprocessing import StandardScaler\n",
    "from sklearn.utils import shuffle\n",
    "\n",
    "# метрики\n",
    "from sklearn.metrics import accuracy_score\n",
    "from sklearn.metrics import mean_squared_error\n",
    "from sklearn.metrics import f1_score\n",
    "from sklearn.metrics import roc_curve\n",
    "from sklearn.metrics import roc_auc_score\n",
    "from sklearn.metrics import recall_score\n",
    "from sklearn.metrics import precision_score"
   ]
  },
  {
   "cell_type": "markdown",
   "metadata": {},
   "source": [
    "# 1. Загрузка и подготовка данных"
   ]
  },
  {
   "cell_type": "code",
   "execution_count": 3,
   "metadata": {},
   "outputs": [],
   "source": [
    "# грузим данные\n",
    "try:\n",
    "    geo_data_0 = pd.read_csv(\"G:/Projects/praktikum/datasets/geo_data_0.csv\")\n",
    "    geo_data_1 = pd.read_csv(\"G:/Projects/praktikum/datasets/geo_data_1.csv\")\n",
    "    geo_data_2 = pd.read_csv(\"G:/Projects/praktikum/datasets/geo_data_2.csv\")\n",
    "except:\n",
    "    geo_data_0 = pd.read_csv('https://code.s3.yandex.net/datasets/geo_data_0.csv')\n",
    "    geo_data_1 = pd.read_csv('https://code.s3.yandex.net/datasets/geo_data_1.csv')\n",
    "    geo_data_2 = pd.read_csv('https://code.s3.yandex.net/datasets/geo_data_2.csv')"
   ]
  },
  {
   "cell_type": "markdown",
   "metadata": {},
   "source": [
    "Описание данных:\n",
    "* id — уникальный идентификатор скважины;\n",
    "* f0, f1, f2 — три признака точек (неважно, что они означают, но сами признаки значимы);\n",
    "* product — объём запасов в скважине (тыс. баррелей)."
   ]
  },
  {
   "cell_type": "code",
   "execution_count": 4,
   "metadata": {},
   "outputs": [
    {
     "data": {
      "text/html": [
       "<div>\n",
       "<style scoped>\n",
       "    .dataframe tbody tr th:only-of-type {\n",
       "        vertical-align: middle;\n",
       "    }\n",
       "\n",
       "    .dataframe tbody tr th {\n",
       "        vertical-align: top;\n",
       "    }\n",
       "\n",
       "    .dataframe thead th {\n",
       "        text-align: right;\n",
       "    }\n",
       "</style>\n",
       "<table border=\"1\" class=\"dataframe\">\n",
       "  <thead>\n",
       "    <tr style=\"text-align: right;\">\n",
       "      <th></th>\n",
       "      <th>id</th>\n",
       "      <th>f0</th>\n",
       "      <th>f1</th>\n",
       "      <th>f2</th>\n",
       "      <th>product</th>\n",
       "    </tr>\n",
       "  </thead>\n",
       "  <tbody>\n",
       "    <tr>\n",
       "      <td>0</td>\n",
       "      <td>txEyH</td>\n",
       "      <td>0.705745</td>\n",
       "      <td>-0.497823</td>\n",
       "      <td>1.221170</td>\n",
       "      <td>105.280062</td>\n",
       "    </tr>\n",
       "    <tr>\n",
       "      <td>1</td>\n",
       "      <td>2acmU</td>\n",
       "      <td>1.334711</td>\n",
       "      <td>-0.340164</td>\n",
       "      <td>4.365080</td>\n",
       "      <td>73.037750</td>\n",
       "    </tr>\n",
       "    <tr>\n",
       "      <td>2</td>\n",
       "      <td>409Wp</td>\n",
       "      <td>1.022732</td>\n",
       "      <td>0.151990</td>\n",
       "      <td>1.419926</td>\n",
       "      <td>85.265647</td>\n",
       "    </tr>\n",
       "    <tr>\n",
       "      <td>3</td>\n",
       "      <td>iJLyR</td>\n",
       "      <td>-0.032172</td>\n",
       "      <td>0.139033</td>\n",
       "      <td>2.978566</td>\n",
       "      <td>168.620776</td>\n",
       "    </tr>\n",
       "    <tr>\n",
       "      <td>4</td>\n",
       "      <td>Xdl7t</td>\n",
       "      <td>1.988431</td>\n",
       "      <td>0.155413</td>\n",
       "      <td>4.751769</td>\n",
       "      <td>154.036647</td>\n",
       "    </tr>\n",
       "  </tbody>\n",
       "</table>\n",
       "</div>"
      ],
      "text/plain": [
       "      id        f0        f1        f2     product\n",
       "0  txEyH  0.705745 -0.497823  1.221170  105.280062\n",
       "1  2acmU  1.334711 -0.340164  4.365080   73.037750\n",
       "2  409Wp  1.022732  0.151990  1.419926   85.265647\n",
       "3  iJLyR -0.032172  0.139033  2.978566  168.620776\n",
       "4  Xdl7t  1.988431  0.155413  4.751769  154.036647"
      ]
     },
     "execution_count": 4,
     "metadata": {},
     "output_type": "execute_result"
    }
   ],
   "source": [
    "geo_data_0.head()"
   ]
  },
  {
   "cell_type": "code",
   "execution_count": 5,
   "metadata": {},
   "outputs": [
    {
     "name": "stdout",
     "output_type": "stream",
     "text": [
      "<class 'pandas.core.frame.DataFrame'>\n",
      "RangeIndex: 100000 entries, 0 to 99999\n",
      "Data columns (total 5 columns):\n",
      "id         100000 non-null object\n",
      "f0         100000 non-null float64\n",
      "f1         100000 non-null float64\n",
      "f2         100000 non-null float64\n",
      "product    100000 non-null float64\n",
      "dtypes: float64(4), object(1)\n",
      "memory usage: 3.8+ MB\n"
     ]
    }
   ],
   "source": [
    "geo_data_0.info()"
   ]
  },
  {
   "cell_type": "code",
   "execution_count": 6,
   "metadata": {},
   "outputs": [
    {
     "data": {
      "text/plain": [
       "<matplotlib.axes._subplots.AxesSubplot at 0x7f793428f610>"
      ]
     },
     "execution_count": 6,
     "metadata": {},
     "output_type": "execute_result"
    },
    {
     "data": {
      "image/png": "[encoded data removed]",
      "text/plain": [
       "<Figure size 432x288 with 1 Axes>"
      ]
     },
     "metadata": {
      "needs_background": "light"
     },
     "output_type": "display_data"
    }
   ],
   "source": [
    "geo_data_1['f0'].hist()"
   ]
  },
  {
   "cell_type": "code",
   "execution_count": 7,
   "metadata": {},
   "outputs": [
    {
     "data": {
      "text/plain": [
       "<matplotlib.axes._subplots.AxesSubplot at 0x7f78d68bc310>"
      ]
     },
     "execution_count": 7,
     "metadata": {},
     "output_type": "execute_result"
    },
    {
     "data": {
      "image/png": "[encoded data removed]",
      "text/plain": [
       "<Figure size 432x288 with 1 Axes>"
      ]
     },
     "metadata": {
      "needs_background": "light"
     },
     "output_type": "display_data"
    }
   ],
   "source": [
    "geo_data_2['f1'].hist()"
   ]
  },
  {
   "cell_type": "code",
   "execution_count": 8,
   "metadata": {},
   "outputs": [
    {
     "data": {
      "text/plain": [
       "<matplotlib.axes._subplots.AxesSubplot at 0x7f78d6824750>"
      ]
     },
     "execution_count": 8,
     "metadata": {},
     "output_type": "execute_result"
    },
    {
     "data": {
      "image/png": "[encoded data removed]",
      "text/plain": [
       "<Figure size 432x288 with 1 Axes>"
      ]
     },
     "metadata": {
      "needs_background": "light"
     },
     "output_type": "display_data"
    }
   ],
   "source": [
    "geo_data_1['product'].hist()"
   ]
  },
  {
   "cell_type": "markdown",
   "metadata": {},
   "source": [
    "Данные выглядят вроде нормально. Они же синтетические:)\n",
    "\n",
    "Для обучения моделей будем использовать следующие данные:\n",
    "* Столбец 'id' нам бесполезен\n",
    "* Значимые признаки - f0, f1, f2\n",
    "* Целевой признак - product"
   ]
  },
  {
   "cell_type": "markdown",
   "metadata": {},
   "source": [
    "## 2. Обучите и проверьте модель для каждого региона"
   ]
  },
  {
   "cell_type": "code",
   "execution_count": 9,
   "metadata": {},
   "outputs": [],
   "source": [
    "# так как нам всё придётся делать по три раза - для каждого региона, будем писать функции, дабы не копипастить много\n",
    "def data_prep(data):\n",
    "    train_data, valid_data = train_test_split(data, test_size=0.25, random_state=112211)\n",
    "    \n",
    "    features_train = train_data.drop(['id', 'product'], axis=1)\n",
    "    target_train = train_data['product']\n",
    "    features_valid = valid_data.drop(['id', 'product'], axis=1)\n",
    "    target_valid = valid_data['product']\n",
    "    \n",
    "    return features_train, target_train, features_valid, target_valid"
   ]
  },
  {
   "cell_type": "code",
   "execution_count": 10,
   "metadata": {},
   "outputs": [],
   "source": [
    "# признаки региона 0\n",
    "features_train_0, target_train_0, features_valid_0, target_valid_0 = data_prep(geo_data_0)\n",
    "\n",
    "# признаки региона 1\n",
    "features_train_1, target_train_1, features_valid_1, target_valid_1 = data_prep(geo_data_1)\n",
    "\n",
    "# признаки региона 2\n",
    "features_train_2, target_train_2, features_valid_2, target_valid_2 = data_prep(geo_data_2)"
   ]
  },
  {
   "cell_type": "code",
   "execution_count": 11,
   "metadata": {},
   "outputs": [
    {
     "data": {
      "text/plain": [
       "(75000, 3)"
      ]
     },
     "execution_count": 11,
     "metadata": {},
     "output_type": "execute_result"
    }
   ],
   "source": [
    "features_train_1.shape"
   ]
  },
  {
   "cell_type": "code",
   "execution_count": 12,
   "metadata": {},
   "outputs": [
    {
     "data": {
      "text/plain": [
       "(25000,)"
      ]
     },
     "execution_count": 12,
     "metadata": {},
     "output_type": "execute_result"
    }
   ],
   "source": [
    "target_valid_2.shape"
   ]
  },
  {
   "cell_type": "markdown",
   "metadata": {},
   "source": [
    "Данные готовы. Переходим к обучению.\n",
    "\n",
    "По условиям задачи, необходимо использовать модель линейной регрессии. "
   ]
  },
  {
   "cell_type": "code",
   "execution_count": 14,
   "metadata": {},
   "outputs": [],
   "source": [
    "# напишем функцию, которая посчитает и выведет все необходимые данные\n",
    "def modeling(features_train, target_train, features_valid, target_valid):\n",
    "    \n",
    "    # масштабируем признаки\n",
    "    scaler = StandardScaler()\n",
    "    scaler.fit(features_train)\n",
    "    features = scaler.transform(features_train)\n",
    "    features_val = scaler.transform(features_valid)\n",
    "    \n",
    "    # обучаем модель\n",
    "    model = LinearRegression()\n",
    "    model.fit(features, target_train)\n",
    "    \n",
    "    predictions = model.predict(features_val)\n",
    "    mse = mean_squared_error(target_valid, predictions)\n",
    "    \n",
    "    print('Модель обучена.')\n",
    "    print('RMSE =', mse**0.5)\n",
    "    print('Среднее предсказанных значений:', predictions.mean())\n",
    "    print('Реальное среднее целевой выборки:', target_valid.mean())\n",
    "    \n",
    "    return predictions"
   ]
  },
  {
   "cell_type": "code",
   "execution_count": 15,
   "metadata": {},
   "outputs": [
    {
     "name": "stdout",
     "output_type": "stream",
     "text": [
      "Модель обучена.\n",
      "RMSE = 37.78234566843369\n",
      "Среднее предсказанных значений: 92.51080087291714\n",
      "Реальное среднее целевой выборки: 92.5614297041345\n"
     ]
    }
   ],
   "source": [
    "# результат предсказаний запишем в Series, чтобы дальше работать с ним\n",
    "# регион 0\n",
    "predict_0 = pd.Series(modeling(features_train_0, target_train_0, features_valid_0, target_valid_0))"
   ]
  },
  {
   "cell_type": "code",
   "execution_count": 16,
   "metadata": {},
   "outputs": [
    {
     "name": "stdout",
     "output_type": "stream",
     "text": [
      "Модель обучена.\n",
      "RMSE = 0.8903037843908675\n",
      "Среднее предсказанных значений: 68.70883673619505\n",
      "Реальное среднее целевой выборки: 68.7042383328306\n"
     ]
    }
   ],
   "source": [
    "# регион 1\n",
    "predict_1 = pd.Series(modeling(features_train_1, target_train_1, features_valid_1, target_valid_1))"
   ]
  },
  {
   "cell_type": "code",
   "execution_count": 17,
   "metadata": {
    "scrolled": true
   },
   "outputs": [
    {
     "name": "stdout",
     "output_type": "stream",
     "text": [
      "Модель обучена.\n",
      "RMSE = 40.19050851718416\n",
      "Среднее предсказанных значений: 94.87525290339977\n",
      "Реальное среднее целевой выборки: 95.3228608252354\n"
     ]
    }
   ],
   "source": [
    "# регион 2\n",
    "predict_2 = pd.Series(modeling(features_train_2, target_train_2, features_valid_2, target_valid_2))"
   ]
  },
  {
   "cell_type": "markdown",
   "metadata": {},
   "source": [
    "### Выводы\n",
    "\n",
    "Были обучены модели линейной регрессии для каждого региона. Определены RMSE, и найдены средние значения целевых признаков(объемы скважин).\n",
    "\n",
    "Для региона 1 модель показала подозрительно низкие значения и большую ошибку. Средний запас ресурсов в этом регионе так же ниже, чем в регионе 0 и 2.\n",
    "\n",
    "Показатели моделей и среднее по регионам 0 и 2 близки по значениям."
   ]
  },
  {
   "cell_type": "markdown",
   "metadata": {},
   "source": [
    "## 3. Подготовьтесь к расчёту прибыли"
   ]
  },
  {
   "cell_type": "code",
   "execution_count": 18,
   "metadata": {},
   "outputs": [],
   "source": [
    "# выносим константы\n",
    "# кол-во точек для бурения\n",
    "MAX_POINT = 200\n",
    "\n",
    "# стоимость за тыс баррелей\n",
    "BAR_1K_PRICE = 0.45\n",
    "\n",
    "# бюджет на регион (млн.р)\n",
    "BUDGET= 10000"
   ]
  },
  {
   "cell_type": "code",
   "execution_count": 19,
   "metadata": {
    "scrolled": true
   },
   "outputs": [
    {
     "data": {
      "text/plain": [
       "111.11111111111111"
      ]
     },
     "execution_count": 19,
     "metadata": {},
     "output_type": "execute_result"
    }
   ],
   "source": [
    "# минимальная добыча сырья с одной точки для безубыточной работы\n",
    "min_1k_barrels_need = (BUDGET / MAX_POINT) / BAR_1K_PRICE\n",
    "min_1k_barrels_need"
   ]
  },
  {
   "cell_type": "markdown",
   "metadata": {},
   "source": [
    "### Выводы\n",
    "Для того, чтобы уложиться в бюджет, необходимо с каждой скважины добывать не менее 111 тыс. баррелей!\n",
    "В регионах у нас были следующие средние:\n",
    "Регион 0 - 92 тыс. бар.\n",
    "Регион 1 - 68 тыс. бар.\n",
    "Регион 2 - 95 тыс. бар.\n",
    "\n",
    "Похоже, что у региона 1 не много шансов быть избранным. А вот у регионов 0 и 2 шансы неплохие. Только к выбору мест бурения надо подойти ответственно."
   ]
  },
  {
   "cell_type": "markdown",
   "metadata": {},
   "source": [
    "## 4. Напишите функцию для расчёта прибыли по выбранным скважинам и предсказаниям модели"
   ]
  },
  {
   "cell_type": "code",
   "execution_count": 20,
   "metadata": {},
   "outputs": [],
   "source": [
    "# функция берёт топ скважин по предсказанной добыче и суммирует добычу по ним и прибыль\n",
    "def profit_account(predict, target):\n",
    "    top_points = predict.sort_values(ascending=False)[:MAX_POINT]\n",
    "    target_points = target.iloc[top_points.index]\n",
    "        \n",
    "    bar_prod = target_points.sum()\n",
    "    max_margin = (bar_prod*BAR_1K_PRICE) - BUDGET\n",
    "    return max_margin"
   ]
  },
  {
   "cell_type": "code",
   "execution_count": 24,
   "metadata": {},
   "outputs": [
    {
     "name": "stdout",
     "output_type": "stream",
     "text": [
      "Максимальная прибыль региона: 3300.661243225102 млн.р\n"
     ]
    }
   ],
   "source": [
    "# для региона 0\n",
    "print('Максимальная прибыль региона:', profit_account(predict_0, target_valid_0), 'млн.р')"
   ]
  },
  {
   "cell_type": "code",
   "execution_count": 26,
   "metadata": {},
   "outputs": [
    {
     "name": "stdout",
     "output_type": "stream",
     "text": [
      "Максимальная прибыль региона: 2415.086696681512 млн.р\n"
     ]
    }
   ],
   "source": [
    "# для региона 1\n",
    "print('Максимальная прибыль региона:', profit_account(predict_1, target_valid_1), 'млн.р')"
   ]
  },
  {
   "cell_type": "code",
   "execution_count": 25,
   "metadata": {},
   "outputs": [
    {
     "name": "stdout",
     "output_type": "stream",
     "text": [
      "Максимальная прибыль региона: 2618.20084180495 млн.р\n"
     ]
    }
   ],
   "source": [
    "# для региона 2\n",
    "print('Максимальная прибыль региона:', profit_account(predict_2, target_valid_2), 'млн.р')"
   ]
  },
  {
   "cell_type": "markdown",
   "metadata": {},
   "source": [
    "### Выводы\n",
    "Получили предсказанную максимальную прибыль для 200 лучших скважин каждого региона:\n",
    "* Регион 0 - 3.3 млрд. р.\n",
    "* Регион 1 - 2.4 млрд. р.\n",
    "* Регион 2 - 2.6 млрд. р.\n",
    "\n",
    "Ну что ж, в принципе, у всех регионов есть шансы быть избранными. Но посмотрим на риски."
   ]
  },
  {
   "cell_type": "markdown",
   "metadata": {},
   "source": [
    "## 5. Посчитайте риски и прибыль для каждого региона"
   ]
  },
  {
   "cell_type": "markdown",
   "metadata": {},
   "source": [
    "Для рассчёта рисков мы будем использовать технику BootStrap следующим образом:\n",
    "1. Берём сэмпл из 500 случайных предсказанных размеров залежей в регионе(по условиям задачи исследуют 500 скважин)\n",
    "2. Из этих 500 выбираем 200 с наивысшими предсказаниями. \n",
    "3. Для этого применим функцию из раздела 4, которая посчитает и вернёт прибыль.\n",
    "4. Так повторяем 1000 раз.\n",
    "5. Profit!\n",
    "\n",
    "Доверительный интервал 95% оценим через квантили полученных возможных прибылей.\n",
    "Риск убытков равен доле сэмплов(х/1000), в которых рассчитанная прибыль оказалась меньше бюджета на регион (10 млрд.р.)"
   ]
  },
  {
   "cell_type": "code",
   "execution_count": 37,
   "metadata": {},
   "outputs": [],
   "source": [
    "state = np.random.RandomState(112211)\n",
    "\n",
    "# пишем функцию\n",
    "def risk_margin_bootstr(predict, target):\n",
    "    margin_means = []\n",
    "    \n",
    "    # bootstrap\n",
    "    for i in range(1000):\n",
    "        sample = predict.sample(n=500, replace=True, random_state=state)\n",
    "        \n",
    "        # функция из раздела 4 для расчёта дохода\n",
    "        margin = profit_account(sample, target)\n",
    "        margin_means.append(margin)\n",
    "    \n",
    "    # доверительный интервал 0.95\n",
    "    margin_means = pd.Series(margin_means)\n",
    "    confidence_interval = [margin_means.quantile(0.025), margin_means.quantile(0.975)]\n",
    "    \n",
    "    # считаем риск. Кол-во обнаруженных непрофитных выборок\n",
    "    risk = (margin_means[margin_means<0].count())*100/1000   \n",
    "    \n",
    "    # выведем все данные на экран\n",
    "    print('Среднее значение прибыли для региона:', margin_means.mean())\n",
    "    print('Дисперсия:', np.var(margin_means))\n",
    "    print('95% доверительный интервал прибыли:', confidence_interval)\n",
    "    print('Риск убытков: {}%'.format(risk))\n",
    "    \n",
    "    #построим гистограмму средних п\n",
    "    plt.figure(figsize=(10,5))\n",
    "    margin_means.plot(kind='hist', bins=35)\n",
    "    plt.plot([0,0], [0,100], linestyle='--')\n",
    "    plt.xlabel('Margin')\n",
    "    plt.title('BootStrap sample margin dist mln.rub.')\n",
    "    plt.show()"
   ]
  },
  {
   "cell_type": "code",
   "execution_count": 38,
   "metadata": {
    "scrolled": false
   },
   "outputs": [
    {
     "name": "stdout",
     "output_type": "stream",
     "text": [
      "Среднее значение прибыли для региона: 414.48399665251117\n",
      "Дисперсия: 71483.63548199953\n",
      "95% доверительный интервал прибыли: [-130.40326883243645, 932.2320873710206]\n",
      "Риск убытков: 5.4%\n"
     ]
    },
    {
     "data": {
      "image/png": "[encoded data removed]",
      "text/plain": [
       "<Figure size 720x360 with 1 Axes>"
      ]
     },
     "metadata": {
      "needs_background": "light"
     },
     "output_type": "display_data"
    }
   ],
   "source": [
    "# регион 0\n",
    "risk_margin_bootstr(predict_0, target_valid_0)"
   ]
  },
  {
   "cell_type": "code",
   "execution_count": 33,
   "metadata": {},
   "outputs": [
    {
     "name": "stdout",
     "output_type": "stream",
     "text": [
      "Среднее значение прибыли для региона: 443.1759603079867\n",
      "Дисперсия: 39620.035727421986\n",
      "95% доверительный интервал прибыли: [41.71833321316908, 828.7888019062476]\n",
      "Риск убытков: 1.7999999999999998%\n"
     ]
    },
    {
     "data": {
      "image/png": "[encoded data removed]",
      "text/plain": [
       "<Figure size 720x360 with 1 Axes>"
      ]
     },
     "metadata": {
      "needs_background": "light"
     },
     "output_type": "display_data"
    }
   ],
   "source": [
    "# регион 1\n",
    "risk_margin_bootstr(predict_1, target_valid_1)"
   ]
  },
  {
   "cell_type": "code",
   "execution_count": 34,
   "metadata": {},
   "outputs": [
    {
     "name": "stdout",
     "output_type": "stream",
     "text": [
      "Среднее значение прибыли для региона: 416.84890515564535\n",
      "Дисперсия: 69262.05067687397\n",
      "95% доверительный интервал прибыли: [-80.0539367615761, 936.7958709875671]\n",
      "Риск убытков: 5.6000000000000005%\n"
     ]
    },
    {
     "data": {
      "image/png": "[encoded data removed]",
      "text/plain": [
       "<Figure size 720x360 with 1 Axes>"
      ]
     },
     "metadata": {
      "needs_background": "light"
     },
     "output_type": "display_data"
    }
   ],
   "source": [
    "# регион 2\n",
    "risk_margin_bootstr(predict_2, target_valid_2)"
   ]
  },
  {
   "cell_type": "markdown",
   "metadata": {},
   "source": [
    "### Выводы\n",
    "Интересные получились результаты!\n",
    "\n",
    "Средние прибылей и доверительные интервалы для всех трёх регионов примерно равны. Но вот с точки зрения рисков, они в регионах 0 и 2 существенно выше, чем для региона 1.\n",
    "\n",
    "По условию задачи, регионы с риском больше 2.5% не принимаются. Таким образом, соответствующий всем критериям остаётся только регион 1 (риск убытков - 1.8%). "
   ]
  },
  {
   "cell_type": "markdown",
   "metadata": {},
   "source": [
    "## 6. Выводы\n",
    "Целью работы было изучение данных о залежах ископаемых в трёх регионах, и выбор наиболее перспективного региона для разработки с точки зрения возможной прибыли и рисков.\n",
    "\n",
    "Входными данным были данные геологоразведки трёх регионов: регион 0, регион 1 и регион 2.\n",
    "\n",
    "Данные были загружены, проанализированы и подготовлены для дальнейшего изучения - были выбраны признаки для обучения модели, целевой признак. Также данные были разбиты на обучающую и валидационную выборки.\n",
    "\n",
    "Для каждого региона были обучены модели линейной регрессии, проведена валидация, посчитаны и проанализированы полученные метрики.\n",
    "\n",
    "Далее были проанализированы параметры возможной прибыли для каждого региона. На основании предсказаний модели были посчитаны максимально возможная добыча и прибыль для регионов.\n",
    "* Регион 0 - 3.3 млрд. р.\n",
    "* Регион 1 - 2.4 млрд. р.\n",
    "* Регион 2 - 2.6 млрд. р.\n",
    "\n",
    "Техникой BootStrap были проанализированы возможные риски и прибыльность разработки регионов. По условиям, выбирались 200 месторождений с максимальным запасом, и оценивалась возможная прибыль. \n",
    "Оценен 95% доверительный интервал этого значения для каждого региона.\n",
    "Так же условием является минимальная общая прибыль в 10 000 млн. рублей с региона, при цене барреля 450 р. Для оценки рисков, оценивалась доля возможных выборок месторождений, суммарная прибыль которых будет меньше необходимых 10 млрд. р.\n",
    "\n",
    "Результаты:\n",
    "##### Регион 0\n",
    "* Средняя прибыль региона: 413.48 млн. р.\n",
    "* Риск убытков: 5.4 %\n",
    "\n",
    "##### Регион 1\n",
    "* Средняя прибыль региона: 443.18 млн. р.\n",
    "* Риск убытков: 1.8 %\n",
    "\n",
    "##### Регион 2\n",
    "* Средняя прибыль региона: 416.85 млн. р.\n",
    "* Риск убытков: 5.6 %\n",
    "\n",
    "*Максимально допусимый уровень риска 2.5 %. \n",
    "\n",
    "Таким образом, всем критериям соотвествует только регион 1. Именно его и можно рекомендовать для разработки."
   ]
  }
 ],
 "metadata": {
  "kernelspec": {
   "display_name": "Python 3",
   "language": "python",
   "name": "python3"
  },
  "language_info": {
   "codemirror_mode": {
    "name": "ipython",
    "version": 3
   },
   "file_extension": ".py",
   "mimetype": "text/x-python",
   "name": "python",
   "nbconvert_exporter": "python",
   "pygments_lexer": "ipython3",
   "version": "3.7.7"
  }
 },
 "nbformat": 4,
 "nbformat_minor": 4
}
