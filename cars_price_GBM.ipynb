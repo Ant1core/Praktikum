{
 "cells": [
  {
   "cell_type": "markdown",
   "metadata": {
    "pycharm": {
     "name": "#%% md\n"
    }
   },
   "source": [
    "# Рыночная стоимость автомобиля \"Не бит, не крашен\""
   ]
  },
  {
   "cell_type": "markdown",
   "metadata": {
    "pycharm": {
     "name": "#%% md\n"
    }
   },
   "source": [
    "Сервис по продаже автомобилей с пробегом «Не бит, не крашен» разрабатывает приложение для привлечения новых клиентов. В нём можно быстро узнать рыночную стоимость своего автомобиля. В вашем распоряжении исторические данные: технические характеристики, комплектации и цены автомобилей. Вам нужно построить модель для определения стоимости.<br/>\n",
    "Заказчику важны:\n",
    "* качество предсказания\n",
    "* скорость предсказания\n",
    "* время обучения"
   ]
  },
  {
   "cell_type": "markdown",
   "metadata": {
    "pycharm": {
     "name": "#%% md\n"
    }
   },
   "source": [
    "## 1. Загрузка и подготовка данных"
   ]
  },
  {
   "cell_type": "code",
   "execution_count": 1,
   "metadata": {
    "jupyter": {
     "outputs_hidden": false
    },
    "pycharm": {
     "name": "#%%\n"
    }
   },
   "outputs": [],
   "source": [
    "import pandas as pd\n",
    "import numpy as np\n",
    "import joblib\n",
    "import matplotlib.pyplot as plt\n",
    "import seaborn as sns\n",
    "from scipy import stats as st\n",
    "\n",
    "#models\n",
    "from sklearn.tree import DecisionTreeClassifier\n",
    "from sklearn.tree import DecisionTreeRegressor\n",
    "from sklearn.ensemble import RandomForestClassifier\n",
    "from sklearn.ensemble import RandomForestRegressor\n",
    "from sklearn.linear_model import LogisticRegression\n",
    "from sklearn.linear_model import LinearRegression\n",
    "\n",
    "import xgboost as xgb\n",
    "import lightgbm as lgb\n",
    "import catboost as cb\n",
    "\n",
    "#preprocess\n",
    "from sklearn.model_selection import train_test_split\n",
    "from sklearn.preprocessing import OneHotEncoder\n",
    "from sklearn.preprocessing import StandardScaler\n",
    "from sklearn.utils import shuffle\n",
    "from sklearn.model_selection import GridSearchCV\n",
    "\n",
    "# метрики\n",
    "from sklearn.metrics import accuracy_score\n",
    "from sklearn.metrics import mean_squared_error\n",
    "from sklearn.metrics import f1_score\n",
    "from sklearn.metrics import roc_curve\n",
    "from sklearn.metrics import roc_auc_score\n",
    "from sklearn.metrics import recall_score\n",
    "from sklearn.metrics import precision_score\n",
    "from sklearn.metrics import r2_score"
   ]
  },
  {
   "cell_type": "code",
   "execution_count": 2,
   "metadata": {
    "jupyter": {
     "outputs_hidden": false
    },
    "pycharm": {
     "name": "#%%\n"
    }
   },
   "outputs": [],
   "source": [
    "try:\n",
    "    data = pd.read_csv('autos.csv')\n",
    "except:\n",
    "    data = pd.read_csv('/datasets/autos.csv')"
   ]
  },
  {
   "cell_type": "code",
   "execution_count": 3,
   "metadata": {
    "jupyter": {
     "outputs_hidden": false
    },
    "pycharm": {
     "name": "#%%\n"
    }
   },
   "outputs": [
    {
     "name": "stdout",
     "output_type": "stream",
     "text": [
      "<class 'pandas.core.frame.DataFrame'>\n",
      "RangeIndex: 354369 entries, 0 to 354368\n",
      "Data columns (total 16 columns):\n",
      " #   Column             Non-Null Count   Dtype \n",
      "---  ------             --------------   ----- \n",
      " 0   DateCrawled        354369 non-null  object\n",
      " 1   Price              354369 non-null  int64 \n",
      " 2   VehicleType        316879 non-null  object\n",
      " 3   RegistrationYear   354369 non-null  int64 \n",
      " 4   Gearbox            334536 non-null  object\n",
      " 5   Power              354369 non-null  int64 \n",
      " 6   Model              334664 non-null  object\n",
      " 7   Kilometer          354369 non-null  int64 \n",
      " 8   RegistrationMonth  354369 non-null  int64 \n",
      " 9   FuelType           321474 non-null  object\n",
      " 10  Brand              354369 non-null  object\n",
      " 11  NotRepaired        283215 non-null  object\n",
      " 12  DateCreated        354369 non-null  object\n",
      " 13  NumberOfPictures   354369 non-null  int64 \n",
      " 14  PostalCode         354369 non-null  int64 \n",
      " 15  LastSeen           354369 non-null  object\n",
      "dtypes: int64(7), object(9)\n",
      "memory usage: 43.3+ MB\n"
     ]
    }
   ],
   "source": [
    "data.info()"
   ]
  },
  {
   "cell_type": "markdown",
   "metadata": {
    "pycharm": {
     "name": "#%% md\n"
    }
   },
   "source": [
    "### Описание данных\n",
    "Данные находятся в файле autos.csv.\n",
    "#### Признаки\n",
    "* DateCrawled — дата скачивания анкеты из базы\n",
    "* VehicleType — тип автомобильного кузова\n",
    "* RegistrationYear — год регистрации автомобиля\n",
    "* Gearbox — тип коробки передач\n",
    "* Power — мощность (л. с.)\n",
    "* Model — модель автомобиля\n",
    "* Kilometer — пробег (км)\n",
    "* RegistrationMonth — месяц регистрации автомобиля\n",
    "* FuelType — тип топлива\n",
    "* Brand — марка автомобиля\n",
    "* NotRepaired — была машина в ремонте или нет\n",
    "* DateCreated — дата создания анкеты\n",
    "* NumberOfPictures — количество фотографий автомобиля\n",
    "* PostalCode — почтовый индекс владельца анкеты (пользователя)\n",
    "* LastSeen — дата последней активности пользователя\n",
    "#### Целевой признак\n",
    "* Price — цена (евро)\n",
    "\n",
    "Проанализируем данные в каждом столбце."
   ]
  },
  {
   "cell_type": "markdown",
   "metadata": {
    "pycharm": {
     "name": "#%% md\n"
    }
   },
   "source": [
    "### VehicleType"
   ]
  },
  {
   "cell_type": "code",
   "execution_count": 4,
   "metadata": {
    "jupyter": {
     "outputs_hidden": false
    },
    "pycharm": {
     "name": "#%%\n"
    }
   },
   "outputs": [
    {
     "data": {
      "text/plain": [
       "37490"
      ]
     },
     "execution_count": 4,
     "metadata": {},
     "output_type": "execute_result"
    }
   ],
   "source": [
    "# NaNs\n",
    "data['VehicleType'].isna().sum()"
   ]
  },
  {
   "cell_type": "code",
   "execution_count": 5,
   "metadata": {
    "jupyter": {
     "outputs_hidden": false
    },
    "pycharm": {
     "name": "#%%\n"
    }
   },
   "outputs": [
    {
     "data": {
      "text/plain": [
       "sedan          91457\n",
       "small          79831\n",
       "wagon          65166\n",
       "other          40778\n",
       "bus            28775\n",
       "convertible    20203\n",
       "coupe          16163\n",
       "suv            11996\n",
       "Name: VehicleType, dtype: int64"
      ]
     },
     "execution_count": 5,
     "metadata": {},
     "output_type": "execute_result"
    }
   ],
   "source": [
    "# пропуски в типе кузова заменим на новую категорю other, чтобы не терять данные\n",
    "data['VehicleType'] = data['VehicleType'].fillna('other')\n",
    "\n",
    "data['VehicleType'].value_counts()"
   ]
  },
  {
   "cell_type": "markdown",
   "metadata": {
    "pycharm": {
     "name": "#%% md\n"
    }
   },
   "source": [
    "### RegistrationYear, RegistrationMonth"
   ]
  },
  {
   "cell_type": "code",
   "execution_count": 6,
   "metadata": {
    "jupyter": {
     "outputs_hidden": false
    },
    "pycharm": {
     "name": "#%%\n"
    }
   },
   "outputs": [],
   "source": [
    "# удалим выбросы и невалидные по годам данные. Также уберём старые авто\n",
    "data = data.query('1980 < RegistrationYear <= 2016')"
   ]
  },
  {
   "cell_type": "code",
   "execution_count": 7,
   "metadata": {
    "jupyter": {
     "outputs_hidden": false
    },
    "pycharm": {
     "name": "#%%\n"
    }
   },
   "outputs": [
    {
     "data": {
      "text/plain": [
       "<matplotlib.axes._subplots.AxesSubplot at 0x7f9fcc6a5dc0>"
      ]
     },
     "execution_count": 7,
     "metadata": {},
     "output_type": "execute_result"
    },
    {
     "data": {
      "image/png": "[encoded data removed]",
      "text/plain": [
       "<Figure size 432x288 with 1 Axes>"
      ]
     },
     "metadata": {
      "needs_background": "light"
     },
     "output_type": "display_data"
    }
   ],
   "source": [
    "data.plot(y='RegistrationYear', kind='box')"
   ]
  },
  {
   "cell_type": "code",
   "execution_count": 8,
   "metadata": {
    "jupyter": {
     "outputs_hidden": false
    },
    "pycharm": {
     "name": "#%%\n"
    }
   },
   "outputs": [
    {
     "data": {
      "text/plain": [
       "<matplotlib.axes._subplots.AxesSubplot at 0x7f9fcbe3d4f0>"
      ]
     },
     "execution_count": 8,
     "metadata": {},
     "output_type": "execute_result"
    },
    {
     "data": {
      "image/png": "[encoded data removed]",
      "text/plain": [
       "<Figure size 432x288 with 1 Axes>"
      ]
     },
     "metadata": {
      "needs_background": "light"
     },
     "output_type": "display_data"
    }
   ],
   "source": [
    "data['RegistrationMonth'].hist()"
   ]
  },
  {
   "cell_type": "markdown",
   "metadata": {
    "pycharm": {
     "name": "#%% md\n"
    }
   },
   "source": [
    "Данные выглядят нормально. Но месяц регистрации мы использовать не будем, а год - будем."
   ]
  },
  {
   "cell_type": "markdown",
   "metadata": {
    "pycharm": {
     "name": "#%% md\n"
    }
   },
   "source": [
    "### Gearbox"
   ]
  },
  {
   "cell_type": "code",
   "execution_count": 9,
   "metadata": {
    "jupyter": {
     "outputs_hidden": false
    },
    "pycharm": {
     "name": "#%%\n"
    }
   },
   "outputs": [
    {
     "data": {
      "text/plain": [
       "16944"
      ]
     },
     "execution_count": 9,
     "metadata": {},
     "output_type": "execute_result"
    }
   ],
   "source": [
    "data['Gearbox'].isna().sum()"
   ]
  },
  {
   "cell_type": "markdown",
   "metadata": {
    "pycharm": {
     "name": "#%% md\n"
    }
   },
   "source": [
    "Пропусков много... Жаль, потому что тип коробки определённо влияет на стоимость автомобиля.</br>\n",
    "Но заполнить пропуски нечем.\n",
    "\n",
    "### Power"
   ]
  },
  {
   "cell_type": "markdown",
   "metadata": {
    "pycharm": {
     "name": "#%% md\n"
    }
   },
   "source": [
    "Ограничиваем порог валидных значений:\n",
    "* min: 50 л.с. (Daewoo Matiz)\n",
    "* 500 л.с. (Lamborgini) :))"
   ]
  },
  {
   "cell_type": "code",
   "execution_count": 10,
   "metadata": {
    "jupyter": {
     "outputs_hidden": false
    },
    "pycharm": {
     "name": "#%%\n"
    }
   },
   "outputs": [],
   "source": [
    "# уберём из списка хвосты\n",
    "data = data.query('50<Power<500')"
   ]
  },
  {
   "cell_type": "code",
   "execution_count": 11,
   "metadata": {
    "jupyter": {
     "outputs_hidden": false
    },
    "pycharm": {
     "name": "#%%\n"
    }
   },
   "outputs": [
    {
     "data": {
      "text/plain": [
       "<matplotlib.axes._subplots.AxesSubplot at 0x7f9fcbdad6a0>"
      ]
     },
     "execution_count": 11,
     "metadata": {},
     "output_type": "execute_result"
    },
    {
     "data": {
      "image/png": "[encoded data removed]",
      "text/plain": [
       "<Figure size 432x288 with 1 Axes>"
      ]
     },
     "metadata": {
      "needs_background": "light"
     },
     "output_type": "display_data"
    }
   ],
   "source": [
    "data['Power'].hist(bins=50)"
   ]
  },
  {
   "cell_type": "markdown",
   "metadata": {
    "pycharm": {
     "name": "#%% md\n"
    }
   },
   "source": [
    "### Model"
   ]
  },
  {
   "cell_type": "code",
   "execution_count": 12,
   "metadata": {
    "jupyter": {
     "outputs_hidden": false
    },
    "pycharm": {
     "name": "#%%\n"
    }
   },
   "outputs": [
    {
     "data": {
      "text/plain": [
       "10789"
      ]
     },
     "execution_count": 12,
     "metadata": {},
     "output_type": "execute_result"
    }
   ],
   "source": [
    "#look Nan\n",
    "data['Model'].isna().sum()"
   ]
  },
  {
   "cell_type": "markdown",
   "metadata": {
    "pycharm": {
     "name": "#%% md\n"
    }
   },
   "source": [
    "Терять пропуски жалко. Заполним их 'noname'."
   ]
  },
  {
   "cell_type": "code",
   "execution_count": 13,
   "metadata": {
    "jupyter": {
     "outputs_hidden": false
    },
    "pycharm": {
     "name": "#%%\n"
    }
   },
   "outputs": [],
   "source": [
    "data['Model']=data['Model'].fillna('noname')"
   ]
  },
  {
   "cell_type": "markdown",
   "metadata": {
    "pycharm": {
     "name": "#%% md\n"
    }
   },
   "source": [
    "### Kilometer"
   ]
  },
  {
   "cell_type": "code",
   "execution_count": 14,
   "metadata": {
    "jupyter": {
     "outputs_hidden": false
    },
    "pycharm": {
     "name": "#%%\n"
    }
   },
   "outputs": [
    {
     "data": {
      "text/plain": [
       "<matplotlib.axes._subplots.AxesSubplot at 0x7f9fcbcfb3a0>"
      ]
     },
     "execution_count": 14,
     "metadata": {},
     "output_type": "execute_result"
    },
    {
     "data": {
      "image/png": "[encoded data removed]",
      "text/plain": [
       "<Figure size 432x288 with 1 Axes>"
      ]
     },
     "metadata": {
      "needs_background": "light"
     },
     "output_type": "display_data"
    }
   ],
   "source": [
    "data['Kilometer'].hist(bins=10)"
   ]
  },
  {
   "cell_type": "markdown",
   "metadata": {
    "pycharm": {
     "name": "#%% md\n"
    }
   },
   "source": [
    "Вроде ничего страшного, пропусков тоже нет. Данные выглядят немного странно, будто они являются категориальными. Но использоваться они будут как скалярные.\n",
    "\n",
    "### FuelType"
   ]
  },
  {
   "cell_type": "code",
   "execution_count": 15,
   "metadata": {
    "jupyter": {
     "outputs_hidden": false
    },
    "pycharm": {
     "name": "#%%\n"
    }
   },
   "outputs": [
    {
     "data": {
      "text/plain": [
       "petrol      181802\n",
       "gasoline     88021\n",
       "lpg           4751\n",
       "cng            482\n",
       "hybrid         201\n",
       "other           55\n",
       "electric        33\n",
       "Name: FuelType, dtype: int64"
      ]
     },
     "execution_count": 15,
     "metadata": {},
     "output_type": "execute_result"
    }
   ],
   "source": [
    "data['FuelType'].value_counts()"
   ]
  },
  {
   "cell_type": "markdown",
   "metadata": {
    "pycharm": {
     "name": "#%% md\n"
    }
   },
   "source": [
    "Petrol и Gasoline - это на самом деле бензин, топливо одинаковое. Вероятно, объявления аггрегировались из разных стран, где бензин называют по-разному.<br/>\n",
    "Было бы логично объединить эти категории.<br/>\n",
    "Однако, если наша модель будет учитывать эту особенность для предсказания цены - будет прикольно! Так что оставим их разными классами."
   ]
  },
  {
   "cell_type": "code",
   "execution_count": 16,
   "metadata": {
    "jupyter": {
     "outputs_hidden": false
    },
    "pycharm": {
     "name": "#%%\n"
    }
   },
   "outputs": [
    {
     "data": {
      "text/plain": [
       "15516"
      ]
     },
     "execution_count": 16,
     "metadata": {},
     "output_type": "execute_result"
    }
   ],
   "source": [
    "data['FuelType'].isna().sum()"
   ]
  },
  {
   "cell_type": "markdown",
   "metadata": {
    "pycharm": {
     "name": "#%% md\n"
    }
   },
   "source": [
    "А вот с пропусками ничего не поделаешь...\n",
    "\n",
    "### Brand"
   ]
  },
  {
   "cell_type": "code",
   "execution_count": 17,
   "metadata": {
    "jupyter": {
     "outputs_hidden": false
    },
    "pycharm": {
     "name": "#%%\n"
    }
   },
   "outputs": [
    {
     "data": {
      "text/plain": [
       "volkswagen        61566\n",
       "bmw               32847\n",
       "opel              31710\n",
       "mercedes_benz     27365\n",
       "audi              26171\n",
       "ford              20156\n",
       "renault           13964\n",
       "peugeot            9259\n",
       "fiat               7373\n",
       "seat               5328\n",
       "skoda              4962\n",
       "mazda              4775\n",
       "citroen            4170\n",
       "nissan             4047\n",
       "toyota             4024\n",
       "smart              3526\n",
       "hyundai            3124\n",
       "mini               2964\n",
       "volvo              2833\n",
       "mitsubishi         2565\n",
       "honda              2428\n",
       "kia                2126\n",
       "alfa_romeo         1980\n",
       "suzuki             1929\n",
       "chevrolet          1394\n",
       "sonstige_autos     1272\n",
       "chrysler           1188\n",
       "dacia               804\n",
       "subaru              657\n",
       "porsche             590\n",
       "jeep                559\n",
       "daihatsu            554\n",
       "saab                478\n",
       "land_rover          450\n",
       "jaguar              426\n",
       "daewoo              406\n",
       "rover               380\n",
       "lancia              364\n",
       "lada                141\n",
       "trabant               6\n",
       "Name: Brand, dtype: int64"
      ]
     },
     "execution_count": 17,
     "metadata": {},
     "output_type": "execute_result"
    }
   ],
   "source": [
    "data['Brand'].value_counts()"
   ]
  },
  {
   "cell_type": "markdown",
   "metadata": {
    "pycharm": {
     "name": "#%% md\n"
    }
   },
   "source": [
    "Бренд должен оказывать влияние на цену авто. Поэтому считаем его категориальными признаками.<br/>\n",
    "\n",
    "### NotRepaired"
   ]
  },
  {
   "cell_type": "code",
   "execution_count": 18,
   "metadata": {
    "jupyter": {
     "outputs_hidden": false
    },
    "pycharm": {
     "name": "#%%\n"
    }
   },
   "outputs": [
    {
     "data": {
      "text/plain": [
       "42438"
      ]
     },
     "execution_count": 18,
     "metadata": {},
     "output_type": "execute_result"
    }
   ],
   "source": [
    "data['NotRepaired'].isna().sum()"
   ]
  },
  {
   "cell_type": "markdown",
   "metadata": {
    "pycharm": {
     "name": "#%% md\n"
    }
   },
   "source": [
    "Многовато пропусков. Потерять объявления было бы жалко.\n",
    "Но т.к. ремонт-важный признак, введём новую категорию, куда отнесём не указанные - 'NA'."
   ]
  },
  {
   "cell_type": "code",
   "execution_count": 19,
   "metadata": {
    "jupyter": {
     "outputs_hidden": false
    },
    "pycharm": {
     "name": "#%%\n"
    }
   },
   "outputs": [
    {
     "data": {
      "text/plain": [
       "no     219682\n",
       "NA      42438\n",
       "yes     28741\n",
       "Name: NotRepaired, dtype: int64"
      ]
     },
     "execution_count": 19,
     "metadata": {},
     "output_type": "execute_result"
    }
   ],
   "source": [
    "data['NotRepaired'] = data['NotRepaired'].fillna('NA')\n",
    "data['NotRepaired'].value_counts()"
   ]
  },
  {
   "cell_type": "code",
   "execution_count": 20,
   "metadata": {
    "jupyter": {
     "outputs_hidden": false
    },
    "pycharm": {
     "name": "#%%\n"
    }
   },
   "outputs": [
    {
     "data": {
      "text/plain": [
       "0"
      ]
     },
     "execution_count": 20,
     "metadata": {},
     "output_type": "execute_result"
    }
   ],
   "source": [
    "data['DateCreated'].isna().sum()"
   ]
  },
  {
   "cell_type": "markdown",
   "metadata": {
    "pycharm": {
     "name": "#%% md\n"
    }
   },
   "source": [
    "### Price"
   ]
  },
  {
   "cell_type": "code",
   "execution_count": 21,
   "metadata": {
    "jupyter": {
     "outputs_hidden": false
    },
    "pycharm": {
     "name": "#%%\n"
    }
   },
   "outputs": [
    {
     "data": {
      "text/plain": [
       "<matplotlib.axes._subplots.AxesSubplot at 0x7f9fcbcc98b0>"
      ]
     },
     "execution_count": 21,
     "metadata": {},
     "output_type": "execute_result"
    },
    {
     "data": {
      "image/png": "[encoded data removed]",
      "text/plain": [
       "<Figure size 432x288 with 1 Axes>"
      ]
     },
     "metadata": {
      "needs_background": "light"
     },
     "output_type": "display_data"
    }
   ],
   "source": [
    "data['Price'].hist()"
   ]
  },
  {
   "cell_type": "markdown",
   "metadata": {
    "pycharm": {
     "name": "#%% md\n"
    }
   },
   "source": [
    "Уберем объявления, о дарении машин (цена ==0)"
   ]
  },
  {
   "cell_type": "code",
   "execution_count": 22,
   "metadata": {
    "jupyter": {
     "outputs_hidden": false
    },
    "pycharm": {
     "name": "#%%\n"
    }
   },
   "outputs": [],
   "source": [
    "data = data.query('Price != 0')"
   ]
  },
  {
   "cell_type": "markdown",
   "metadata": {
    "pycharm": {
     "name": "#%% md\n"
    }
   },
   "source": [
    "Столбцы \"DateCreated, NumberOfPictures, PostalCode, LastSeen\" не влияют на стоимость авто, и не содержат пропусков.\n",
    "\n",
    "Все пропущенные значения, где это было целесообразно, были обработаны. Поэтому для итоговых данных отбросим объявления с пропусками."
   ]
  },
  {
   "cell_type": "code",
   "execution_count": 23,
   "metadata": {
    "jupyter": {
     "outputs_hidden": false
    },
    "pycharm": {
     "name": "#%%\n"
    }
   },
   "outputs": [],
   "source": [
    "# отбрасываем объявления с пропусками\n",
    "data = data.dropna()"
   ]
  },
  {
   "cell_type": "markdown",
   "metadata": {
    "pycharm": {
     "name": "#%% md\n"
    }
   },
   "source": [
    "Датасет с валидными для обучения данными готов! Кол-во объектов уменьшилось, но их всё равно ещё много!\n",
    "\n",
    "Продолжаем обработку. Выделим значимые признаки для обучения моделей.<br/>"
   ]
  },
  {
   "cell_type": "code",
   "execution_count": 24,
   "metadata": {
    "jupyter": {
     "outputs_hidden": false
    },
    "pycharm": {
     "name": "#%%\n"
    }
   },
   "outputs": [],
   "source": [
    "#categorical features\n",
    "cat_features=['VehicleType', 'Gearbox', 'FuelType', 'Brand', 'NotRepaired']\n",
    "\n",
    "#numeric features\n",
    "num_features=['RegistrationYear','Power','Kilometer']"
   ]
  },
  {
   "cell_type": "markdown",
   "metadata": {},
   "source": [
    "Следующие признаки использоваться не будут. В принципе очевидно всё. \"Модель\" не используем по двум причинам: 1. Отсутствие знания \"модели авто\" позволит лучше понять зависимость ценового сегмента авто от более значимых параметров(год выпуска, пробег).  2. Слишком много категорий - сложная машинная модель, низкие характеристики."
   ]
  },
  {
   "cell_type": "code",
   "execution_count": 25,
   "metadata": {
    "jupyter": {
     "outputs_hidden": false
    },
    "pycharm": {
     "name": "#%%\n"
    }
   },
   "outputs": [],
   "source": [
    "df = data.drop(['DateCrawled', 'Model', 'RegistrationMonth', 'DateCreated', 'NumberOfPictures','PostalCode', 'LastSeen'], axis=1)"
   ]
  },
  {
   "cell_type": "markdown",
   "metadata": {
    "pycharm": {
     "name": "#%% md\n"
    }
   },
   "source": [
    "Здесь мы разделим датасет.<br/>\n",
    "Для df- закодируем категориальные признаки через ОНЕ.\n",
    "Для df_cat - оставим без изменений. "
   ]
  },
  {
   "cell_type": "code",
   "execution_count": 27,
   "metadata": {
    "jupyter": {
     "outputs_hidden": false
    },
    "pycharm": {
     "name": "#%%\n"
    }
   },
   "outputs": [
    {
     "name": "stdout",
     "output_type": "stream",
     "text": [
      "<class 'pandas.core.frame.DataFrame'>\n",
      "Int64Index: 266775 entries, 1 to 354368\n",
      "Data columns (total 9 columns):\n",
      " #   Column            Non-Null Count   Dtype \n",
      "---  ------            --------------   ----- \n",
      " 0   Price             266775 non-null  int64 \n",
      " 1   VehicleType       266775 non-null  object\n",
      " 2   RegistrationYear  266775 non-null  int64 \n",
      " 3   Gearbox           266775 non-null  object\n",
      " 4   Power             266775 non-null  int64 \n",
      " 5   Kilometer         266775 non-null  int64 \n",
      " 6   FuelType          266775 non-null  object\n",
      " 7   Brand             266775 non-null  object\n",
      " 8   NotRepaired       266775 non-null  object\n",
      "dtypes: int64(4), object(5)\n",
      "memory usage: 20.4+ MB\n"
     ]
    }
   ],
   "source": [
    "df_cat = df\n",
    "df_cat.info()"
   ]
  },
  {
   "cell_type": "markdown",
   "metadata": {
    "pycharm": {
     "name": "#%% md\n"
    }
   },
   "source": [
    "### Кодирование признаков OHE"
   ]
  },
  {
   "cell_type": "code",
   "execution_count": 28,
   "metadata": {
    "jupyter": {
     "outputs_hidden": true
    },
    "pycharm": {
     "name": "#%%\n"
    }
   },
   "outputs": [
    {
     "name": "stdout",
     "output_type": "stream",
     "text": [
      "<class 'pandas.core.frame.DataFrame'>\n",
      "Int64Index: 266775 entries, 1 to 354368\n",
      "Data columns (total 64 columns):\n",
      " #   Column                   Non-Null Count   Dtype\n",
      "---  ------                   --------------   -----\n",
      " 0   Price                    266775 non-null  int64\n",
      " 1   RegistrationYear         266775 non-null  int64\n",
      " 2   Power                    266775 non-null  int64\n",
      " 3   Kilometer                266775 non-null  int64\n",
      " 4   VehicleType_bus          266775 non-null  uint8\n",
      " 5   VehicleType_convertible  266775 non-null  uint8\n",
      " 6   VehicleType_coupe        266775 non-null  uint8\n",
      " 7   VehicleType_other        266775 non-null  uint8\n",
      " 8   VehicleType_sedan        266775 non-null  uint8\n",
      " 9   VehicleType_small        266775 non-null  uint8\n",
      " 10  VehicleType_suv          266775 non-null  uint8\n",
      " 11  VehicleType_wagon        266775 non-null  uint8\n",
      " 12  Gearbox_auto             266775 non-null  uint8\n",
      " 13  Gearbox_manual           266775 non-null  uint8\n",
      " 14  FuelType_cng             266775 non-null  uint8\n",
      " 15  FuelType_electric        266775 non-null  uint8\n",
      " 16  FuelType_gasoline        266775 non-null  uint8\n",
      " 17  FuelType_hybrid          266775 non-null  uint8\n",
      " 18  FuelType_lpg             266775 non-null  uint8\n",
      " 19  FuelType_other           266775 non-null  uint8\n",
      " 20  FuelType_petrol          266775 non-null  uint8\n",
      " 21  Brand_alfa_romeo         266775 non-null  uint8\n",
      " 22  Brand_audi               266775 non-null  uint8\n",
      " 23  Brand_bmw                266775 non-null  uint8\n",
      " 24  Brand_chevrolet          266775 non-null  uint8\n",
      " 25  Brand_chrysler           266775 non-null  uint8\n",
      " 26  Brand_citroen            266775 non-null  uint8\n",
      " 27  Brand_dacia              266775 non-null  uint8\n",
      " 28  Brand_daewoo             266775 non-null  uint8\n",
      " 29  Brand_daihatsu           266775 non-null  uint8\n",
      " 30  Brand_fiat               266775 non-null  uint8\n",
      " 31  Brand_ford               266775 non-null  uint8\n",
      " 32  Brand_honda              266775 non-null  uint8\n",
      " 33  Brand_hyundai            266775 non-null  uint8\n",
      " 34  Brand_jaguar             266775 non-null  uint8\n",
      " 35  Brand_jeep               266775 non-null  uint8\n",
      " 36  Brand_kia                266775 non-null  uint8\n",
      " 37  Brand_lada               266775 non-null  uint8\n",
      " 38  Brand_lancia             266775 non-null  uint8\n",
      " 39  Brand_land_rover         266775 non-null  uint8\n",
      " 40  Brand_mazda              266775 non-null  uint8\n",
      " 41  Brand_mercedes_benz      266775 non-null  uint8\n",
      " 42  Brand_mini               266775 non-null  uint8\n",
      " 43  Brand_mitsubishi         266775 non-null  uint8\n",
      " 44  Brand_nissan             266775 non-null  uint8\n",
      " 45  Brand_opel               266775 non-null  uint8\n",
      " 46  Brand_peugeot            266775 non-null  uint8\n",
      " 47  Brand_porsche            266775 non-null  uint8\n",
      " 48  Brand_renault            266775 non-null  uint8\n",
      " 49  Brand_rover              266775 non-null  uint8\n",
      " 50  Brand_saab               266775 non-null  uint8\n",
      " 51  Brand_seat               266775 non-null  uint8\n",
      " 52  Brand_skoda              266775 non-null  uint8\n",
      " 53  Brand_smart              266775 non-null  uint8\n",
      " 54  Brand_sonstige_autos     266775 non-null  uint8\n",
      " 55  Brand_subaru             266775 non-null  uint8\n",
      " 56  Brand_suzuki             266775 non-null  uint8\n",
      " 57  Brand_toyota             266775 non-null  uint8\n",
      " 58  Brand_trabant            266775 non-null  uint8\n",
      " 59  Brand_volkswagen         266775 non-null  uint8\n",
      " 60  Brand_volvo              266775 non-null  uint8\n",
      " 61  NotRepaired_NA           266775 non-null  uint8\n",
      " 62  NotRepaired_no           266775 non-null  uint8\n",
      " 63  NotRepaired_yes          266775 non-null  uint8\n",
      "dtypes: int64(4), uint8(60)\n",
      "memory usage: 25.4 MB\n"
     ]
    }
   ],
   "source": [
    "df = pd.get_dummies(df,columns=cat_features)\n",
    "df.info()"
   ]
  },
  {
   "cell_type": "markdown",
   "metadata": {
    "pycharm": {
     "name": "#%% md\n"
    }
   },
   "source": [
    "Разбиваем на трейн\\тест и нормируем численные признаки."
   ]
  },
  {
   "cell_type": "code",
   "execution_count": 29,
   "metadata": {
    "jupyter": {
     "outputs_hidden": false
    },
    "pycharm": {
     "name": "#%%\n"
    }
   },
   "outputs": [
    {
     "name": "stdout",
     "output_type": "stream",
     "text": [
      "Features train: (200081, 63)\n",
      "Features test: (66694, 63)\n",
      "Target train: (200081,)\n",
      "Target test: (66694,)\n"
     ]
    }
   ],
   "source": [
    "target = df['Price']\n",
    "df_features=df.drop(['Price'], axis=1)\n",
    "\n",
    "features_train, features_test, target_train, target_test = train_test_split(df_features,target, test_size=0.25)\n",
    "print('Features train:', features_train.shape)\n",
    "print('Features test:', features_test.shape)\n",
    "print('Target train:', target_train.shape)\n",
    "print('Target test:', target_test.shape)"
   ]
  },
  {
   "cell_type": "code",
   "execution_count": 30,
   "metadata": {
    "jupyter": {
     "outputs_hidden": false
    },
    "pycharm": {
     "name": "#%%\n"
    }
   },
   "outputs": [
    {
     "data": {
      "text/plain": [
       "StandardScaler()"
      ]
     },
     "execution_count": 30,
     "metadata": {},
     "output_type": "execute_result"
    }
   ],
   "source": [
    "# scaling using StandartScaler\n",
    "scaler=StandardScaler()\n",
    "scaler.fit(features_train[num_features])"
   ]
  },
  {
   "cell_type": "code",
   "execution_count": 31,
   "metadata": {
    "jupyter": {
     "outputs_hidden": true
    },
    "pycharm": {
     "name": "#%%\n"
    },
    "scrolled": true
   },
   "outputs": [
    {
     "name": "stderr",
     "output_type": "stream",
     "text": [
      "<ipython-input-31-7493056fee75>:4: SettingWithCopyWarning: \n",
      "A value is trying to be set on a copy of a slice from a DataFrame.\n",
      "Try using .loc[row_indexer,col_indexer] = value instead\n",
      "\n",
      "See the caveats in the documentation: https://pandas.pydata.org/pandas-docs/stable/user_guide/indexing.html#returning-a-view-versus-a-copy\n",
      "  features_train_scaled[num_features]=scaler.transform(features_train[num_features])\n",
      "/home/anticore/anaconda3/lib/python3.8/site-packages/pandas/core/indexing.py:966: SettingWithCopyWarning: \n",
      "A value is trying to be set on a copy of a slice from a DataFrame.\n",
      "Try using .loc[row_indexer,col_indexer] = value instead\n",
      "\n",
      "See the caveats in the documentation: https://pandas.pydata.org/pandas-docs/stable/user_guide/indexing.html#returning-a-view-versus-a-copy\n",
      "  self.obj[item] = s\n",
      "<ipython-input-31-7493056fee75>:5: SettingWithCopyWarning: \n",
      "A value is trying to be set on a copy of a slice from a DataFrame.\n",
      "Try using .loc[row_indexer,col_indexer] = value instead\n",
      "\n",
      "See the caveats in the documentation: https://pandas.pydata.org/pandas-docs/stable/user_guide/indexing.html#returning-a-view-versus-a-copy\n",
      "  features_test_scaled[num_features]=scaler.transform(features_test[num_features])\n",
      "/home/anticore/anaconda3/lib/python3.8/site-packages/pandas/core/indexing.py:966: SettingWithCopyWarning: \n",
      "A value is trying to be set on a copy of a slice from a DataFrame.\n",
      "Try using .loc[row_indexer,col_indexer] = value instead\n",
      "\n",
      "See the caveats in the documentation: https://pandas.pydata.org/pandas-docs/stable/user_guide/indexing.html#returning-a-view-versus-a-copy\n",
      "  self.obj[item] = s\n"
     ]
    }
   ],
   "source": [
    "features_train_scaled = features_train\n",
    "features_test_scaled = features_test\n",
    "\n",
    "features_train_scaled[num_features]=scaler.transform(features_train[num_features])\n",
    "features_test_scaled[num_features]=scaler.transform(features_test[num_features])"
   ]
  },
  {
   "cell_type": "markdown",
   "metadata": {
    "pycharm": {
     "name": "#%% md\n"
    }
   },
   "source": [
    "## Выводы\n",
    "\n",
    "На вход получены выгрузки объявлений о продажи автомобилей. <br/>\n",
    "Данные были проанализированы на наличие выбросов и пропусков. И те и другие были обработаны <br/>\n",
    "Для целей обучения модели предсказания цены автомобиля, были выбраны значимые признаки:\n",
    "* Категориальные:\n",
    "    * 'VehicleType'\n",
    "    * 'Gearbox'\n",
    "    * 'FuelType'\n",
    "    * 'Brand'\n",
    "    * 'NotRepaired'\n",
    "* Численные:\n",
    "    * 'RegistrationYear'\n",
    "    * 'Power'\n",
    "    * 'Kilometer'\n",
    "Целевой признак - 'Price'. <br/>\n",
    "\n",
    "Категориальные признаки были закодированы ОНЕ. Численные признаки были отнормированы, используя StandardScaler.<br/>\n",
    "Итоговые данные были разбиты на обучающую и тренировочную выборку(4:1). Размеры выборок:\n",
    "* Features train: (200081, 63)\n",
    "* Features test: (66694, 63)\n",
    "* Target train: (200081,)\n",
    "* Target test: (66694,)"
   ]
  },
  {
   "cell_type": "markdown",
   "metadata": {
    "pycharm": {
     "name": "#%% md\n"
    }
   },
   "source": [
    "# 2. Обучение моделей"
   ]
  },
  {
   "cell_type": "markdown",
   "metadata": {},
   "source": [
    "Рассмотрим разные модели и оценим их по характерискам, интересным Заказчику:\n",
    "* качество предсказания (RMSE)\n",
    "* скорость предсказания\n",
    "* время обучения\n"
   ]
  },
  {
   "cell_type": "code",
   "execution_count": 32,
   "metadata": {
    "jupyter": {
     "outputs_hidden": false
    },
    "pycharm": {
     "name": "#%%\n"
    }
   },
   "outputs": [],
   "source": [
    "# функция строит предсказания на тестовой сборке и выдаёт скоры модели\n",
    "def score_me(model):\n",
    "\n",
    "    fit_t = %timeit -r 2 -o model.fit(features_train_scaled, target_train)\n",
    "\n",
    "    pred_t = %timeit -r 2 -o model.predict(features_test_scaled)\n",
    "    pred=model.predict(features_test)\n",
    "\n",
    "    r2=r2_score(target_test,pred)\n",
    "    mse=mean_squared_error(target_test,pred)\n",
    "    rmse=mse**0.5\n",
    "\n",
    "    result = {\n",
    "        'Fit_time':fit_t.best,\n",
    "        'Pred_time':pred_t.best,\n",
    "        'RMSE':rmse\n",
    "    }\n",
    "\n",
    "    print('SCORING DONE')\n",
    "    return result"
   ]
  },
  {
   "cell_type": "markdown",
   "metadata": {
    "pycharm": {
     "name": "#%% md\n"
    }
   },
   "source": [
    "### 2.1 Constant model"
   ]
  },
  {
   "cell_type": "code",
   "execution_count": 33,
   "metadata": {
    "jupyter": {
     "outputs_hidden": false
    },
    "pycharm": {
     "name": "#%%\n"
    }
   },
   "outputs": [
    {
     "name": "stdout",
     "output_type": "stream",
     "text": [
      "RMSE const. model(median predictions): 4924.921833977264\n"
     ]
    }
   ],
   "source": [
    "# посчитаем метрику медианной модели\n",
    "median_target = target_train.median()\n",
    "median_pred = np.full((target_test.shape),median_target)\n",
    "\n",
    "rmse_const = (mean_squared_error(target_test, median_pred))**0.5\n",
    "print('RMSE const. model(median predictions):', rmse_const)"
   ]
  },
  {
   "cell_type": "code",
   "execution_count": 34,
   "metadata": {
    "jupyter": {
     "outputs_hidden": false
    },
    "pycharm": {
     "name": "#%%\n"
    }
   },
   "outputs": [
    {
     "data": {
      "text/html": [
       "<div>\n",
       "<style scoped>\n",
       "    .dataframe tbody tr th:only-of-type {\n",
       "        vertical-align: middle;\n",
       "    }\n",
       "\n",
       "    .dataframe tbody tr th {\n",
       "        vertical-align: top;\n",
       "    }\n",
       "\n",
       "    .dataframe thead th {\n",
       "        text-align: right;\n",
       "    }\n",
       "</style>\n",
       "<table border=\"1\" class=\"dataframe\">\n",
       "  <thead>\n",
       "    <tr style=\"text-align: right;\">\n",
       "      <th></th>\n",
       "      <th>Fit_time</th>\n",
       "      <th>Pred_time</th>\n",
       "      <th>RMSE</th>\n",
       "    </tr>\n",
       "  </thead>\n",
       "  <tbody>\n",
       "    <tr>\n",
       "      <th>Const</th>\n",
       "      <td>0.01</td>\n",
       "      <td>0.01</td>\n",
       "      <td>4924.921834</td>\n",
       "    </tr>\n",
       "  </tbody>\n",
       "</table>\n",
       "</div>"
      ],
      "text/plain": [
       "       Fit_time  Pred_time         RMSE\n",
       "Const      0.01       0.01  4924.921834"
      ]
     },
     "execution_count": 34,
     "metadata": {},
     "output_type": "execute_result"
    }
   ],
   "source": [
    "result = pd.DataFrame(columns=['Fit_time','Pred_time', 'RMSE'])\n",
    "result.loc['Const'] = [0.01,0.01,rmse_const]\n",
    "result"
   ]
  },
  {
   "cell_type": "markdown",
   "metadata": {
    "pycharm": {
     "name": "#%% md\n"
    }
   },
   "source": [
    "### 2.2 DecisionTreeRegressor"
   ]
  },
  {
   "cell_type": "code",
   "execution_count": 35,
   "metadata": {
    "jupyter": {
     "outputs_hidden": false
    },
    "pycharm": {
     "name": "#%%\n"
    }
   },
   "outputs": [],
   "source": [
    "# функция гридсерч для дерева\n",
    "def DTR_grid(feat, targ):\n",
    "    estimator = DecisionTreeRegressor(random_state=112211)\n",
    "    param_grid = {\n",
    "            \"max_depth\" : [i for i in range(4,15,2)],\n",
    "            \"min_samples_leaf\" : [i for i in range(1,20,5)],\n",
    "            \"min_samples_split\" : [2,4,8],\n",
    "            \"max_features\"      : [\"auto\", \"sqrt\", \"log2\"],\n",
    "                }\n",
    "\n",
    "    rfr_grid = GridSearchCV(estimator, param_grid, n_jobs=-1, cv=5, scoring='neg_root_mean_squared_error')\n",
    "    rfr_grid.fit(feat, targ)\n",
    "\n",
    "    print('...Search completed...')\n",
    "    print('Best RMSE score', rfr_grid.best_score_)\n",
    "    print('Best params:', rfr_grid.best_params_)\n",
    "\n",
    "    return rfr_grid.best_params_"
   ]
  },
  {
   "cell_type": "code",
   "execution_count": 36,
   "metadata": {
    "jupyter": {
     "outputs_hidden": false
    },
    "pycharm": {
     "name": "#%%\n"
    }
   },
   "outputs": [],
   "source": [
    "# получаем лучшие параметры дерева\n",
    "#dtr_params = DTR_grid(features_train_scaled,target_train)\n",
    "dtr_params = {'max_depth': 14, 'max_features': 'auto', 'min_samples_leaf': 6, 'min_samples_split': 2}"
   ]
  },
  {
   "cell_type": "code",
   "execution_count": 37,
   "metadata": {
    "jupyter": {
     "outputs_hidden": false
    },
    "pycharm": {
     "name": "#%%\n"
    }
   },
   "outputs": [],
   "source": [
    "model_DTR=DecisionTreeRegressor(**dtr_params)"
   ]
  },
  {
   "cell_type": "code",
   "execution_count": 38,
   "metadata": {
    "jupyter": {
     "outputs_hidden": false
    },
    "pycharm": {
     "name": "#%%\n"
    }
   },
   "outputs": [
    {
     "name": "stdout",
     "output_type": "stream",
     "text": [
      "897 ms ± 6.67 ms per loop (mean ± std. dev. of 2 runs, 1 loop each)\n",
      "19.2 ms ± 112 µs per loop (mean ± std. dev. of 2 runs, 100 loops each)\n",
      "SCORING DONE\n"
     ]
    }
   ],
   "source": [
    "#применяем функцию скоринга к модели\n",
    "DTR_scores = score_me(model_DTR)"
   ]
  },
  {
   "cell_type": "code",
   "execution_count": 39,
   "metadata": {
    "jupyter": {
     "outputs_hidden": false
    },
    "pycharm": {
     "name": "#%%\n"
    }
   },
   "outputs": [
    {
     "data": {
      "text/html": [
       "<div>\n",
       "<style scoped>\n",
       "    .dataframe tbody tr th:only-of-type {\n",
       "        vertical-align: middle;\n",
       "    }\n",
       "\n",
       "    .dataframe tbody tr th {\n",
       "        vertical-align: top;\n",
       "    }\n",
       "\n",
       "    .dataframe thead th {\n",
       "        text-align: right;\n",
       "    }\n",
       "</style>\n",
       "<table border=\"1\" class=\"dataframe\">\n",
       "  <thead>\n",
       "    <tr style=\"text-align: right;\">\n",
       "      <th></th>\n",
       "      <th>Fit_time</th>\n",
       "      <th>Pred_time</th>\n",
       "      <th>RMSE</th>\n",
       "    </tr>\n",
       "  </thead>\n",
       "  <tbody>\n",
       "    <tr>\n",
       "      <th>Const</th>\n",
       "      <td>0.010000</td>\n",
       "      <td>0.010000</td>\n",
       "      <td>4924.921834</td>\n",
       "    </tr>\n",
       "    <tr>\n",
       "      <th>DTR</th>\n",
       "      <td>0.890421</td>\n",
       "      <td>0.019057</td>\n",
       "      <td>1796.447474</td>\n",
       "    </tr>\n",
       "  </tbody>\n",
       "</table>\n",
       "</div>"
      ],
      "text/plain": [
       "       Fit_time  Pred_time         RMSE\n",
       "Const  0.010000   0.010000  4924.921834\n",
       "DTR    0.890421   0.019057  1796.447474"
      ]
     },
     "execution_count": 39,
     "metadata": {},
     "output_type": "execute_result"
    }
   ],
   "source": [
    "# добавляем деревяные скоры\n",
    "result.loc['DTR'] = DTR_scores\n",
    "result"
   ]
  },
  {
   "cell_type": "markdown",
   "metadata": {
    "pycharm": {
     "name": "#%% md\n"
    }
   },
   "source": [
    "### 2.3 RandomForestRegressor"
   ]
  },
  {
   "cell_type": "code",
   "execution_count": 40,
   "metadata": {
    "jupyter": {
     "outputs_hidden": false
    },
    "pycharm": {
     "name": "#%%\n"
    }
   },
   "outputs": [],
   "source": [
    "# функция для обучения gridsearch\n",
    "def RFR_grid(feat, targ):\n",
    "    estimator = RandomForestRegressor(random_state=112211)\n",
    "    param_grid = {\n",
    "            \"n_estimators\"      : [10,20,30],\n",
    "            \"max_features\"      : [\"auto\", \"sqrt\", \"log2\"],\n",
    "            \"max_depth\" : [5,10,15],\n",
    "            \"min_samples_leaf\" : [1, 4, 8],\n",
    "            \"min_samples_split\" : [4,8,12],\n",
    "            \"bootstrap\": [True, False],\n",
    "                }\n",
    "\n",
    "    rfr_grid = GridSearchCV(estimator, param_grid, n_jobs=-1, cv=5, scoring='neg_root_mean_squared_error')\n",
    "    rfr_grid.fit(feat, targ)\n",
    "\n",
    "    print('...Search completed...')\n",
    "    print('Best RMSE score', rfr_grid.best_score_)\n",
    "    print('Best params:', rfr_grid.best_params_)\n",
    "\n",
    "    return rfr_grid.best_params_"
   ]
  },
  {
   "cell_type": "code",
   "execution_count": 41,
   "metadata": {
    "jupyter": {
     "outputs_hidden": false
    },
    "pycharm": {
     "name": "#%%\n"
    }
   },
   "outputs": [],
   "source": [
    "#RFR_params = RFR_grid(features_train_scaled, target_train)\n",
    "\n",
    "RFR_params = {'bootstrap': True,\n",
    "              'max_depth': 15,\n",
    "              'max_features': 'auto',\n",
    "              'min_samples_leaf': 1,\n",
    "              'min_samples_split': 4,\n",
    "              'n_estimators': 30}"
   ]
  },
  {
   "cell_type": "code",
   "execution_count": 42,
   "metadata": {
    "jupyter": {
     "outputs_hidden": false
    },
    "pycharm": {
     "name": "#%%\n"
    }
   },
   "outputs": [],
   "source": [
    "# best params\n",
    "model_RFR = RandomForestRegressor(**RFR_params)"
   ]
  },
  {
   "cell_type": "code",
   "execution_count": 43,
   "metadata": {
    "jupyter": {
     "outputs_hidden": false
    },
    "pycharm": {
     "name": "#%%\n"
    }
   },
   "outputs": [
    {
     "name": "stdout",
     "output_type": "stream",
     "text": [
      "19.3 s ± 1.18 s per loop (mean ± std. dev. of 2 runs, 1 loop each)\n",
      "267 ms ± 6.47 ms per loop (mean ± std. dev. of 2 runs, 1 loop each)\n",
      "SCORING DONE\n"
     ]
    }
   ],
   "source": [
    "# scoring\n",
    "RFR_score = score_me(model_RFR)"
   ]
  },
  {
   "cell_type": "code",
   "execution_count": 44,
   "metadata": {
    "jupyter": {
     "outputs_hidden": false
    },
    "pycharm": {
     "name": "#%%\n"
    }
   },
   "outputs": [
    {
     "data": {
      "text/html": [
       "<div>\n",
       "<style scoped>\n",
       "    .dataframe tbody tr th:only-of-type {\n",
       "        vertical-align: middle;\n",
       "    }\n",
       "\n",
       "    .dataframe tbody tr th {\n",
       "        vertical-align: top;\n",
       "    }\n",
       "\n",
       "    .dataframe thead th {\n",
       "        text-align: right;\n",
       "    }\n",
       "</style>\n",
       "<table border=\"1\" class=\"dataframe\">\n",
       "  <thead>\n",
       "    <tr style=\"text-align: right;\">\n",
       "      <th></th>\n",
       "      <th>Fit_time</th>\n",
       "      <th>Pred_time</th>\n",
       "      <th>RMSE</th>\n",
       "    </tr>\n",
       "  </thead>\n",
       "  <tbody>\n",
       "    <tr>\n",
       "      <th>Const</th>\n",
       "      <td>0.010000</td>\n",
       "      <td>0.010000</td>\n",
       "      <td>4924.921834</td>\n",
       "    </tr>\n",
       "    <tr>\n",
       "      <th>DTR</th>\n",
       "      <td>0.890421</td>\n",
       "      <td>0.019057</td>\n",
       "      <td>1796.447474</td>\n",
       "    </tr>\n",
       "    <tr>\n",
       "      <th>RFR</th>\n",
       "      <td>18.113384</td>\n",
       "      <td>0.260964</td>\n",
       "      <td>1655.448481</td>\n",
       "    </tr>\n",
       "  </tbody>\n",
       "</table>\n",
       "</div>"
      ],
      "text/plain": [
       "        Fit_time  Pred_time         RMSE\n",
       "Const   0.010000   0.010000  4924.921834\n",
       "DTR     0.890421   0.019057  1796.447474\n",
       "RFR    18.113384   0.260964  1655.448481"
      ]
     },
     "execution_count": 44,
     "metadata": {},
     "output_type": "execute_result"
    }
   ],
   "source": [
    "# update result df\n",
    "result.loc['RFR'] = RFR_score\n",
    "result"
   ]
  },
  {
   "cell_type": "markdown",
   "metadata": {
    "pycharm": {
     "name": "#%% md\n"
    }
   },
   "source": [
    "### 2.4 LinearRegression"
   ]
  },
  {
   "cell_type": "code",
   "execution_count": 45,
   "metadata": {
    "jupyter": {
     "outputs_hidden": false
    },
    "pycharm": {
     "name": "#%%\n"
    }
   },
   "outputs": [],
   "source": [
    "model_LR=LinearRegression()"
   ]
  },
  {
   "cell_type": "code",
   "execution_count": 46,
   "metadata": {
    "jupyter": {
     "outputs_hidden": false
    },
    "pycharm": {
     "name": "#%%\n"
    }
   },
   "outputs": [
    {
     "name": "stdout",
     "output_type": "stream",
     "text": [
      "316 ms ± 508 µs per loop (mean ± std. dev. of 2 runs, 1 loop each)\n",
      "10 ms ± 37.5 µs per loop (mean ± std. dev. of 2 runs, 100 loops each)\n",
      "SCORING DONE\n"
     ]
    }
   ],
   "source": [
    "LR_score = score_me(model_LR)"
   ]
  },
  {
   "cell_type": "code",
   "execution_count": 47,
   "metadata": {
    "jupyter": {
     "outputs_hidden": false
    },
    "pycharm": {
     "name": "#%%\n"
    }
   },
   "outputs": [
    {
     "data": {
      "text/html": [
       "<div>\n",
       "<style scoped>\n",
       "    .dataframe tbody tr th:only-of-type {\n",
       "        vertical-align: middle;\n",
       "    }\n",
       "\n",
       "    .dataframe tbody tr th {\n",
       "        vertical-align: top;\n",
       "    }\n",
       "\n",
       "    .dataframe thead th {\n",
       "        text-align: right;\n",
       "    }\n",
       "</style>\n",
       "<table border=\"1\" class=\"dataframe\">\n",
       "  <thead>\n",
       "    <tr style=\"text-align: right;\">\n",
       "      <th></th>\n",
       "      <th>Fit_time</th>\n",
       "      <th>Pred_time</th>\n",
       "      <th>RMSE</th>\n",
       "    </tr>\n",
       "  </thead>\n",
       "  <tbody>\n",
       "    <tr>\n",
       "      <th>Const</th>\n",
       "      <td>0.010000</td>\n",
       "      <td>0.010000</td>\n",
       "      <td>4924.921834</td>\n",
       "    </tr>\n",
       "    <tr>\n",
       "      <th>DTR</th>\n",
       "      <td>0.890421</td>\n",
       "      <td>0.019057</td>\n",
       "      <td>1796.447474</td>\n",
       "    </tr>\n",
       "    <tr>\n",
       "      <th>RFR</th>\n",
       "      <td>18.113384</td>\n",
       "      <td>0.260964</td>\n",
       "      <td>1655.448481</td>\n",
       "    </tr>\n",
       "    <tr>\n",
       "      <th>Skl_LR</th>\n",
       "      <td>0.315756</td>\n",
       "      <td>0.010003</td>\n",
       "      <td>2539.962946</td>\n",
       "    </tr>\n",
       "  </tbody>\n",
       "</table>\n",
       "</div>"
      ],
      "text/plain": [
       "         Fit_time  Pred_time         RMSE\n",
       "Const    0.010000   0.010000  4924.921834\n",
       "DTR      0.890421   0.019057  1796.447474\n",
       "RFR     18.113384   0.260964  1655.448481\n",
       "Skl_LR   0.315756   0.010003  2539.962946"
      ]
     },
     "execution_count": 47,
     "metadata": {},
     "output_type": "execute_result"
    }
   ],
   "source": [
    "result.loc['Skl_LR'] = LR_score\n",
    "result"
   ]
  },
  {
   "cell_type": "markdown",
   "metadata": {
    "pycharm": {
     "name": "#%% md\n"
    }
   },
   "source": [
    "### 2.5 XGBoost\n",
    "\n",
    "Будем использовать класс XGBRegressor, встроенный в библиотеку."
   ]
  },
  {
   "cell_type": "code",
   "execution_count": 48,
   "metadata": {
    "jupyter": {
     "outputs_hidden": false
    },
    "pycharm": {
     "name": "#%%\n"
    }
   },
   "outputs": [],
   "source": [
    "def XGB_cv_grid():\n",
    "    xgb_m = xgb.XGBRegressor(random_state=112211)\n",
    "    param_grid = {\n",
    "            \"n_estimators\"      : [100],\n",
    "            \"learning_rate\"     : [0.1],\n",
    "            \"max_depth\" : [20],\n",
    "            \"gamma\" : [0.1],\n",
    "            \"reg_lambda\": [5,10,20],\n",
    "            \"min_child_weight\" : [4]\n",
    "            }\n",
    "\n",
    "    xgb_grid = GridSearchCV(xgb_m, param_grid, n_jobs=-1, cv=5, scoring='neg_root_mean_squared_error')\n",
    "    xgb_grid.fit(features_train_scaled, target_train)\n",
    "\n",
    "    print('...Search completed...')\n",
    "    return xgb_grid.best_params_"
   ]
  },
  {
   "cell_type": "code",
   "execution_count": 49,
   "metadata": {
    "jupyter": {
     "outputs_hidden": false
    },
    "pycharm": {
     "name": "#%%\n"
    }
   },
   "outputs": [],
   "source": [
    "#xgb_params = XGB_cv_grid()\n",
    "#xgb_params"
   ]
  },
  {
   "cell_type": "code",
   "execution_count": 50,
   "metadata": {
    "jupyter": {
     "outputs_hidden": false
    },
    "pycharm": {
     "name": "#%%\n"
    }
   },
   "outputs": [],
   "source": [
    "xgb_params ={'gamma': 0.1,\n",
    "             'learning_rate': 0.1,\n",
    "             'max_depth': 20,\n",
    "             'min_child_weight': 4,\n",
    "             'n_estimators': 100,\n",
    "             'reg_lambda': 15}"
   ]
  },
  {
   "cell_type": "code",
   "execution_count": 51,
   "metadata": {
    "jupyter": {
     "outputs_hidden": false
    },
    "pycharm": {
     "name": "#%%\n"
    }
   },
   "outputs": [],
   "source": [
    "xgb_model = xgb.XGBRegressor(**xgb_params)"
   ]
  },
  {
   "cell_type": "code",
   "execution_count": 52,
   "metadata": {
    "jupyter": {
     "outputs_hidden": false
    },
    "pycharm": {
     "name": "#%%\n"
    }
   },
   "outputs": [
    {
     "name": "stdout",
     "output_type": "stream",
     "text": [
      "28.7 s ± 2.2 s per loop (mean ± std. dev. of 2 runs, 1 loop each)\n",
      "273 ms ± 484 µs per loop (mean ± std. dev. of 2 runs, 1 loop each)\n",
      "SCORING DONE\n"
     ]
    }
   ],
   "source": [
    "xgbr_score = score_me(xgb_model)"
   ]
  },
  {
   "cell_type": "code",
   "execution_count": 53,
   "metadata": {
    "jupyter": {
     "outputs_hidden": false
    },
    "pycharm": {
     "name": "#%%\n"
    }
   },
   "outputs": [
    {
     "data": {
      "text/html": [
       "<div>\n",
       "<style scoped>\n",
       "    .dataframe tbody tr th:only-of-type {\n",
       "        vertical-align: middle;\n",
       "    }\n",
       "\n",
       "    .dataframe tbody tr th {\n",
       "        vertical-align: top;\n",
       "    }\n",
       "\n",
       "    .dataframe thead th {\n",
       "        text-align: right;\n",
       "    }\n",
       "</style>\n",
       "<table border=\"1\" class=\"dataframe\">\n",
       "  <thead>\n",
       "    <tr style=\"text-align: right;\">\n",
       "      <th></th>\n",
       "      <th>Fit_time</th>\n",
       "      <th>Pred_time</th>\n",
       "      <th>RMSE</th>\n",
       "    </tr>\n",
       "  </thead>\n",
       "  <tbody>\n",
       "    <tr>\n",
       "      <th>Const</th>\n",
       "      <td>0.010000</td>\n",
       "      <td>0.010000</td>\n",
       "      <td>4924.921834</td>\n",
       "    </tr>\n",
       "    <tr>\n",
       "      <th>DTR</th>\n",
       "      <td>0.890421</td>\n",
       "      <td>0.019057</td>\n",
       "      <td>1796.447474</td>\n",
       "    </tr>\n",
       "    <tr>\n",
       "      <th>RFR</th>\n",
       "      <td>18.113384</td>\n",
       "      <td>0.260964</td>\n",
       "      <td>1655.448481</td>\n",
       "    </tr>\n",
       "    <tr>\n",
       "      <th>Skl_LR</th>\n",
       "      <td>0.315756</td>\n",
       "      <td>0.010003</td>\n",
       "      <td>2539.962946</td>\n",
       "    </tr>\n",
       "    <tr>\n",
       "      <th>XGBR</th>\n",
       "      <td>26.527501</td>\n",
       "      <td>0.272452</td>\n",
       "      <td>1533.840991</td>\n",
       "    </tr>\n",
       "  </tbody>\n",
       "</table>\n",
       "</div>"
      ],
      "text/plain": [
       "         Fit_time  Pred_time         RMSE\n",
       "Const    0.010000   0.010000  4924.921834\n",
       "DTR      0.890421   0.019057  1796.447474\n",
       "RFR     18.113384   0.260964  1655.448481\n",
       "Skl_LR   0.315756   0.010003  2539.962946\n",
       "XGBR    26.527501   0.272452  1533.840991"
      ]
     },
     "execution_count": 53,
     "metadata": {},
     "output_type": "execute_result"
    }
   ],
   "source": [
    "result.loc['XGBR']= xgbr_score\n",
    "result"
   ]
  },
  {
   "cell_type": "markdown",
   "metadata": {
    "pycharm": {
     "name": "#%% md\n"
    }
   },
   "source": [
    "### 2.6 LightGBM"
   ]
  },
  {
   "cell_type": "code",
   "execution_count": 54,
   "metadata": {
    "jupyter": {
     "outputs_hidden": false
    },
    "pycharm": {
     "name": "#%%\n"
    }
   },
   "outputs": [],
   "source": [
    "def LGB_cv_grid():\n",
    "    lgb_m = lgb.LGBMRegressor(random_state=112211)\n",
    "    param_grid = {\n",
    "            \"num_leaves\"        : [500,1000],\n",
    "            \"learning_rate\"     : [0.1],\n",
    "            \"max_depth\" : [-1],\n",
    "            \"reg_lambda\": [1,5],\n",
    "            \"min_child_weight\" : [1,5]\n",
    "            }\n",
    "\n",
    "    lgb_grid = GridSearchCV(lgb_m, param_grid, n_jobs=-1, cv=5, scoring='neg_root_mean_squared_error')\n",
    "    lgb_grid.fit(features_train_scaled,target_train)\n",
    "\n",
    "    print('...Search completed...')\n",
    "    return lgb_grid.best_params_"
   ]
  },
  {
   "cell_type": "code",
   "execution_count": 55,
   "metadata": {
    "jupyter": {
     "outputs_hidden": false
    },
    "pycharm": {
     "name": "#%%\n"
    }
   },
   "outputs": [],
   "source": [
    "#lgb_params = LGB_cv_grid()\n",
    "lgb_params = {'learning_rate': 0.1,\n",
    "              'max_depth': -1,\n",
    "              'min_child_weight': 1,\n",
    "              'num_leaves': 1000,\n",
    "              'reg_lambda': 5}"
   ]
  },
  {
   "cell_type": "code",
   "execution_count": 56,
   "metadata": {
    "jupyter": {
     "outputs_hidden": false
    },
    "pycharm": {
     "name": "#%%\n"
    }
   },
   "outputs": [],
   "source": [
    "lgb_model = lgb.LGBMRegressor(**lgb_params)"
   ]
  },
  {
   "cell_type": "code",
   "execution_count": 57,
   "metadata": {
    "jupyter": {
     "outputs_hidden": false
    },
    "pycharm": {
     "name": "#%%\n"
    }
   },
   "outputs": [
    {
     "name": "stdout",
     "output_type": "stream",
     "text": [
      "2.8 s ± 102 ms per loop (mean ± std. dev. of 2 runs, 1 loop each)\n",
      "284 ms ± 583 µs per loop (mean ± std. dev. of 2 runs, 1 loop each)\n",
      "SCORING DONE\n"
     ]
    },
    {
     "data": {
      "text/html": [
       "<div>\n",
       "<style scoped>\n",
       "    .dataframe tbody tr th:only-of-type {\n",
       "        vertical-align: middle;\n",
       "    }\n",
       "\n",
       "    .dataframe tbody tr th {\n",
       "        vertical-align: top;\n",
       "    }\n",
       "\n",
       "    .dataframe thead th {\n",
       "        text-align: right;\n",
       "    }\n",
       "</style>\n",
       "<table border=\"1\" class=\"dataframe\">\n",
       "  <thead>\n",
       "    <tr style=\"text-align: right;\">\n",
       "      <th></th>\n",
       "      <th>Fit_time</th>\n",
       "      <th>Pred_time</th>\n",
       "      <th>RMSE</th>\n",
       "    </tr>\n",
       "  </thead>\n",
       "  <tbody>\n",
       "    <tr>\n",
       "      <th>Const</th>\n",
       "      <td>0.010000</td>\n",
       "      <td>0.010000</td>\n",
       "      <td>4924.921834</td>\n",
       "    </tr>\n",
       "    <tr>\n",
       "      <th>DTR</th>\n",
       "      <td>0.890421</td>\n",
       "      <td>0.019057</td>\n",
       "      <td>1796.447474</td>\n",
       "    </tr>\n",
       "    <tr>\n",
       "      <th>RFR</th>\n",
       "      <td>18.113384</td>\n",
       "      <td>0.260964</td>\n",
       "      <td>1655.448481</td>\n",
       "    </tr>\n",
       "    <tr>\n",
       "      <th>Skl_LR</th>\n",
       "      <td>0.315756</td>\n",
       "      <td>0.010003</td>\n",
       "      <td>2539.962946</td>\n",
       "    </tr>\n",
       "    <tr>\n",
       "      <th>XGBR</th>\n",
       "      <td>26.527501</td>\n",
       "      <td>0.272452</td>\n",
       "      <td>1533.840991</td>\n",
       "    </tr>\n",
       "    <tr>\n",
       "      <th>LightGBM</th>\n",
       "      <td>2.696459</td>\n",
       "      <td>0.283272</td>\n",
       "      <td>1536.024552</td>\n",
       "    </tr>\n",
       "  </tbody>\n",
       "</table>\n",
       "</div>"
      ],
      "text/plain": [
       "           Fit_time  Pred_time         RMSE\n",
       "Const      0.010000   0.010000  4924.921834\n",
       "DTR        0.890421   0.019057  1796.447474\n",
       "RFR       18.113384   0.260964  1655.448481\n",
       "Skl_LR     0.315756   0.010003  2539.962946\n",
       "XGBR      26.527501   0.272452  1533.840991\n",
       "LightGBM   2.696459   0.283272  1536.024552"
      ]
     },
     "execution_count": 57,
     "metadata": {},
     "output_type": "execute_result"
    }
   ],
   "source": [
    "lgb_score = score_me(lgb_model)\n",
    "result.loc['LightGBM'] = lgb_score\n",
    "result"
   ]
  },
  {
   "cell_type": "markdown",
   "metadata": {
    "pycharm": {
     "name": "#%% md\n"
    }
   },
   "source": [
    "## 2.7 CatBoost"
   ]
  },
  {
   "cell_type": "markdown",
   "metadata": {},
   "source": [
    "Яндекс грозится, что СВ - супер-пупер обучатель категориальных признаков. Ну чтож попробуем! Для СВ будем использовать отдельный датасет, где категориальные признаки необработаны."
   ]
  },
  {
   "cell_type": "code",
   "execution_count": 58,
   "metadata": {
    "jupyter": {
     "outputs_hidden": false
    },
    "pycharm": {
     "name": "#%%\n"
    }
   },
   "outputs": [
    {
     "name": "stdout",
     "output_type": "stream",
     "text": [
      "Features train: (200081, 8)\n",
      "Features test: (66694, 8)\n",
      "Target train: (200081,)\n",
      "Target test: (66694,)\n"
     ]
    }
   ],
   "source": [
    "# готовим выборки\n",
    "target_cat = df_cat['Price']\n",
    "df_features_cat=df_cat.drop(['Price'], axis=1)\n",
    "\n",
    "features_train_cat, features_test_cat, target_train_cat, target_test_cat = train_test_split(df_features_cat,target_cat, test_size=0.25)\n",
    "print('Features train:', features_train_cat.shape)\n",
    "print('Features test:', features_test_cat.shape)\n",
    "print('Target train:', target_train_cat.shape)\n",
    "print('Target test:', target_test_cat.shape)"
   ]
  },
  {
   "cell_type": "code",
   "execution_count": 59,
   "metadata": {
    "jupyter": {
     "outputs_hidden": false
    },
    "pycharm": {
     "name": "#%%\n"
    }
   },
   "outputs": [],
   "source": [
    "# пулы\n",
    "train_pool = cb.Pool(features_train_cat,\n",
    "                     target_train_cat,\n",
    "                     cat_features = cat_features)\n",
    "\n",
    "test_pool = cb.Pool(features_test_cat, cat_features=cat_features)"
   ]
  },
  {
   "cell_type": "code",
   "execution_count": 60,
   "metadata": {
    "jupyter": {
     "outputs_hidden": false
    },
    "pycharm": {
     "name": "#%%\n"
    }
   },
   "outputs": [],
   "source": [
    "def CB_cv_grid():\n",
    "    cb_m = cb.CatBoostRegressor(random_state=112211)\n",
    "\n",
    "    param_grid = {\n",
    "            \"iterations\"        : [500,1000,2000],\n",
    "            \"learning_rate\"     : [0.1,1],\n",
    "            \"depth\" : [1,5]\n",
    "            }\n",
    "\n",
    "    cb_grid = GridSearchCV(cb_m, param_grid, n_jobs=-1, cv=5, scoring='neg_root_mean_squared_error')\n",
    "    cb_grid.fit(features_train_cat, target_train_cat, cat_features=cat_features, verbose=False)\n",
    "\n",
    "    print('...Search completed...')\n",
    "    return cb_grid.best_params_"
   ]
  },
  {
   "cell_type": "code",
   "execution_count": 61,
   "metadata": {
    "jupyter": {
     "outputs_hidden": false
    },
    "pycharm": {
     "name": "#%%\n"
    }
   },
   "outputs": [],
   "source": [
    "#cb_params=CB_cv_grid()\n",
    "cb_params = {'depth': 6, 'iterations': 2000, 'learning_rate': 0.4, 'loss_function':'RMSE'}"
   ]
  },
  {
   "cell_type": "code",
   "execution_count": 62,
   "metadata": {
    "jupyter": {
     "outputs_hidden": false
    },
    "pycharm": {
     "name": "#%%\n"
    }
   },
   "outputs": [],
   "source": [
    "model_cb = cb.CatBoostRegressor(**cb_params, verbose=False)"
   ]
  },
  {
   "cell_type": "code",
   "execution_count": 63,
   "metadata": {
    "jupyter": {
     "outputs_hidden": false
    },
    "pycharm": {
     "name": "#%%\n"
    }
   },
   "outputs": [
    {
     "name": "stdout",
     "output_type": "stream",
     "text": [
      "15.7 s ± 109 ms per loop (mean ± std. dev. of 2 runs, 1 loop each)\n",
      "20.5 ms ± 297 µs per loop (mean ± std. dev. of 2 runs, 10 loops each)\n",
      "SCORING DONE\n"
     ]
    },
    {
     "data": {
      "text/plain": [
       "Fit_time       15.629048\n",
       "Pred_time       0.020182\n",
       "RMSE         1544.531451\n",
       "Name: CatBoost, dtype: float64"
      ]
     },
     "execution_count": 63,
     "metadata": {},
     "output_type": "execute_result"
    }
   ],
   "source": [
    "cb_score = score_me(model_cb)\n",
    "result.loc['CatBoost'] = cb_score\n",
    "result.loc['CatBoost']"
   ]
  },
  {
   "cell_type": "markdown",
   "metadata": {},
   "source": [
    "Лааадно, Яндекс! Хорошие результаты!))"
   ]
  },
  {
   "cell_type": "markdown",
   "metadata": {
    "pycharm": {
     "name": "#%% md\n"
    }
   },
   "source": [
    "## 3. Анализ моделей"
   ]
  },
  {
   "cell_type": "markdown",
   "metadata": {},
   "source": [
    "Посмотрим на итоговые результаты."
   ]
  },
  {
   "cell_type": "code",
   "execution_count": 64,
   "metadata": {
    "jupyter": {
     "outputs_hidden": false
    },
    "pycharm": {
     "name": "#%%\n"
    }
   },
   "outputs": [
    {
     "data": {
      "text/html": [
       "<div>\n",
       "<style scoped>\n",
       "    .dataframe tbody tr th:only-of-type {\n",
       "        vertical-align: middle;\n",
       "    }\n",
       "\n",
       "    .dataframe tbody tr th {\n",
       "        vertical-align: top;\n",
       "    }\n",
       "\n",
       "    .dataframe thead th {\n",
       "        text-align: right;\n",
       "    }\n",
       "</style>\n",
       "<table border=\"1\" class=\"dataframe\">\n",
       "  <thead>\n",
       "    <tr style=\"text-align: right;\">\n",
       "      <th></th>\n",
       "      <th>Fit_time</th>\n",
       "      <th>Pred_time</th>\n",
       "      <th>RMSE</th>\n",
       "    </tr>\n",
       "  </thead>\n",
       "  <tbody>\n",
       "    <tr>\n",
       "      <th>Const</th>\n",
       "      <td>0.010000</td>\n",
       "      <td>0.010000</td>\n",
       "      <td>4924.921834</td>\n",
       "    </tr>\n",
       "    <tr>\n",
       "      <th>DTR</th>\n",
       "      <td>0.890421</td>\n",
       "      <td>0.019057</td>\n",
       "      <td>1796.447474</td>\n",
       "    </tr>\n",
       "    <tr>\n",
       "      <th>RFR</th>\n",
       "      <td>18.113384</td>\n",
       "      <td>0.260964</td>\n",
       "      <td>1655.448481</td>\n",
       "    </tr>\n",
       "    <tr>\n",
       "      <th>Skl_LR</th>\n",
       "      <td>0.315756</td>\n",
       "      <td>0.010003</td>\n",
       "      <td>2539.962946</td>\n",
       "    </tr>\n",
       "    <tr>\n",
       "      <th>XGBR</th>\n",
       "      <td>26.527501</td>\n",
       "      <td>0.272452</td>\n",
       "      <td>1533.840991</td>\n",
       "    </tr>\n",
       "    <tr>\n",
       "      <th>LightGBM</th>\n",
       "      <td>2.696459</td>\n",
       "      <td>0.283272</td>\n",
       "      <td>1536.024552</td>\n",
       "    </tr>\n",
       "    <tr>\n",
       "      <th>CatBoost</th>\n",
       "      <td>15.629048</td>\n",
       "      <td>0.020182</td>\n",
       "      <td>1544.531451</td>\n",
       "    </tr>\n",
       "  </tbody>\n",
       "</table>\n",
       "</div>"
      ],
      "text/plain": [
       "           Fit_time  Pred_time         RMSE\n",
       "Const      0.010000   0.010000  4924.921834\n",
       "DTR        0.890421   0.019057  1796.447474\n",
       "RFR       18.113384   0.260964  1655.448481\n",
       "Skl_LR     0.315756   0.010003  2539.962946\n",
       "XGBR      26.527501   0.272452  1533.840991\n",
       "LightGBM   2.696459   0.283272  1536.024552\n",
       "CatBoost  15.629048   0.020182  1544.531451"
      ]
     },
     "execution_count": 64,
     "metadata": {},
     "output_type": "execute_result"
    }
   ],
   "source": [
    "result"
   ]
  },
  {
   "cell_type": "code",
   "execution_count": 65,
   "metadata": {},
   "outputs": [
    {
     "name": "stderr",
     "output_type": "stream",
     "text": [
      "<ipython-input-65-86e3068567be>:2: SettingWithCopyWarning: \n",
      "A value is trying to be set on a copy of a slice from a DataFrame.\n",
      "Try using .loc[row_indexer,col_indexer] = value instead\n",
      "\n",
      "See the caveats in the documentation: https://pandas.pydata.org/pandas-docs/stable/user_guide/indexing.html#returning-a-view-versus-a-copy\n",
      "  plot_df['Model']=plot_df.index\n"
     ]
    },
    {
     "data": {
      "image/png": "[encoded data removed]",
      "text/plain": [
       "<Figure size 720x720 with 3 Axes>"
      ]
     },
     "metadata": {
      "needs_background": "light"
     },
     "output_type": "display_data"
    }
   ],
   "source": [
    "plot_df=result.loc['DTR':]\n",
    "plot_df['Model']=plot_df.index\n",
    "\n",
    "fig = plt.figure(figsize=(10,10))\n",
    "ax1=fig.add_subplot(2,2,1)\n",
    "ax2=fig.add_subplot(2,2,2)\n",
    "ax3=fig.add_subplot(2,1,2)\n",
    "\n",
    "# FIT-time plot\n",
    "plot_df = plot_df.sort_values(by='Fit_time',ascending=True)\n",
    "ax1.vlines(x=plot_df['Model'], ymin=0, ymax=plot_df['Fit_time'], color='firebrick', linewidth=5, alpha=0.4)\n",
    "ax1.scatter(x=plot_df['Model'], y=plot_df['Fit_time'], s=375, color='firebrick')\n",
    "ax1.grid()\n",
    "ax1.set_ylabel('Seconds')\n",
    "ax1.set_title('Fit time')\n",
    "\n",
    "#Pred-time plot\n",
    "plot_df = plot_df.sort_values(by='Pred_time',ascending=True)\n",
    "ax2.vlines(x=plot_df['Model'], ymin=0, ymax=plot_df['Pred_time'], color='firebrick', linewidth=5, alpha=0.4)\n",
    "ax2.scatter(x=plot_df['Model'], y=plot_df['Pred_time'], s=375, color='firebrick')\n",
    "ax2.grid()\n",
    "ax2.set_ylabel('Seconds')\n",
    "ax2.set_title('Pred time')\n",
    "\n",
    "# RMSE\n",
    "plot_df = plot_df.sort_values(by='RMSE',ascending=True)\n",
    "ax3.vlines(x=plot_df['Model'], ymin=1000, ymax=plot_df['RMSE'], color='green', linewidth=10, alpha=0.4)\n",
    "ax3.scatter(x=plot_df['Model'], y=plot_df['RMSE'], s=275, color='green')\n",
    "ax3.grid()\n",
    "ax3.set_ylabel('x1000 $')\n",
    "ax3.set_xlabel('Models')\n",
    "ax3.set_title('RMSE')\n",
    "plt.show()"
   ]
  },
  {
   "cell_type": "markdown",
   "metadata": {
    "jupyter": {
     "outputs_hidden": false
    },
    "pycharm": {
     "name": "#%%\n"
    }
   },
   "source": [
    "Из графиков видно, что базовые модели дерева и лин.регрессии работают быстро, но вот с точностью предсказаний - не очень. Бустеры работают медленно, но существенно улучшают качество предсказания. </br>\n",
    "\n",
    "Введём простенький скоринг для полученных результатов. Т.к. чем больше полученные показатели каждой модели - тем хуже (скорость или RMSE), дадим 1 штрафной балл самой медленной или ошибающейся модели, и 0 баллов самой быстрой или точной соответственно. Штрафные баллы для других моделей расчитаем в долях на этой шкале (0,1):<br/>\n",
    "$penalty=\\frac{x-x_{\\min}}{x_{\\max}-x_{\\min}}$\n",
    "\n",
    "Меньше штрафных баллов - лучше. Ну и если считать все параметры равнозначными, сложим штрафы по всем трём показателям и посмотрим финальный скор."
   ]
  },
  {
   "cell_type": "code",
   "execution_count": 66,
   "metadata": {
    "jupyter": {
     "outputs_hidden": false
    },
    "pycharm": {
     "name": "#%%\n"
    }
   },
   "outputs": [
    {
     "name": "stdout",
     "output_type": "stream",
     "text": [
      "Penalty scores\n"
     ]
    },
    {
     "data": {
      "text/html": [
       "<div>\n",
       "<style scoped>\n",
       "    .dataframe tbody tr th:only-of-type {\n",
       "        vertical-align: middle;\n",
       "    }\n",
       "\n",
       "    .dataframe tbody tr th {\n",
       "        vertical-align: top;\n",
       "    }\n",
       "\n",
       "    .dataframe thead th {\n",
       "        text-align: right;\n",
       "    }\n",
       "</style>\n",
       "<table border=\"1\" class=\"dataframe\">\n",
       "  <thead>\n",
       "    <tr style=\"text-align: right;\">\n",
       "      <th></th>\n",
       "      <th>Fit_time</th>\n",
       "      <th>Pred_time</th>\n",
       "      <th>RMSE</th>\n",
       "      <th>final</th>\n",
       "    </tr>\n",
       "  </thead>\n",
       "  <tbody>\n",
       "    <tr>\n",
       "      <th>DTR</th>\n",
       "      <td>0.021924</td>\n",
       "      <td>0.033132</td>\n",
       "      <td>0.261009</td>\n",
       "      <td>0.316065</td>\n",
       "    </tr>\n",
       "    <tr>\n",
       "      <th>CatBoost</th>\n",
       "      <td>0.584215</td>\n",
       "      <td>0.037250</td>\n",
       "      <td>0.010625</td>\n",
       "      <td>0.632090</td>\n",
       "    </tr>\n",
       "    <tr>\n",
       "      <th>Skl_LR</th>\n",
       "      <td>0.000000</td>\n",
       "      <td>0.000000</td>\n",
       "      <td>1.000000</td>\n",
       "      <td>1.000000</td>\n",
       "    </tr>\n",
       "    <tr>\n",
       "      <th>LightGBM</th>\n",
       "      <td>0.090826</td>\n",
       "      <td>1.000000</td>\n",
       "      <td>0.002170</td>\n",
       "      <td>1.092996</td>\n",
       "    </tr>\n",
       "    <tr>\n",
       "      <th>RFR</th>\n",
       "      <td>0.678994</td>\n",
       "      <td>0.918368</td>\n",
       "      <td>0.120868</td>\n",
       "      <td>1.718230</td>\n",
       "    </tr>\n",
       "    <tr>\n",
       "      <th>XGBR</th>\n",
       "      <td>1.000000</td>\n",
       "      <td>0.960405</td>\n",
       "      <td>0.000000</td>\n",
       "      <td>1.960405</td>\n",
       "    </tr>\n",
       "  </tbody>\n",
       "</table>\n",
       "</div>"
      ],
      "text/plain": [
       "          Fit_time  Pred_time      RMSE     final\n",
       "DTR       0.021924   0.033132  0.261009  0.316065\n",
       "CatBoost  0.584215   0.037250  0.010625  0.632090\n",
       "Skl_LR    0.000000   0.000000  1.000000  1.000000\n",
       "LightGBM  0.090826   1.000000  0.002170  1.092996\n",
       "RFR       0.678994   0.918368  0.120868  1.718230\n",
       "XGBR      1.000000   0.960405  0.000000  1.960405"
      ]
     },
     "execution_count": 66,
     "metadata": {},
     "output_type": "execute_result"
    }
   ],
   "source": [
    "top_mx=pd.DataFrame(index=plot_df.index)\n",
    "for col in ['Fit_time', 'Pred_time', 'RMSE']:\n",
    "    max=plot_df[col].max()\n",
    "    min=plot_df[col].min()\n",
    "    top_mx[col] = (plot_df[col]-min)/(max-min)\n",
    "\n",
    "top_mx['final'] = top_mx.sum(axis=1)\n",
    "print('Penalty scores')\n",
    "top_mx = top_mx.sort_values('final')\n",
    "top_mx"
   ]
  },
  {
   "cell_type": "code",
   "execution_count": 67,
   "metadata": {},
   "outputs": [
    {
     "data": {
      "text/plain": [
       "<matplotlib.axes._subplots.AxesSubplot at 0x7f9fcbc23af0>"
      ]
     },
     "execution_count": 67,
     "metadata": {},
     "output_type": "execute_result"
    },
    {
     "data": {
      "image/png": "[encoded data removed]",
      "text/plain": [
       "<Figure size 432x288 with 1 Axes>"
      ]
     },
     "metadata": {
      "needs_background": "light"
     },
     "output_type": "display_data"
    }
   ],
   "source": [
    "sns.barplot(x=top_mx.index, y=\"final\", data=top_mx, palette=\"rocket_r\")"
   ]
  },
  {
   "cell_type": "markdown",
   "metadata": {},
   "source": [
    "Дерево всех забороло!)) На самом деле, необходимо выбрать более адекватную оценку моделей вместе с Заказчиком."
   ]
  },
  {
   "cell_type": "markdown",
   "metadata": {
    "pycharm": {
     "name": "#%% md\n"
    }
   },
   "source": [
    "# Выводы\n",
    "\n",
    "Целью работы было нахождение оптимальной модели для предсказания цены автомобиля по следующим параметрам:\n",
    "* качество предсказания (RMSE)\n",
    "* скорость предсказания\n",
    "* время обучения\n",
    "\n",
    "Входными данными была выгрузка объявлений о продаже автомобилей (около 300к.). Данные были обработаны. В качестве значимых признаков для обучения моделей были выбраны следующие:\n",
    "* Категориальные:\n",
    "    * 'VehicleType'\n",
    "    * 'Gearbox'\n",
    "    * 'FuelType'\n",
    "    * 'Brand'\n",
    "    * 'NotRepaired'\n",
    "* Численные:\n",
    "    * 'RegistrationYear'\n",
    "    * 'Power'\n",
    "    * 'Kilometer'\n",
    "\n",
    "Проведёно обучение и анализ разных моделей. Для каждой подбирались лучшие гиперпараметры, исходя из задачи минимизации MSE.<br/>\n",
    "Для перспективных моделей проведено обучение с замером лучшего времени обучения(best of 2).\n",
    "Для предсказания также было посчитано время исполнения. В качестве метрики качества использовалась RMSE.<br/>\n",
    "Итоговые результаты:"
   ]
  },
  {
   "cell_type": "code",
   "execution_count": 69,
   "metadata": {},
   "outputs": [
    {
     "data": {
      "text/html": [
       "<div>\n",
       "<style scoped>\n",
       "    .dataframe tbody tr th:only-of-type {\n",
       "        vertical-align: middle;\n",
       "    }\n",
       "\n",
       "    .dataframe tbody tr th {\n",
       "        vertical-align: top;\n",
       "    }\n",
       "\n",
       "    .dataframe thead th {\n",
       "        text-align: right;\n",
       "    }\n",
       "</style>\n",
       "<table border=\"1\" class=\"dataframe\">\n",
       "  <thead>\n",
       "    <tr style=\"text-align: right;\">\n",
       "      <th></th>\n",
       "      <th>Fit_time</th>\n",
       "      <th>Pred_time</th>\n",
       "      <th>RMSE</th>\n",
       "    </tr>\n",
       "  </thead>\n",
       "  <tbody>\n",
       "    <tr>\n",
       "      <th>Const</th>\n",
       "      <td>0.01</td>\n",
       "      <td>0.01</td>\n",
       "      <td>4924.92</td>\n",
       "    </tr>\n",
       "    <tr>\n",
       "      <th>DTR</th>\n",
       "      <td>0.89</td>\n",
       "      <td>0.02</td>\n",
       "      <td>1796.45</td>\n",
       "    </tr>\n",
       "    <tr>\n",
       "      <th>RFR</th>\n",
       "      <td>18.11</td>\n",
       "      <td>0.26</td>\n",
       "      <td>1655.45</td>\n",
       "    </tr>\n",
       "    <tr>\n",
       "      <th>Skl_LR</th>\n",
       "      <td>0.32</td>\n",
       "      <td>0.01</td>\n",
       "      <td>2539.96</td>\n",
       "    </tr>\n",
       "    <tr>\n",
       "      <th>XGBR</th>\n",
       "      <td>26.53</td>\n",
       "      <td>0.27</td>\n",
       "      <td>1533.84</td>\n",
       "    </tr>\n",
       "    <tr>\n",
       "      <th>LightGBM</th>\n",
       "      <td>2.70</td>\n",
       "      <td>0.28</td>\n",
       "      <td>1536.02</td>\n",
       "    </tr>\n",
       "    <tr>\n",
       "      <th>CatBoost</th>\n",
       "      <td>15.63</td>\n",
       "      <td>0.02</td>\n",
       "      <td>1544.53</td>\n",
       "    </tr>\n",
       "  </tbody>\n",
       "</table>\n",
       "</div>"
      ],
      "text/plain": [
       "          Fit_time  Pred_time     RMSE\n",
       "Const         0.01       0.01  4924.92\n",
       "DTR           0.89       0.02  1796.45\n",
       "RFR          18.11       0.26  1655.45\n",
       "Skl_LR        0.32       0.01  2539.96\n",
       "XGBR         26.53       0.27  1533.84\n",
       "LightGBM      2.70       0.28  1536.02\n",
       "CatBoost     15.63       0.02  1544.53"
      ]
     },
     "execution_count": 69,
     "metadata": {},
     "output_type": "execute_result"
    }
   ],
   "source": [
    "result.round(2)"
   ]
  },
  {
   "cell_type": "markdown",
   "metadata": {},
   "source": [
    "Учитывая все три показателя (время обучения, предсказания и RMSE) равновесно, оптимальной моделью является DecisionTreeRegressor. Она быстрая и даёт приемлемую точность.<br/>\n",
    "Однако, логичнее было бы считать точность предсказания более весомой характеристикой. Модели бустинга показали существенно лучшие метрики точности предсказания, следовательно рекомендуется выбрать одну из них, самую быструю. В данном случае - LightGBM."
   ]
  }
 ],
 "metadata": {
  "kernelspec": {
   "display_name": "Python 3",
   "language": "python",
   "name": "python3"
  },
  "language_info": {
   "codemirror_mode": {
    "name": "ipython",
    "version": 3
   },
   "file_extension": ".py",
   "mimetype": "text/x-python",
   "name": "python",
   "nbconvert_exporter": "python",
   "pygments_lexer": "ipython3",
   "version": "3.7.7"
  }
 },
 "nbformat": 4,
 "nbformat_minor": 4
}
