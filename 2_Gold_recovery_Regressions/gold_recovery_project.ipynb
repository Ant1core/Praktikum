{
 "cells": [
  {
   "cell_type": "markdown",
   "metadata": {},
   "source": [
    "# Обогащение золота."
   ]
  },
  {
   "cell_type": "markdown",
   "metadata": {},
   "source": [
    "Необходимо подготовить прототип модели машинного обучения для компании «Цифра». Компания разрабатывает решения для эффективной работы промышленных предприятий.\n",
    "Модель должна предсказать коэффициент восстановления золота из золотосодержащей руды. На входе данные с параметрами добычи и очистки.\n",
    "Модель поможет оптимизировать производство, чтобы не запускать предприятие с убыточными характеристиками."
   ]
  },
  {
   "cell_type": "markdown",
   "metadata": {},
   "source": [
    "## 1. Загрузка данных"
   ]
  },
  {
   "cell_type": "code",
   "execution_count": 1,
   "metadata": {},
   "outputs": [],
   "source": [
    "import pandas as pd\n",
    "import numpy as np\n",
    "import joblib\n",
    "import matplotlib.pyplot as plt\n",
    "import seaborn as sns\n",
    "sns.set(style = 'darkgrid')\n",
    "from scipy import stats as st\n",
    "\n",
    "#models\n",
    "from sklearn.tree import DecisionTreeClassifier\n",
    "from sklearn.tree import DecisionTreeRegressor\n",
    "from sklearn.ensemble import RandomForestClassifier\n",
    "from sklearn.ensemble import RandomForestRegressor\n",
    "from sklearn.linear_model import LogisticRegression\n",
    "from sklearn.linear_model import LinearRegression\n",
    "\n",
    "# gridsearch\n",
    "from sklearn.model_selection import GridSearchCV\n",
    "\n",
    "#preprocess\n",
    "from sklearn.model_selection import train_test_split\n",
    "from sklearn.preprocessing import OneHotEncoder\n",
    "from sklearn.preprocessing import StandardScaler\n",
    "from sklearn.utils import shuffle\n",
    "\n",
    "# метрики\n",
    "from sklearn.metrics import accuracy_score\n",
    "from sklearn.metrics import mean_squared_error\n",
    "from sklearn.metrics import mean_absolute_error\n",
    "from sklearn.metrics import f1_score\n",
    "from sklearn.metrics import roc_curve\n",
    "from sklearn.metrics import roc_auc_score\n",
    "from sklearn.metrics import recall_score\n",
    "from sklearn.metrics import precision_score\n",
    "from sklearn.metrics import make_scorer"
   ]
  },
  {
   "cell_type": "markdown",
   "metadata": {},
   "source": [
    "Данные находятся в трёх файлах:\n",
    "* gold_recovery_train.csv — обучающая выборка\n",
    "* gold_recovery_test.csv — тестовая выборка\n",
    "* gold_recovery_full.csv — исходные данные\n",
    "\n",
    "Данные индексируются датой и временем получения информации (признак date). Соседние по времени параметры часто похожи.\n",
    "\n",
    "Некоторые параметры недоступны, потому что замеряются и/или рассчитываются значительно позже. Из-за этого в тестовой выборке отсутствуют некоторые признаки, которые могут быть в обучающей. Также в тестовом наборе нет целевых признаков.\n",
    "Исходный датасет содержит обучающую и тестовую выборки со всеми признаками."
   ]
  },
  {
   "cell_type": "code",
   "execution_count": 2,
   "metadata": {},
   "outputs": [],
   "source": [
    "# грузим данные\n",
    "try:\n",
    "    recovery_train_data = pd.read_csv(\"G:/Projects/praktikum/datasets/gold_recovery_train.csv\")\n",
    "    recovery_test_data = pd.read_csv(\"G:/Projects/praktikum/datasets/gold_recovery_test.csv\")\n",
    "    recovery_full_data = pd.read_csv(\"G:/Projects/praktikum/datasets/gold_recovery_full.csv\")\n",
    "except:\n",
    "    recovery_train_data = pd.read_csv('/datasets/gold_recovery_train.csv')\n",
    "    recovery_test_data = pd.read_csv('/datasets/gold_recovery_test.csv')\n",
    "    recovery_full_data = pd.read_csv('/datasets/gold_recovery_full.csv')"
   ]
  },
  {
   "cell_type": "code",
   "execution_count": 3,
   "metadata": {},
   "outputs": [
    {
     "name": "stdout",
     "output_type": "stream",
     "text": [
      "<class 'pandas.core.frame.DataFrame'>\n",
      "RangeIndex: 16860 entries, 0 to 16859\n",
      "Data columns (total 87 columns):\n",
      " #   Column                                              Non-Null Count  Dtype  \n",
      "---  ------                                              --------------  -----  \n",
      " 0   date                                                16860 non-null  object \n",
      " 1   final.output.concentrate_ag                         16788 non-null  float64\n",
      " 2   final.output.concentrate_pb                         16788 non-null  float64\n",
      " 3   final.output.concentrate_sol                        16490 non-null  float64\n",
      " 4   final.output.concentrate_au                         16789 non-null  float64\n",
      " 5   final.output.recovery                               15339 non-null  float64\n",
      " 6   final.output.tail_ag                                16794 non-null  float64\n",
      " 7   final.output.tail_pb                                16677 non-null  float64\n",
      " 8   final.output.tail_sol                               16715 non-null  float64\n",
      " 9   final.output.tail_au                                16794 non-null  float64\n",
      " 10  primary_cleaner.input.sulfate                       15553 non-null  float64\n",
      " 11  primary_cleaner.input.depressant                    15598 non-null  float64\n",
      " 12  primary_cleaner.input.feed_size                     16860 non-null  float64\n",
      " 13  primary_cleaner.input.xanthate                      15875 non-null  float64\n",
      " 14  primary_cleaner.output.concentrate_ag               16778 non-null  float64\n",
      " 15  primary_cleaner.output.concentrate_pb               16502 non-null  float64\n",
      " 16  primary_cleaner.output.concentrate_sol              16224 non-null  float64\n",
      " 17  primary_cleaner.output.concentrate_au               16778 non-null  float64\n",
      " 18  primary_cleaner.output.tail_ag                      16777 non-null  float64\n",
      " 19  primary_cleaner.output.tail_pb                      16761 non-null  float64\n",
      " 20  primary_cleaner.output.tail_sol                     16579 non-null  float64\n",
      " 21  primary_cleaner.output.tail_au                      16777 non-null  float64\n",
      " 22  primary_cleaner.state.floatbank8_a_air              16820 non-null  float64\n",
      " 23  primary_cleaner.state.floatbank8_a_level            16827 non-null  float64\n",
      " 24  primary_cleaner.state.floatbank8_b_air              16820 non-null  float64\n",
      " 25  primary_cleaner.state.floatbank8_b_level            16833 non-null  float64\n",
      " 26  primary_cleaner.state.floatbank8_c_air              16822 non-null  float64\n",
      " 27  primary_cleaner.state.floatbank8_c_level            16833 non-null  float64\n",
      " 28  primary_cleaner.state.floatbank8_d_air              16821 non-null  float64\n",
      " 29  primary_cleaner.state.floatbank8_d_level            16833 non-null  float64\n",
      " 30  rougher.calculation.sulfate_to_au_concentrate       16833 non-null  float64\n",
      " 31  rougher.calculation.floatbank10_sulfate_to_au_feed  16833 non-null  float64\n",
      " 32  rougher.calculation.floatbank11_sulfate_to_au_feed  16833 non-null  float64\n",
      " 33  rougher.calculation.au_pb_ratio                     15618 non-null  float64\n",
      " 34  rougher.input.feed_ag                               16778 non-null  float64\n",
      " 35  rougher.input.feed_pb                               16632 non-null  float64\n",
      " 36  rougher.input.feed_rate                             16347 non-null  float64\n",
      " 37  rougher.input.feed_size                             16443 non-null  float64\n",
      " 38  rougher.input.feed_sol                              16568 non-null  float64\n",
      " 39  rougher.input.feed_au                               16777 non-null  float64\n",
      " 40  rougher.input.floatbank10_sulfate                   15816 non-null  float64\n",
      " 41  rougher.input.floatbank10_xanthate                  16514 non-null  float64\n",
      " 42  rougher.input.floatbank11_sulfate                   16237 non-null  float64\n",
      " 43  rougher.input.floatbank11_xanthate                  14956 non-null  float64\n",
      " 44  rougher.output.concentrate_ag                       16778 non-null  float64\n",
      " 45  rougher.output.concentrate_pb                       16778 non-null  float64\n",
      " 46  rougher.output.concentrate_sol                      16698 non-null  float64\n",
      " 47  rougher.output.concentrate_au                       16778 non-null  float64\n",
      " 48  rougher.output.recovery                             14287 non-null  float64\n",
      " 49  rougher.output.tail_ag                              14610 non-null  float64\n",
      " 50  rougher.output.tail_pb                              16778 non-null  float64\n",
      " 51  rougher.output.tail_sol                             14611 non-null  float64\n",
      " 52  rougher.output.tail_au                              14611 non-null  float64\n",
      " 53  rougher.state.floatbank10_a_air                     16807 non-null  float64\n",
      " 54  rougher.state.floatbank10_a_level                   16807 non-null  float64\n",
      " 55  rougher.state.floatbank10_b_air                     16807 non-null  float64\n",
      " 56  rougher.state.floatbank10_b_level                   16807 non-null  float64\n",
      " 57  rougher.state.floatbank10_c_air                     16807 non-null  float64\n",
      " 58  rougher.state.floatbank10_c_level                   16814 non-null  float64\n",
      " 59  rougher.state.floatbank10_d_air                     16802 non-null  float64\n",
      " 60  rougher.state.floatbank10_d_level                   16809 non-null  float64\n",
      " 61  rougher.state.floatbank10_e_air                     16257 non-null  float64\n",
      " 62  rougher.state.floatbank10_e_level                   16809 non-null  float64\n",
      " 63  rougher.state.floatbank10_f_air                     16802 non-null  float64\n",
      " 64  rougher.state.floatbank10_f_level                   16802 non-null  float64\n",
      " 65  secondary_cleaner.output.tail_ag                    16776 non-null  float64\n",
      " 66  secondary_cleaner.output.tail_pb                    16764 non-null  float64\n",
      " 67  secondary_cleaner.output.tail_sol                   14874 non-null  float64\n",
      " 68  secondary_cleaner.output.tail_au                    16778 non-null  float64\n",
      " 69  secondary_cleaner.state.floatbank2_a_air            16497 non-null  float64\n",
      " 70  secondary_cleaner.state.floatbank2_a_level          16751 non-null  float64\n",
      " 71  secondary_cleaner.state.floatbank2_b_air            16705 non-null  float64\n",
      " 72  secondary_cleaner.state.floatbank2_b_level          16748 non-null  float64\n",
      " 73  secondary_cleaner.state.floatbank3_a_air            16763 non-null  float64\n",
      " 74  secondary_cleaner.state.floatbank3_a_level          16747 non-null  float64\n",
      " 75  secondary_cleaner.state.floatbank3_b_air            16752 non-null  float64\n",
      " 76  secondary_cleaner.state.floatbank3_b_level          16750 non-null  float64\n",
      " 77  secondary_cleaner.state.floatbank4_a_air            16731 non-null  float64\n",
      " 78  secondary_cleaner.state.floatbank4_a_level          16747 non-null  float64\n",
      " 79  secondary_cleaner.state.floatbank4_b_air            16768 non-null  float64\n",
      " 80  secondary_cleaner.state.floatbank4_b_level          16767 non-null  float64\n",
      " 81  secondary_cleaner.state.floatbank5_a_air            16775 non-null  float64\n",
      " 82  secondary_cleaner.state.floatbank5_a_level          16775 non-null  float64\n",
      " 83  secondary_cleaner.state.floatbank5_b_air            16775 non-null  float64\n",
      " 84  secondary_cleaner.state.floatbank5_b_level          16776 non-null  float64\n",
      " 85  secondary_cleaner.state.floatbank6_a_air            16757 non-null  float64\n",
      " 86  secondary_cleaner.state.floatbank6_a_level          16775 non-null  float64\n",
      "dtypes: float64(86), object(1)\n",
      "memory usage: 11.2+ MB\n"
     ]
    }
   ],
   "source": [
    "recovery_train_data.info()"
   ]
  },
  {
   "cell_type": "code",
   "execution_count": 4,
   "metadata": {},
   "outputs": [
    {
     "name": "stdout",
     "output_type": "stream",
     "text": [
      "<class 'pandas.core.frame.DataFrame'>\n",
      "RangeIndex: 5856 entries, 0 to 5855\n",
      "Data columns (total 53 columns):\n",
      " #   Column                                      Non-Null Count  Dtype  \n",
      "---  ------                                      --------------  -----  \n",
      " 0   date                                        5856 non-null   object \n",
      " 1   primary_cleaner.input.sulfate               5554 non-null   float64\n",
      " 2   primary_cleaner.input.depressant            5572 non-null   float64\n",
      " 3   primary_cleaner.input.feed_size             5856 non-null   float64\n",
      " 4   primary_cleaner.input.xanthate              5690 non-null   float64\n",
      " 5   primary_cleaner.state.floatbank8_a_air      5840 non-null   float64\n",
      " 6   primary_cleaner.state.floatbank8_a_level    5840 non-null   float64\n",
      " 7   primary_cleaner.state.floatbank8_b_air      5840 non-null   float64\n",
      " 8   primary_cleaner.state.floatbank8_b_level    5840 non-null   float64\n",
      " 9   primary_cleaner.state.floatbank8_c_air      5840 non-null   float64\n",
      " 10  primary_cleaner.state.floatbank8_c_level    5840 non-null   float64\n",
      " 11  primary_cleaner.state.floatbank8_d_air      5840 non-null   float64\n",
      " 12  primary_cleaner.state.floatbank8_d_level    5840 non-null   float64\n",
      " 13  rougher.input.feed_ag                       5840 non-null   float64\n",
      " 14  rougher.input.feed_pb                       5840 non-null   float64\n",
      " 15  rougher.input.feed_rate                     5816 non-null   float64\n",
      " 16  rougher.input.feed_size                     5834 non-null   float64\n",
      " 17  rougher.input.feed_sol                      5789 non-null   float64\n",
      " 18  rougher.input.feed_au                       5840 non-null   float64\n",
      " 19  rougher.input.floatbank10_sulfate           5599 non-null   float64\n",
      " 20  rougher.input.floatbank10_xanthate          5733 non-null   float64\n",
      " 21  rougher.input.floatbank11_sulfate           5801 non-null   float64\n",
      " 22  rougher.input.floatbank11_xanthate          5503 non-null   float64\n",
      " 23  rougher.state.floatbank10_a_air             5839 non-null   float64\n",
      " 24  rougher.state.floatbank10_a_level           5840 non-null   float64\n",
      " 25  rougher.state.floatbank10_b_air             5839 non-null   float64\n",
      " 26  rougher.state.floatbank10_b_level           5840 non-null   float64\n",
      " 27  rougher.state.floatbank10_c_air             5839 non-null   float64\n",
      " 28  rougher.state.floatbank10_c_level           5840 non-null   float64\n",
      " 29  rougher.state.floatbank10_d_air             5839 non-null   float64\n",
      " 30  rougher.state.floatbank10_d_level           5840 non-null   float64\n",
      " 31  rougher.state.floatbank10_e_air             5839 non-null   float64\n",
      " 32  rougher.state.floatbank10_e_level           5840 non-null   float64\n",
      " 33  rougher.state.floatbank10_f_air             5839 non-null   float64\n",
      " 34  rougher.state.floatbank10_f_level           5840 non-null   float64\n",
      " 35  secondary_cleaner.state.floatbank2_a_air    5836 non-null   float64\n",
      " 36  secondary_cleaner.state.floatbank2_a_level  5840 non-null   float64\n",
      " 37  secondary_cleaner.state.floatbank2_b_air    5833 non-null   float64\n",
      " 38  secondary_cleaner.state.floatbank2_b_level  5840 non-null   float64\n",
      " 39  secondary_cleaner.state.floatbank3_a_air    5822 non-null   float64\n",
      " 40  secondary_cleaner.state.floatbank3_a_level  5840 non-null   float64\n",
      " 41  secondary_cleaner.state.floatbank3_b_air    5840 non-null   float64\n",
      " 42  secondary_cleaner.state.floatbank3_b_level  5840 non-null   float64\n",
      " 43  secondary_cleaner.state.floatbank4_a_air    5840 non-null   float64\n",
      " 44  secondary_cleaner.state.floatbank4_a_level  5840 non-null   float64\n",
      " 45  secondary_cleaner.state.floatbank4_b_air    5840 non-null   float64\n",
      " 46  secondary_cleaner.state.floatbank4_b_level  5840 non-null   float64\n",
      " 47  secondary_cleaner.state.floatbank5_a_air    5840 non-null   float64\n",
      " 48  secondary_cleaner.state.floatbank5_a_level  5840 non-null   float64\n",
      " 49  secondary_cleaner.state.floatbank5_b_air    5840 non-null   float64\n",
      " 50  secondary_cleaner.state.floatbank5_b_level  5840 non-null   float64\n",
      " 51  secondary_cleaner.state.floatbank6_a_air    5840 non-null   float64\n",
      " 52  secondary_cleaner.state.floatbank6_a_level  5840 non-null   float64\n",
      "dtypes: float64(52), object(1)\n",
      "memory usage: 2.4+ MB\n"
     ]
    }
   ],
   "source": [
    "recovery_test_data.info()"
   ]
  },
  {
   "cell_type": "code",
   "execution_count": 5,
   "metadata": {},
   "outputs": [
    {
     "name": "stdout",
     "output_type": "stream",
     "text": [
      "<class 'pandas.core.frame.DataFrame'>\n",
      "RangeIndex: 22716 entries, 0 to 22715\n",
      "Data columns (total 87 columns):\n",
      " #   Column                                              Non-Null Count  Dtype  \n",
      "---  ------                                              --------------  -----  \n",
      " 0   date                                                22716 non-null  object \n",
      " 1   final.output.concentrate_ag                         22627 non-null  float64\n",
      " 2   final.output.concentrate_pb                         22629 non-null  float64\n",
      " 3   final.output.concentrate_sol                        22331 non-null  float64\n",
      " 4   final.output.concentrate_au                         22630 non-null  float64\n",
      " 5   final.output.recovery                               20753 non-null  float64\n",
      " 6   final.output.tail_ag                                22633 non-null  float64\n",
      " 7   final.output.tail_pb                                22516 non-null  float64\n",
      " 8   final.output.tail_sol                               22445 non-null  float64\n",
      " 9   final.output.tail_au                                22635 non-null  float64\n",
      " 10  primary_cleaner.input.sulfate                       21107 non-null  float64\n",
      " 11  primary_cleaner.input.depressant                    21170 non-null  float64\n",
      " 12  primary_cleaner.input.feed_size                     22716 non-null  float64\n",
      " 13  primary_cleaner.input.xanthate                      21565 non-null  float64\n",
      " 14  primary_cleaner.output.concentrate_ag               22618 non-null  float64\n",
      " 15  primary_cleaner.output.concentrate_pb               22268 non-null  float64\n",
      " 16  primary_cleaner.output.concentrate_sol              21918 non-null  float64\n",
      " 17  primary_cleaner.output.concentrate_au               22618 non-null  float64\n",
      " 18  primary_cleaner.output.tail_ag                      22614 non-null  float64\n",
      " 19  primary_cleaner.output.tail_pb                      22594 non-null  float64\n",
      " 20  primary_cleaner.output.tail_sol                     22365 non-null  float64\n",
      " 21  primary_cleaner.output.tail_au                      22617 non-null  float64\n",
      " 22  primary_cleaner.state.floatbank8_a_air              22660 non-null  float64\n",
      " 23  primary_cleaner.state.floatbank8_a_level            22667 non-null  float64\n",
      " 24  primary_cleaner.state.floatbank8_b_air              22660 non-null  float64\n",
      " 25  primary_cleaner.state.floatbank8_b_level            22673 non-null  float64\n",
      " 26  primary_cleaner.state.floatbank8_c_air              22662 non-null  float64\n",
      " 27  primary_cleaner.state.floatbank8_c_level            22673 non-null  float64\n",
      " 28  primary_cleaner.state.floatbank8_d_air              22661 non-null  float64\n",
      " 29  primary_cleaner.state.floatbank8_d_level            22673 non-null  float64\n",
      " 30  rougher.calculation.sulfate_to_au_concentrate       22672 non-null  float64\n",
      " 31  rougher.calculation.floatbank10_sulfate_to_au_feed  22672 non-null  float64\n",
      " 32  rougher.calculation.floatbank11_sulfate_to_au_feed  22672 non-null  float64\n",
      " 33  rougher.calculation.au_pb_ratio                     21089 non-null  float64\n",
      " 34  rougher.input.feed_ag                               22618 non-null  float64\n",
      " 35  rougher.input.feed_pb                               22472 non-null  float64\n",
      " 36  rougher.input.feed_rate                             22163 non-null  float64\n",
      " 37  rougher.input.feed_size                             22277 non-null  float64\n",
      " 38  rougher.input.feed_sol                              22357 non-null  float64\n",
      " 39  rougher.input.feed_au                               22617 non-null  float64\n",
      " 40  rougher.input.floatbank10_sulfate                   21415 non-null  float64\n",
      " 41  rougher.input.floatbank10_xanthate                  22247 non-null  float64\n",
      " 42  rougher.input.floatbank11_sulfate                   22038 non-null  float64\n",
      " 43  rougher.input.floatbank11_xanthate                  20459 non-null  float64\n",
      " 44  rougher.output.concentrate_ag                       22618 non-null  float64\n",
      " 45  rougher.output.concentrate_pb                       22618 non-null  float64\n",
      " 46  rougher.output.concentrate_sol                      22526 non-null  float64\n",
      " 47  rougher.output.concentrate_au                       22618 non-null  float64\n",
      " 48  rougher.output.recovery                             19597 non-null  float64\n",
      " 49  rougher.output.tail_ag                              19979 non-null  float64\n",
      " 50  rougher.output.tail_pb                              22618 non-null  float64\n",
      " 51  rougher.output.tail_sol                             19980 non-null  float64\n",
      " 52  rougher.output.tail_au                              19980 non-null  float64\n",
      " 53  rougher.state.floatbank10_a_air                     22646 non-null  float64\n",
      " 54  rougher.state.floatbank10_a_level                   22647 non-null  float64\n",
      " 55  rougher.state.floatbank10_b_air                     22646 non-null  float64\n",
      " 56  rougher.state.floatbank10_b_level                   22647 non-null  float64\n",
      " 57  rougher.state.floatbank10_c_air                     22646 non-null  float64\n",
      " 58  rougher.state.floatbank10_c_level                   22654 non-null  float64\n",
      " 59  rougher.state.floatbank10_d_air                     22641 non-null  float64\n",
      " 60  rougher.state.floatbank10_d_level                   22649 non-null  float64\n",
      " 61  rougher.state.floatbank10_e_air                     22096 non-null  float64\n",
      " 62  rougher.state.floatbank10_e_level                   22649 non-null  float64\n",
      " 63  rougher.state.floatbank10_f_air                     22641 non-null  float64\n",
      " 64  rougher.state.floatbank10_f_level                   22642 non-null  float64\n",
      " 65  secondary_cleaner.output.tail_ag                    22616 non-null  float64\n",
      " 66  secondary_cleaner.output.tail_pb                    22600 non-null  float64\n",
      " 67  secondary_cleaner.output.tail_sol                   20501 non-null  float64\n",
      " 68  secondary_cleaner.output.tail_au                    22618 non-null  float64\n",
      " 69  secondary_cleaner.state.floatbank2_a_air            22333 non-null  float64\n",
      " 70  secondary_cleaner.state.floatbank2_a_level          22591 non-null  float64\n",
      " 71  secondary_cleaner.state.floatbank2_b_air            22538 non-null  float64\n",
      " 72  secondary_cleaner.state.floatbank2_b_level          22588 non-null  float64\n",
      " 73  secondary_cleaner.state.floatbank3_a_air            22585 non-null  float64\n",
      " 74  secondary_cleaner.state.floatbank3_a_level          22587 non-null  float64\n",
      " 75  secondary_cleaner.state.floatbank3_b_air            22592 non-null  float64\n",
      " 76  secondary_cleaner.state.floatbank3_b_level          22590 non-null  float64\n",
      " 77  secondary_cleaner.state.floatbank4_a_air            22571 non-null  float64\n",
      " 78  secondary_cleaner.state.floatbank4_a_level          22587 non-null  float64\n",
      " 79  secondary_cleaner.state.floatbank4_b_air            22608 non-null  float64\n",
      " 80  secondary_cleaner.state.floatbank4_b_level          22607 non-null  float64\n",
      " 81  secondary_cleaner.state.floatbank5_a_air            22615 non-null  float64\n",
      " 82  secondary_cleaner.state.floatbank5_a_level          22615 non-null  float64\n",
      " 83  secondary_cleaner.state.floatbank5_b_air            22615 non-null  float64\n",
      " 84  secondary_cleaner.state.floatbank5_b_level          22616 non-null  float64\n",
      " 85  secondary_cleaner.state.floatbank6_a_air            22597 non-null  float64\n",
      " 86  secondary_cleaner.state.floatbank6_a_level          22615 non-null  float64\n",
      "dtypes: float64(86), object(1)\n",
      "memory usage: 15.1+ MB\n"
     ]
    }
   ],
   "source": [
    "recovery_full_data.info()"
   ]
  },
  {
   "cell_type": "markdown",
   "metadata": {},
   "source": [
    "Данные загружены. Видно большое кол-во пропущенных значений, данные довольно \"грязные\"."
   ]
  },
  {
   "cell_type": "markdown",
   "metadata": {},
   "source": [
    "# 2. Подготовка данных"
   ]
  },
  {
   "cell_type": "markdown",
   "metadata": {},
   "source": [
    "## 2.1 Проверка рассчёта эффективности обогащения"
   ]
  },
  {
   "cell_type": "markdown",
   "metadata": {},
   "source": [
    "Для рассчёта параметра recovery будем использовать только те измерения, где этот параметр уже приведён."
   ]
  },
  {
   "cell_type": "code",
   "execution_count": 6,
   "metadata": {},
   "outputs": [
    {
     "data": {
      "image/png": "[encoded data removed]",
      "text/plain": [
       "<Figure size 720x360 with 1 Axes>"
      ]
     },
     "metadata": {},
     "output_type": "display_data"
    },
    {
     "name": "stdout",
     "output_type": "stream",
     "text": [
      "Mean absolute error = 9.444891926100695e-15\n"
     ]
    }
   ],
   "source": [
    "# посмотрим, где в данных посчитан параметр recovery\n",
    "recovery_train = recovery_train_data['rougher.output.recovery'].dropna()\n",
    "\n",
    "# изымаем данные для рассчётов, опираясь на индексы уже известных значений\n",
    "c = recovery_train_data.iloc[recovery_train.index]['rougher.output.concentrate_au'].dropna()\n",
    "f = recovery_train_data.iloc[recovery_train.index]['rougher.input.feed_au'].dropna()\n",
    "t = recovery_train_data.iloc[recovery_train.index]['rougher.output.tail_au'].dropna()\n",
    "\n",
    "recovery_check = ((f-t)*c) / ((c-t)*f) * 100\n",
    "\n",
    "# считаем MAE\n",
    "mae_recovery_check = mean_absolute_error(recovery_train, recovery_check)\n",
    "\n",
    "# гистограммы для оценки результата\n",
    "ax = recovery_train.hist(bins=40, figsize=(10,5), alpha=0.6)\n",
    "recovery_check.hist(ax=ax, alpha=0.6, bins=40)\n",
    "plt.title('Recovery rates input and calculated dist')\n",
    "\n",
    "plt.show()\n",
    "print('Mean absolute error =', mae_recovery_check)"
   ]
  },
  {
   "cell_type": "markdown",
   "metadata": {},
   "source": [
    "В целом значения получились почти равные. MAE стремиться к нулю.\n",
    "\n",
    "Можно сделать вывод, что рассчёта эффективности обогащения в исходных данных проведён правильно."
   ]
  },
  {
   "cell_type": "markdown",
   "metadata": {},
   "source": [
    "<b>Антон:</b><br />\n",
    "Верно! Я что-то запутался сначала с этими пропусками. Но если изначально фильтровать данные только по уже известным значениям recovery - всё получается! Спасибо!)"
   ]
  },
  {
   "cell_type": "markdown",
   "metadata": {},
   "source": [
    "## 2.2 Анализ признаков, недоступных в тестовой выборке."
   ]
  },
  {
   "cell_type": "code",
   "execution_count": 7,
   "metadata": {},
   "outputs": [],
   "source": [
    "# посмотрим признаки, нгедоступные в тестовой выборке\n",
    "missing_columns = []\n",
    "for cols in recovery_train_data.columns:\n",
    "    if cols not in recovery_test_data:\n",
    "        missing_columns.append(cols)"
   ]
  },
  {
   "cell_type": "code",
   "execution_count": 8,
   "metadata": {},
   "outputs": [
    {
     "data": {
      "text/plain": [
       "['final.output.concentrate_ag',\n",
       " 'final.output.concentrate_pb',\n",
       " 'final.output.concentrate_sol',\n",
       " 'final.output.concentrate_au',\n",
       " 'final.output.recovery',\n",
       " 'final.output.tail_ag',\n",
       " 'final.output.tail_pb',\n",
       " 'final.output.tail_sol',\n",
       " 'final.output.tail_au',\n",
       " 'primary_cleaner.output.concentrate_ag',\n",
       " 'primary_cleaner.output.concentrate_pb',\n",
       " 'primary_cleaner.output.concentrate_sol',\n",
       " 'primary_cleaner.output.concentrate_au',\n",
       " 'primary_cleaner.output.tail_ag',\n",
       " 'primary_cleaner.output.tail_pb',\n",
       " 'primary_cleaner.output.tail_sol',\n",
       " 'primary_cleaner.output.tail_au',\n",
       " 'rougher.calculation.sulfate_to_au_concentrate',\n",
       " 'rougher.calculation.floatbank10_sulfate_to_au_feed',\n",
       " 'rougher.calculation.floatbank11_sulfate_to_au_feed',\n",
       " 'rougher.calculation.au_pb_ratio',\n",
       " 'rougher.output.concentrate_ag',\n",
       " 'rougher.output.concentrate_pb',\n",
       " 'rougher.output.concentrate_sol',\n",
       " 'rougher.output.concentrate_au',\n",
       " 'rougher.output.recovery',\n",
       " 'rougher.output.tail_ag',\n",
       " 'rougher.output.tail_pb',\n",
       " 'rougher.output.tail_sol',\n",
       " 'rougher.output.tail_au',\n",
       " 'secondary_cleaner.output.tail_ag',\n",
       " 'secondary_cleaner.output.tail_pb',\n",
       " 'secondary_cleaner.output.tail_sol',\n",
       " 'secondary_cleaner.output.tail_au']"
      ]
     },
     "execution_count": 8,
     "metadata": {},
     "output_type": "execute_result"
    }
   ],
   "source": [
    "missing_columns"
   ]
  },
  {
   "cell_type": "markdown",
   "metadata": {},
   "source": [
    "В тестовой выборке отсутствуют данные о выходе продуктов на разные этапах очистки\\обогащения - отсутствуют практически все признаки с параметром .output. В том числе целевые.\n",
    "\n",
    "Так же в тестовой сборке отсутствуют несколько признаков с вычислениями (.calculation).\n",
    "\n",
    "Дополним тестовую выборку данными из полной выборки, т.к. признаки нам понадобятся в дальнейшем."
   ]
  },
  {
   "cell_type": "markdown",
   "metadata": {},
   "source": [
    "<b>Антон:</b><br />\n",
    "Ох... Это было не очевидно из описания задания...<br/>\n",
    "Это существенно меняет обучение моделей!) Вероятно, такая низкая ошибка в тестах у меня и получилась, что я использовал больше признаков, в том числе output, для обучения.<br/>\n",
    "Ты заинтриговал меня, поэтому я переделал раздел с определением признаков и обучениями моделей \"по требованиям Заказчика\"))) "
   ]
  },
  {
   "cell_type": "markdown",
   "metadata": {},
   "source": [
    "## 2.3 Предобработка данных"
   ]
  },
  {
   "cell_type": "markdown",
   "metadata": {},
   "source": [
    "Подготовим данные для дальнейшей работы.\n",
    "\n",
    "Как упоминалось ранее, по условиям задания, соседние по времени параметры часто похожи. Так как в данных много пропусков, заполним пропуски методом ffill. "
   ]
  },
  {
   "cell_type": "code",
   "execution_count": 9,
   "metadata": {},
   "outputs": [
    {
     "name": "stdout",
     "output_type": "stream",
     "text": [
      "<class 'pandas.core.frame.DataFrame'>\n",
      "RangeIndex: 22716 entries, 0 to 22715\n",
      "Data columns (total 87 columns):\n",
      " #   Column                                              Non-Null Count  Dtype  \n",
      "---  ------                                              --------------  -----  \n",
      " 0   date                                                22716 non-null  object \n",
      " 1   final.output.concentrate_ag                         22716 non-null  float64\n",
      " 2   final.output.concentrate_pb                         22716 non-null  float64\n",
      " 3   final.output.concentrate_sol                        22716 non-null  float64\n",
      " 4   final.output.concentrate_au                         22716 non-null  float64\n",
      " 5   final.output.recovery                               22716 non-null  float64\n",
      " 6   final.output.tail_ag                                22716 non-null  float64\n",
      " 7   final.output.tail_pb                                22716 non-null  float64\n",
      " 8   final.output.tail_sol                               22716 non-null  float64\n",
      " 9   final.output.tail_au                                22716 non-null  float64\n",
      " 10  primary_cleaner.input.sulfate                       22716 non-null  float64\n",
      " 11  primary_cleaner.input.depressant                    22716 non-null  float64\n",
      " 12  primary_cleaner.input.feed_size                     22716 non-null  float64\n",
      " 13  primary_cleaner.input.xanthate                      22716 non-null  float64\n",
      " 14  primary_cleaner.output.concentrate_ag               22716 non-null  float64\n",
      " 15  primary_cleaner.output.concentrate_pb               22716 non-null  float64\n",
      " 16  primary_cleaner.output.concentrate_sol              22716 non-null  float64\n",
      " 17  primary_cleaner.output.concentrate_au               22716 non-null  float64\n",
      " 18  primary_cleaner.output.tail_ag                      22716 non-null  float64\n",
      " 19  primary_cleaner.output.tail_pb                      22716 non-null  float64\n",
      " 20  primary_cleaner.output.tail_sol                     22716 non-null  float64\n",
      " 21  primary_cleaner.output.tail_au                      22716 non-null  float64\n",
      " 22  primary_cleaner.state.floatbank8_a_air              22716 non-null  float64\n",
      " 23  primary_cleaner.state.floatbank8_a_level            22716 non-null  float64\n",
      " 24  primary_cleaner.state.floatbank8_b_air              22716 non-null  float64\n",
      " 25  primary_cleaner.state.floatbank8_b_level            22716 non-null  float64\n",
      " 26  primary_cleaner.state.floatbank8_c_air              22716 non-null  float64\n",
      " 27  primary_cleaner.state.floatbank8_c_level            22716 non-null  float64\n",
      " 28  primary_cleaner.state.floatbank8_d_air              22716 non-null  float64\n",
      " 29  primary_cleaner.state.floatbank8_d_level            22716 non-null  float64\n",
      " 30  rougher.calculation.sulfate_to_au_concentrate       22716 non-null  float64\n",
      " 31  rougher.calculation.floatbank10_sulfate_to_au_feed  22716 non-null  float64\n",
      " 32  rougher.calculation.floatbank11_sulfate_to_au_feed  22716 non-null  float64\n",
      " 33  rougher.calculation.au_pb_ratio                     22716 non-null  float64\n",
      " 34  rougher.input.feed_ag                               22716 non-null  float64\n",
      " 35  rougher.input.feed_pb                               22716 non-null  float64\n",
      " 36  rougher.input.feed_rate                             22716 non-null  float64\n",
      " 37  rougher.input.feed_size                             22716 non-null  float64\n",
      " 38  rougher.input.feed_sol                              22716 non-null  float64\n",
      " 39  rougher.input.feed_au                               22716 non-null  float64\n",
      " 40  rougher.input.floatbank10_sulfate                   22716 non-null  float64\n",
      " 41  rougher.input.floatbank10_xanthate                  22716 non-null  float64\n",
      " 42  rougher.input.floatbank11_sulfate                   22716 non-null  float64\n",
      " 43  rougher.input.floatbank11_xanthate                  22716 non-null  float64\n",
      " 44  rougher.output.concentrate_ag                       22716 non-null  float64\n",
      " 45  rougher.output.concentrate_pb                       22716 non-null  float64\n",
      " 46  rougher.output.concentrate_sol                      22716 non-null  float64\n",
      " 47  rougher.output.concentrate_au                       22716 non-null  float64\n",
      " 48  rougher.output.recovery                             22716 non-null  float64\n",
      " 49  rougher.output.tail_ag                              22716 non-null  float64\n",
      " 50  rougher.output.tail_pb                              22716 non-null  float64\n",
      " 51  rougher.output.tail_sol                             22716 non-null  float64\n",
      " 52  rougher.output.tail_au                              22716 non-null  float64\n",
      " 53  rougher.state.floatbank10_a_air                     22716 non-null  float64\n",
      " 54  rougher.state.floatbank10_a_level                   22716 non-null  float64\n",
      " 55  rougher.state.floatbank10_b_air                     22716 non-null  float64\n",
      " 56  rougher.state.floatbank10_b_level                   22716 non-null  float64\n",
      " 57  rougher.state.floatbank10_c_air                     22716 non-null  float64\n",
      " 58  rougher.state.floatbank10_c_level                   22716 non-null  float64\n",
      " 59  rougher.state.floatbank10_d_air                     22716 non-null  float64\n",
      " 60  rougher.state.floatbank10_d_level                   22716 non-null  float64\n",
      " 61  rougher.state.floatbank10_e_air                     22716 non-null  float64\n",
      " 62  rougher.state.floatbank10_e_level                   22716 non-null  float64\n",
      " 63  rougher.state.floatbank10_f_air                     22716 non-null  float64\n",
      " 64  rougher.state.floatbank10_f_level                   22716 non-null  float64\n",
      " 65  secondary_cleaner.output.tail_ag                    22716 non-null  float64\n",
      " 66  secondary_cleaner.output.tail_pb                    22716 non-null  float64\n",
      " 67  secondary_cleaner.output.tail_sol                   22716 non-null  float64\n",
      " 68  secondary_cleaner.output.tail_au                    22716 non-null  float64\n",
      " 69  secondary_cleaner.state.floatbank2_a_air            22716 non-null  float64\n",
      " 70  secondary_cleaner.state.floatbank2_a_level          22716 non-null  float64\n",
      " 71  secondary_cleaner.state.floatbank2_b_air            22716 non-null  float64\n",
      " 72  secondary_cleaner.state.floatbank2_b_level          22716 non-null  float64\n",
      " 73  secondary_cleaner.state.floatbank3_a_air            22716 non-null  float64\n",
      " 74  secondary_cleaner.state.floatbank3_a_level          22716 non-null  float64\n",
      " 75  secondary_cleaner.state.floatbank3_b_air            22716 non-null  float64\n",
      " 76  secondary_cleaner.state.floatbank3_b_level          22716 non-null  float64\n",
      " 77  secondary_cleaner.state.floatbank4_a_air            22716 non-null  float64\n",
      " 78  secondary_cleaner.state.floatbank4_a_level          22716 non-null  float64\n",
      " 79  secondary_cleaner.state.floatbank4_b_air            22716 non-null  float64\n",
      " 80  secondary_cleaner.state.floatbank4_b_level          22716 non-null  float64\n",
      " 81  secondary_cleaner.state.floatbank5_a_air            22716 non-null  float64\n",
      " 82  secondary_cleaner.state.floatbank5_a_level          22716 non-null  float64\n",
      " 83  secondary_cleaner.state.floatbank5_b_air            22716 non-null  float64\n",
      " 84  secondary_cleaner.state.floatbank5_b_level          22716 non-null  float64\n",
      " 85  secondary_cleaner.state.floatbank6_a_air            22716 non-null  float64\n",
      " 86  secondary_cleaner.state.floatbank6_a_level          22716 non-null  float64\n",
      "dtypes: float64(86), object(1)\n",
      "memory usage: 15.1+ MB\n"
     ]
    }
   ],
   "source": [
    "recovery_train_data = recovery_train_data.fillna(method='ffill')\n",
    "recovery_test_data = recovery_test_data.fillna(method='ffill')\n",
    "recovery_full_data = recovery_full_data.fillna(method='ffill')\n",
    "recovery_full_data.info()"
   ]
  },
  {
   "cell_type": "markdown",
   "metadata": {},
   "source": [
    "<b>Антон:</b><br />\n",
    "Николай, ты закомментил эту ячейку с заполнениями пропусков. Забыл убрать #? Или ...?"
   ]
  },
  {
   "cell_type": "markdown",
   "metadata": {},
   "source": [
    "Проверим, есть ли в данных не корректные значения долей. Для этого взглянем на кол-во значений меньше 0 и больше 100ю Для параметров .output не должно быть таких значений."
   ]
  },
  {
   "cell_type": "code",
   "execution_count": 10,
   "metadata": {},
   "outputs": [
    {
     "name": "stdout",
     "output_type": "stream",
     "text": [
      "date ---\n",
      "final.output.concentrate_ag 0 0\n",
      "final.output.concentrate_pb 0 0\n",
      "final.output.concentrate_sol 0 0\n",
      "final.output.concentrate_au 0 0\n",
      "final.output.recovery 0 0\n",
      "final.output.tail_ag 0 0\n",
      "final.output.tail_pb 0 0\n",
      "final.output.tail_sol 0 0\n",
      "final.output.tail_au 0 0\n",
      "primary_cleaner.input.sulfate 0 17208\n",
      "primary_cleaner.input.depressant 0 0\n",
      "primary_cleaner.input.feed_size 0 0\n",
      "primary_cleaner.input.xanthate 0 0\n",
      "primary_cleaner.output.concentrate_ag 0 0\n",
      "primary_cleaner.output.concentrate_pb 0 0\n",
      "primary_cleaner.output.concentrate_sol 0 0\n",
      "primary_cleaner.output.concentrate_au 0 0\n",
      "primary_cleaner.output.tail_ag 0 0\n",
      "primary_cleaner.output.tail_pb 0 0\n",
      "primary_cleaner.output.tail_sol 0 0\n",
      "primary_cleaner.output.tail_au 0 0\n",
      "primary_cleaner.state.floatbank8_a_air 0 21594\n",
      "primary_cleaner.state.floatbank8_a_level 22716 0\n",
      "primary_cleaner.state.floatbank8_b_air 0 21597\n",
      "primary_cleaner.state.floatbank8_b_level 22716 0\n",
      "primary_cleaner.state.floatbank8_c_air 0 21522\n",
      "primary_cleaner.state.floatbank8_c_level 22716 0\n",
      "primary_cleaner.state.floatbank8_d_air 0 21608\n",
      "primary_cleaner.state.floatbank8_d_level 22716 0\n",
      "rougher.calculation.sulfate_to_au_concentrate 1220 21400\n",
      "rougher.calculation.floatbank10_sulfate_to_au_feed 1423 20879\n",
      "rougher.calculation.floatbank11_sulfate_to_au_feed 1078 20481\n",
      "rougher.calculation.au_pb_ratio 146 0\n",
      "rougher.input.feed_ag 0 0\n",
      "rougher.input.feed_pb 0 0\n",
      "rougher.input.feed_rate 0 20828\n",
      "rougher.input.feed_size 0 682\n",
      "rougher.input.feed_sol 0 0\n",
      "rougher.input.feed_au 0 0\n",
      "rougher.input.floatbank10_sulfate 0 0\n",
      "rougher.input.floatbank10_xanthate 0 0\n",
      "rougher.input.floatbank11_sulfate 0 0\n",
      "rougher.input.floatbank11_xanthate 0 0\n",
      "rougher.output.concentrate_ag 0 0\n",
      "rougher.output.concentrate_pb 0 0\n",
      "rougher.output.concentrate_sol 0 0\n",
      "rougher.output.concentrate_au 0 0\n",
      "rougher.output.recovery 0 0\n",
      "rougher.output.tail_ag 0 0\n",
      "rougher.output.tail_pb 0 0\n",
      "rougher.output.tail_sol 0 0\n",
      "rougher.output.tail_au 0 0\n",
      "rougher.state.floatbank10_a_air 758 21684\n",
      "rougher.state.floatbank10_a_level 22716 0\n",
      "rougher.state.floatbank10_b_air 1011 21686\n",
      "rougher.state.floatbank10_b_level 22708 0\n",
      "rougher.state.floatbank10_c_air 956 21678\n",
      "rougher.state.floatbank10_c_level 22716 0\n",
      "rougher.state.floatbank10_d_air 1012 21693\n",
      "rougher.state.floatbank10_d_level 22715 0\n",
      "rougher.state.floatbank10_e_air 1013 21692\n",
      "rougher.state.floatbank10_e_level 22716 0\n",
      "rougher.state.floatbank10_f_air 1013 21692\n",
      "rougher.state.floatbank10_f_level 22716 0\n",
      "secondary_cleaner.output.tail_ag 0 0\n",
      "secondary_cleaner.output.tail_pb 0 0\n",
      "secondary_cleaner.output.tail_sol 0 0\n",
      "secondary_cleaner.output.tail_au 0 0\n",
      "secondary_cleaner.state.floatbank2_a_air 0 0\n",
      "secondary_cleaner.state.floatbank2_a_level 22716 0\n",
      "secondary_cleaner.state.floatbank2_b_air 0 0\n",
      "secondary_cleaner.state.floatbank2_b_level 22716 0\n",
      "secondary_cleaner.state.floatbank3_a_air 0 0\n",
      "secondary_cleaner.state.floatbank3_a_level 22716 0\n",
      "secondary_cleaner.state.floatbank3_b_air 0 0\n",
      "secondary_cleaner.state.floatbank3_b_level 22716 0\n",
      "secondary_cleaner.state.floatbank4_a_air 0 0\n",
      "secondary_cleaner.state.floatbank4_a_level 22716 0\n",
      "secondary_cleaner.state.floatbank4_b_air 0 0\n",
      "secondary_cleaner.state.floatbank4_b_level 22716 0\n",
      "secondary_cleaner.state.floatbank5_a_air 544 0\n",
      "secondary_cleaner.state.floatbank5_a_level 22716 0\n",
      "secondary_cleaner.state.floatbank5_b_air 0 0\n",
      "secondary_cleaner.state.floatbank5_b_level 22716 0\n",
      "secondary_cleaner.state.floatbank6_a_air 1 0\n",
      "secondary_cleaner.state.floatbank6_a_level 22716 0\n"
     ]
    }
   ],
   "source": [
    "# считаем для каждого столбца кол-во значений меньше нуля и больше 100\n",
    "for cols in recovery_full_data.columns:\n",
    "    try:\n",
    "        sub_zeros = recovery_full_data[recovery_full_data[cols] < 0][cols]\n",
    "        up_hundred = recovery_full_data[recovery_full_data[cols] > 100][cols]\n",
    "        print(cols, sub_zeros.shape[0], up_hundred.shape[0])\n",
    "    except:\n",
    "        print(cols, '---')"
   ]
  },
  {
   "cell_type": "markdown",
   "metadata": {},
   "source": [
    "## Выводы:\n",
    "Были загружены и проанализированы исходные данные.\n",
    "\n",
    "В данных обнаружено большое кол-во пропущенных значений. Для их заполнения использовался метод ffill, заполняющий пропуски близкими по расположению данных.\n",
    "\n",
    "Так же были проанализированы значения парметров. Выбросов в ходе анализа не обнаружено. Данные готовы для дальнейшей обработки."
   ]
  },
  {
   "cell_type": "markdown",
   "metadata": {},
   "source": [
    "# 3. Анализ данных"
   ]
  },
  {
   "cell_type": "markdown",
   "metadata": {},
   "source": [
    "## 3.1 Концентрация металлов (Au, Ag, Pb) на различных этапах очистки"
   ]
  },
  {
   "cell_type": "markdown",
   "metadata": {},
   "source": [
    "Проанализируем концентрацию металов на выходе различных этапов."
   ]
  },
  {
   "cell_type": "code",
   "execution_count": 11,
   "metadata": {},
   "outputs": [],
   "source": [
    "# функция на входе получает метал, считает средние значения концентрации на каждом этапе и строит ящики значений для каждого этапа\n",
    "def metals_conc_difs(metal):\n",
    "    # собираеми датасет с нужными значениями\n",
    "    output_cols = ['rougher.input.feed_{}'.format(metal), 'rougher.output.concentrate_{}'.format(metal), 'primary_cleaner.output.concentrate_{}'.format(metal), 'final.output.concentrate_{}'.format(metal)]\n",
    "    concentrates = recovery_full_data[output_cols]\n",
    "    \n",
    "    # считаем средние значения\n",
    "    conc_means = []\n",
    "    for each in output_cols:\n",
    "        conc_means.append(concentrates[each].mean())\n",
    "                   \n",
    "    # строим ящики с усами для значений каждого этапа\n",
    "    boxplot = concentrates.boxplot(column=output_cols, figsize=(15,5))\n",
    "    boxplot.set_title('{} concentrates outputs'.format(metal))\n",
    "\n",
    "    print('{} concentrate means:'.format(metal))\n",
    "    print('Input frac:', round(conc_means[0],2))\n",
    "    print('Rogher output frac:', round(conc_means[1], 2))\n",
    "    print('Prim.cleaner output frac:', round(conc_means[2], 2))\n",
    "    print('Final output frac:', round(conc_means[3], 2))\n",
    "    plt.show()"
   ]
  },
  {
   "cell_type": "code",
   "execution_count": 12,
   "metadata": {},
   "outputs": [
    {
     "name": "stdout",
     "output_type": "stream",
     "text": [
      "ag concentrate means:\n",
      "Input frac: 8.04\n",
      "Rogher output frac: 10.85\n",
      "Prim.cleaner output frac: 7.67\n",
      "Final output frac: 4.77\n"
     ]
    },
    {
     "data": {
      "image/png": "[encoded data removed]",
      "text/plain": [
       "<Figure size 1080x360 with 1 Axes>"
      ]
     },
     "metadata": {},
     "output_type": "display_data"
    }
   ],
   "source": [
    "# серебро\n",
    "metals_conc_difs('ag')"
   ]
  },
  {
   "cell_type": "code",
   "execution_count": 13,
   "metadata": {},
   "outputs": [
    {
     "name": "stdout",
     "output_type": "stream",
     "text": [
      "pb concentrate means:\n",
      "Input frac: 3.28\n",
      "Rogher output frac: 6.89\n",
      "Prim.cleaner output frac: 8.81\n",
      "Final output frac: 9.07\n"
     ]
    },
    {
     "data": {
      "image/png": "[encoded data removed]",
      "text/plain": [
       "<Figure size 1080x360 with 1 Axes>"
      ]
     },
     "metadata": {},
     "output_type": "display_data"
    }
   ],
   "source": [
    "# свинец\n",
    "metals_conc_difs('pb')"
   ]
  },
  {
   "cell_type": "code",
   "execution_count": 14,
   "metadata": {},
   "outputs": [
    {
     "name": "stdout",
     "output_type": "stream",
     "text": [
      "au concentrate means:\n",
      "Input frac: 7.55\n",
      "Rogher output frac: 17.83\n",
      "Prim.cleaner output frac: 29.12\n",
      "Final output frac: 39.89\n"
     ]
    },
    {
     "data": {
      "image/png": "[encoded data removed]",
      "text/plain": [
       "<Figure size 1080x360 with 1 Axes>"
      ]
     },
     "metadata": {},
     "output_type": "display_data"
    }
   ],
   "source": [
    "# золото\n",
    "metals_conc_difs('au')"
   ]
  },
  {
   "cell_type": "markdown",
   "metadata": {},
   "source": [
    "### Выводы:\n",
    "\n",
    "1. Конецентрация серебра увеличивается после грубой обработки, и после снижается на каждом из этапов очистки.\n",
    "2. Концентрация свинца повышается после каждого этапа обработке. Однако на этапах очистки она остаётся более-менее на обном уровне.1\n",
    "3. Концентрация золота уверенно растёт на каждом этапе обогащения. Так и должно быть)"
   ]
  },
  {
   "cell_type": "markdown",
   "metadata": {},
   "source": [
    "## 3.2 Сравнение распределения размеров гранул сырья на обучающей и тестовой выборках"
   ]
  },
  {
   "cell_type": "markdown",
   "metadata": {},
   "source": [
    "Для сравнения данных о размерах гранул сырья (rougher.input.feed_size), построим гистограммы и посмотрим данные о распределении этих значений в тестовой и обучающих выборках."
   ]
  },
  {
   "cell_type": "code",
   "execution_count": 15,
   "metadata": {},
   "outputs": [
    {
     "data": {
      "text/plain": [
       "(0.0, 150.0)"
      ]
     },
     "execution_count": 15,
     "metadata": {},
     "output_type": "execute_result"
    },
    {
     "data": {
      "image/png": "[encoded data removed]",
      "text/plain": [
       "<Figure size 1080x360 with 1 Axes>"
      ]
     },
     "metadata": {},
     "output_type": "display_data"
    }
   ],
   "source": [
    "# гистограмма распределения величин\n",
    "ax=recovery_train_data['rougher.input.feed_size'].hist(bins=50, figsize=(15,5))\n",
    "recovery_test_data['rougher.input.feed_size'].hist(ax=ax, bins=50, alpha=0.7)\n",
    "plt.xlim([0,150])"
   ]
  },
  {
   "cell_type": "code",
   "execution_count": 16,
   "metadata": {},
   "outputs": [
    {
     "data": {
      "text/plain": [
       "count    16860.000000\n",
       "mean        60.188595\n",
       "std         30.522242\n",
       "min          9.659576\n",
       "25%         47.548897\n",
       "50%         54.066003\n",
       "75%         65.397249\n",
       "max        484.967466\n",
       "Name: rougher.input.feed_size, dtype: float64"
      ]
     },
     "execution_count": 16,
     "metadata": {},
     "output_type": "execute_result"
    }
   ],
   "source": [
    "# информация о распределении в тренировочном наборе\n",
    "recovery_train_data['rougher.input.feed_size'].describe()"
   ]
  },
  {
   "cell_type": "code",
   "execution_count": 17,
   "metadata": {},
   "outputs": [
    {
     "data": {
      "text/plain": [
       "count    5856.000000\n",
       "mean       55.898866\n",
       "std        22.707969\n",
       "min         0.046369\n",
       "25%        43.852884\n",
       "50%        49.964796\n",
       "75%        61.628003\n",
       "max       477.445473\n",
       "Name: rougher.input.feed_size, dtype: float64"
      ]
     },
     "execution_count": 17,
     "metadata": {},
     "output_type": "execute_result"
    }
   ],
   "source": [
    "# в тестовом наборе\n",
    "recovery_test_data['rougher.input.feed_size'].describe()"
   ]
  },
  {
   "cell_type": "markdown",
   "metadata": {},
   "source": [
    "Несмотря на разницу в кол-ве значений в двух сборках, распределение значений размеров гранул сырья для тестовой и обучающей выборках сравнимы, отличаются не сильно: средние значения равны 56 и 60 соответственно."
   ]
  },
  {
   "cell_type": "markdown",
   "metadata": {},
   "source": [
    "## 3.3 Исследование суммарной концентрации всех веществ на разных стадиях: в сырье, в черновом и финальном концентратах."
   ]
  },
  {
   "cell_type": "markdown",
   "metadata": {},
   "source": [
    "Исследуем суммарную концентрацию всех веществ на разных стадия. Аомалии в этих значения помогут нам обнаружить аномалии в данных в целом."
   ]
  },
  {
   "cell_type": "code",
   "execution_count": 18,
   "metadata": {},
   "outputs": [],
   "source": [
    "# функция считает суммы для стадий, записывает их в датафрейм. Еще строит красивые графики\n",
    "def bad_zeros(data):\n",
    "    # создаём датафрейм с суммарными значениями концентраций всех веществ\n",
    "    sum_concentrate = pd.DataFrame()\n",
    "    sum_concentrate['input'] = data['rougher.input.feed_ag'] + data['rougher.input.feed_pb'] + data['rougher.input.feed_au'] + data['rougher.input.feed_sol']\n",
    "    sum_concentrate['rougher_output'] = data['rougher.output.concentrate_ag'] + data['rougher.output.concentrate_pb'] + data['rougher.output.concentrate_au'] + data['rougher.output.concentrate_sol']\n",
    "    sum_concentrate['final_output'] = data['final.output.concentrate_ag'] + data['final.output.concentrate_pb'] + data['final.output.concentrate_au'] + data['final.output.concentrate_sol']\n",
    "    \n",
    "    # строим гистограммы значений\n",
    "    fig,ax = plt.subplots(1,3)\n",
    "    fig.set_size_inches(20,5)\n",
    "    sum_concentrate.plot(ax=ax[0], kind='hist', y='input', bins=30, color='g')\n",
    "    sum_concentrate.plot(ax=ax[1], kind='hist', y='rougher_output', bins=30)\n",
    "    sum_concentrate.plot(ax=ax[2], kind='hist', y='final_output', bins=30, color='r')\n",
    "    fig.suptitle('Concentrates summary distribution', fontsize=16)\n",
    "    plt.show()\n",
    "    \n",
    "    return sum_concentrate"
   ]
  },
  {
   "cell_type": "code",
   "execution_count": 19,
   "metadata": {},
   "outputs": [
    {
     "data": {
      "image/png": "[encoded data removed]",
      "text/plain": [
       "<Figure size 1440x360 with 3 Axes>"
      ]
     },
     "metadata": {},
     "output_type": "display_data"
    }
   ],
   "source": [
    "# применяем функцию к полным данным\n",
    "sum_conc_full = bad_zeros(recovery_full_data)"
   ]
  },
  {
   "cell_type": "markdown",
   "metadata": {},
   "source": [
    "В исследуемых данных обнаружены аномалии в виде большого кол-ва около-нулевых значений.\n",
    "\n",
    "С точки зрения процесса обогащения это может быть нормально - оборудование разных этапов может отключаться (на тех.обслуживание или по другим причинам), хотя данные при этом продолжают сниматься. \n",
    "Так же, любое оборудование имеет погрешность.\n",
    "\n",
    "С точки зрения целей проекта, нулевые данные могут внести ошибки в процесс машинного обучения, поэтому от них необходимо избавиться."
   ]
  },
  {
   "cell_type": "code",
   "execution_count": 20,
   "metadata": {},
   "outputs": [],
   "source": [
    "# функция берет на вход потолочное значение и возвращает перечень временных индексов, для которых все значения по этапу ниже заданного\n",
    "def get_bad_index(ceil):\n",
    "    bad_index = pd.Series()\n",
    "    # плохие индексы при загрузке в rougher\n",
    "    bad_index = bad_index.append((recovery_full_data[(recovery_full_data['rougher.input.feed_ag'] <= 0)\n",
    "        & (recovery_full_data['rougher.input.feed_pb'] <= 0)\n",
    "        & (recovery_full_data['rougher.input.feed_au'] <= 0)\n",
    "        & (recovery_full_data['rougher.input.feed_sol'] <= 0)])['date'])\n",
    "\n",
    "    # плохие индексы в выдаче из rougher\n",
    "    bad_index = bad_index.append((recovery_full_data[(recovery_full_data['rougher.output.concentrate_ag'] <= 0) \n",
    "        & (recovery_full_data['rougher.output.concentrate_pb'] <= 0)\n",
    "        & (recovery_full_data['rougher.output.concentrate_au'] <= 0)\n",
    "        & (recovery_full_data['rougher.output.concentrate_sol'] <= 0)])['date'])\n",
    "\n",
    "    # плохие индексы в финальной выдаче\n",
    "    bad_index = bad_index.append((recovery_full_data[(recovery_full_data['final.output.concentrate_ag'] <= 0) \n",
    "        & (recovery_full_data['final.output.concentrate_pb'] <= 0)\n",
    "        & (recovery_full_data['final.output.concentrate_au'] <= 0)\n",
    "        & (recovery_full_data['final.output.concentrate_sol'] <= 0)])['date'])\n",
    "    return bad_index"
   ]
  },
  {
   "cell_type": "code",
   "execution_count": 21,
   "metadata": {},
   "outputs": [
    {
     "name": "stderr",
     "output_type": "stream",
     "text": [
      "G:\\Anaconda\\lib\\site-packages\\ipykernel_launcher.py:3: DeprecationWarning: The default dtype for empty Series will be 'object' instead of 'float64' in a future version. Specify a dtype explicitly to silence this warning.\n",
      "  This is separate from the ipykernel package so we can avoid doing imports until\n"
     ]
    }
   ],
   "source": [
    "# удаляем нулевые значения, применив функцию с потолком 0\n",
    "bad_index = get_bad_index(0)\n",
    "# сохраним отфильтрованные данные\n",
    "train_data = recovery_train_data.query('date not in @bad_index')\n",
    "test_data = recovery_test_data.query('date not in @bad_index')"
   ]
  },
  {
   "cell_type": "markdown",
   "metadata": {},
   "source": [
    "После отброса нулевых значений, проанализируем полученные данные. Предположим, что средняя погрешность измерений составляет около 5%. Таким образом, нулевым значением с учетом погрешности будет 0+-5%.\n",
    "\n",
    "Чтобы оценить величину погрешности в долях, посмотрим на 5% квантили данных."
   ]
  },
  {
   "cell_type": "code",
   "execution_count": 22,
   "metadata": {},
   "outputs": [
    {
     "name": "stdout",
     "output_type": "stream",
     "text": [
      "rougher.input.feed_ag 5% квантиль: 5.773636903163368\n",
      "rougher.input.feed_pb 5% квантиль: 1.3622408523410559\n",
      "rougher.input.feed_au 5% квантиль: 4.134270917179479\n",
      "rougher.input.feed_sol 5% квантиль: 20.983857241047748\n",
      "rougher.output.concentrate_ag 5% квантиль: 6.791024352217166\n",
      "rougher.output.concentrate_pb 5% квантиль: 3.9599638313583947\n",
      "rougher.output.concentrate_au 5% квантиль: 11.331508594052405\n",
      "rougher.output.concentrate_sol 5% квантиль: 13.320889125556992\n",
      "final.output.concentrate_ag 5% квантиль: 3.1746835549277614\n",
      "final.output.concentrate_pb 5% квантиль: 6.510743965294626\n",
      "final.output.concentrate_au 5% квантиль: 32.25766670039221\n",
      "final.output.concentrate_sol 5% квантиль: 2.4628880413420267\n"
     ]
    }
   ],
   "source": [
    "# интересующие нас столбцы\n",
    "cols_for_look = ['rougher.input.feed_ag', 'rougher.input.feed_pb', 'rougher.input.feed_au', 'rougher.input.feed_sol', 'rougher.output.concentrate_ag', 'rougher.output.concentrate_pb', 'rougher.output.concentrate_au', 'rougher.output.concentrate_sol', 'final.output.concentrate_ag', 'final.output.concentrate_pb', 'final.output.concentrate_au', 'final.output.concentrate_sol']\n",
    "\n",
    "# смотрим на 5% квантиль\n",
    "for each in cols_for_look:\n",
    "    print(each, '5% квантиль:', train_data[each].quantile(0.05))"
   ]
  },
  {
   "cell_type": "markdown",
   "metadata": {},
   "source": [
    "Минимальное значение 5% квантиля для доли вещества без нулевых значений равно 1.4. Примем это за минимальный порог валидных значений."
   ]
  },
  {
   "cell_type": "code",
   "execution_count": 23,
   "metadata": {},
   "outputs": [
    {
     "name": "stderr",
     "output_type": "stream",
     "text": [
      "G:\\Anaconda\\lib\\site-packages\\ipykernel_launcher.py:3: DeprecationWarning: The default dtype for empty Series will be 'object' instead of 'float64' in a future version. Specify a dtype explicitly to silence this warning.\n",
      "  This is separate from the ipykernel package so we can avoid doing imports until\n"
     ]
    }
   ],
   "source": [
    "# получим индексы, где значения долей вещества меньше определённого порога валидности\n",
    "bad_index = get_bad_index(1.4)\n",
    "# повторно отфильтруем данные\n",
    "train_data = recovery_train_data.query('date not in @bad_index').reset_index(drop=True)\n",
    "test_data = recovery_test_data.query('date not in @bad_index').reset_index(drop=True)\n",
    "full_data = recovery_full_data.query('date not in @bad_index').reset_index(drop=True)"
   ]
  },
  {
   "cell_type": "code",
   "execution_count": 24,
   "metadata": {},
   "outputs": [
    {
     "data": {
      "image/png": "[encoded data removed]",
      "text/plain": [
       "<Figure size 1440x360 with 3 Axes>"
      ]
     },
     "metadata": {},
     "output_type": "display_data"
    }
   ],
   "source": [
    "# посмотрим распределение сумм по отфильтрованным данным\n",
    "bad_train = bad_zeros(train_data)"
   ]
  },
  {
   "cell_type": "markdown",
   "metadata": {},
   "source": [
    "Всё равно заметны около-нулевые значения. Но зато это могут быть вполне валидные данные. "
   ]
  },
  {
   "cell_type": "markdown",
   "metadata": {},
   "source": [
    "### Выводы\n",
    "Были изучены концентрации различных веществ на разных этапа технологического процесса. Данные проанализированы и проверены на валидность. Аномалий не обнаружено.\n",
    "\n",
    "Также были изучены размеры гранул сырья в тестовой и обучающей сборках. Средние размеры гранул 56(std=22) и 60(std=30) для тестовой и обучающей соответственно. Распределения можно оценить как близкие по значениям.\n",
    "\n",
    "Были проанализированы суммы долей различных веществ в сырье, черновом и финальном концентратах. Были обнаружены аномалии в виде нулевых и околонулевых значений. Такие значения могут быть получены при особенностях тех.процесса или погрешностях оборудования. Для минимизации ошибок при обучении машинных моделей, был определён минимальный порог доли вещества (1.3 %). Данные для обучения и тестирования моделей были соответсвующим образом отфильтрованы."
   ]
  },
  {
   "cell_type": "markdown",
   "metadata": {},
   "source": [
    "# 4. Построение моделей"
   ]
  },
  {
   "cell_type": "markdown",
   "metadata": {},
   "source": [
    "## 4.1 Симметричная средняя абсолютная процентная ошибка (sMAPE)"
   ]
  },
  {
   "cell_type": "markdown",
   "metadata": {},
   "source": [
    "Для скорринга моделей будет использоваться симметричная средняя абсолютная процентная ошибка.\n",
    "Напишем функцию для рассчёта sMAPE."
   ]
  },
  {
   "cell_type": "code",
   "execution_count": 25,
   "metadata": {},
   "outputs": [],
   "source": [
    "# функция для рассчёта sMAPE\n",
    "def smape(targ, pred):\n",
    "    smape_df = pd.DataFrame()\n",
    "    smape_df['dif'] = abs(targ - pred)\n",
    "    smape_df['means'] = (abs(targ) + abs(pred))/2\n",
    "    smape_df['div'] = (smape_df['dif'] / smape_df['means'])*100\n",
    "    n = len(targ)\n",
    "    div_sum = smape_df['div'].sum()\n",
    "    smape = div_sum / n\n",
    "    return float(smape)"
   ]
  },
  {
   "cell_type": "code",
   "execution_count": 26,
   "metadata": {},
   "outputs": [],
   "source": [
    "# создаём собственный скоринг на основе этой функции\n",
    "smape_score = make_scorer(smape, greater_is_better=False)"
   ]
  },
  {
   "cell_type": "code",
   "execution_count": 27,
   "metadata": {},
   "outputs": [],
   "source": [
    "# функция для подсчёта окончательного sMAPE на основе скоров моделей флотации и очистки\n",
    "def smape_final(mape_rougher, mape_final):\n",
    "    score = (mape_rougher*0.25) + (mape_final*0.75)\n",
    "    return float(score)"
   ]
  },
  {
   "cell_type": "markdown",
   "metadata": {},
   "source": [
    "## 4.2 Обучение и валидация моделей"
   ]
  },
  {
   "cell_type": "markdown",
   "metadata": {},
   "source": [
    "Т.к. процессы флотации и очистки последовательны, они имеют независимые признаки. Поэтому необходимо подготовить отдельные наборы признаков для каждого процесса и обучить на них свою модель.\n",
    "\n",
    "Таким образом, будут строится две модели каждого вида. Одна для процесса флотации(целевой признак - rougher.output.recovery), и одна для процесса очистки(целевой признак - final.output.recovery)."
   ]
  },
  {
   "cell_type": "markdown",
   "metadata": {},
   "source": [
    "### 4.2.1 Подготовка признаков"
   ]
  },
  {
   "cell_type": "markdown",
   "metadata": {},
   "source": [
    "Сначала подготовим признаки для обучения моделей.\n",
    "\n",
    "Для обучения, по условиям Заказчика, используются только признаки из тестовой выборки."
   ]
  },
  {
   "cell_type": "code",
   "execution_count": 28,
   "metadata": {},
   "outputs": [
    {
     "data": {
      "text/plain": [
       "Index(['date', 'primary_cleaner.input.sulfate',\n",
       "       'primary_cleaner.input.depressant', 'primary_cleaner.input.feed_size',\n",
       "       'primary_cleaner.input.xanthate',\n",
       "       'primary_cleaner.state.floatbank8_a_air',\n",
       "       'primary_cleaner.state.floatbank8_a_level',\n",
       "       'primary_cleaner.state.floatbank8_b_air',\n",
       "       'primary_cleaner.state.floatbank8_b_level',\n",
       "       'primary_cleaner.state.floatbank8_c_air',\n",
       "       'primary_cleaner.state.floatbank8_c_level',\n",
       "       'primary_cleaner.state.floatbank8_d_air',\n",
       "       'primary_cleaner.state.floatbank8_d_level', 'rougher.input.feed_ag',\n",
       "       'rougher.input.feed_pb', 'rougher.input.feed_rate',\n",
       "       'rougher.input.feed_size', 'rougher.input.feed_sol',\n",
       "       'rougher.input.feed_au', 'rougher.input.floatbank10_sulfate',\n",
       "       'rougher.input.floatbank10_xanthate',\n",
       "       'rougher.input.floatbank11_sulfate',\n",
       "       'rougher.input.floatbank11_xanthate', 'rougher.state.floatbank10_a_air',\n",
       "       'rougher.state.floatbank10_a_level', 'rougher.state.floatbank10_b_air',\n",
       "       'rougher.state.floatbank10_b_level', 'rougher.state.floatbank10_c_air',\n",
       "       'rougher.state.floatbank10_c_level', 'rougher.state.floatbank10_d_air',\n",
       "       'rougher.state.floatbank10_d_level', 'rougher.state.floatbank10_e_air',\n",
       "       'rougher.state.floatbank10_e_level', 'rougher.state.floatbank10_f_air',\n",
       "       'rougher.state.floatbank10_f_level',\n",
       "       'secondary_cleaner.state.floatbank2_a_air',\n",
       "       'secondary_cleaner.state.floatbank2_a_level',\n",
       "       'secondary_cleaner.state.floatbank2_b_air',\n",
       "       'secondary_cleaner.state.floatbank2_b_level',\n",
       "       'secondary_cleaner.state.floatbank3_a_air',\n",
       "       'secondary_cleaner.state.floatbank3_a_level',\n",
       "       'secondary_cleaner.state.floatbank3_b_air',\n",
       "       'secondary_cleaner.state.floatbank3_b_level',\n",
       "       'secondary_cleaner.state.floatbank4_a_air',\n",
       "       'secondary_cleaner.state.floatbank4_a_level',\n",
       "       'secondary_cleaner.state.floatbank4_b_air',\n",
       "       'secondary_cleaner.state.floatbank4_b_level',\n",
       "       'secondary_cleaner.state.floatbank5_a_air',\n",
       "       'secondary_cleaner.state.floatbank5_a_level',\n",
       "       'secondary_cleaner.state.floatbank5_b_air',\n",
       "       'secondary_cleaner.state.floatbank5_b_level',\n",
       "       'secondary_cleaner.state.floatbank6_a_air',\n",
       "       'secondary_cleaner.state.floatbank6_a_level'],\n",
       "      dtype='object')"
      ]
     },
     "execution_count": 28,
     "metadata": {},
     "output_type": "execute_result"
    }
   ],
   "source": [
    "train_cols = recovery_test_data.columns\n",
    "train_cols"
   ]
  },
  {
   "cell_type": "code",
   "execution_count": 29,
   "metadata": {},
   "outputs": [
    {
     "data": {
      "text/plain": [
       "['rougher.input.feed_ag',\n",
       " 'rougher.input.feed_pb',\n",
       " 'rougher.input.feed_rate',\n",
       " 'rougher.input.feed_size',\n",
       " 'rougher.input.feed_sol',\n",
       " 'rougher.input.feed_au',\n",
       " 'rougher.input.floatbank10_sulfate',\n",
       " 'rougher.input.floatbank10_xanthate',\n",
       " 'rougher.input.floatbank11_sulfate',\n",
       " 'rougher.input.floatbank11_xanthate']"
      ]
     },
     "execution_count": 29,
     "metadata": {},
     "output_type": "execute_result"
    }
   ],
   "source": [
    "# выделим признаки для процесса флотации\n",
    "# для обучения не используются столбцы с вычислениями(calculations) и состояниями(state)\n",
    "rougher_train_cols = []\n",
    "for cols in test_data.columns:\n",
    "    if 'rougher' in str(cols):\n",
    "        if 'state' not in str(cols):\n",
    "            if 'calculation' not in str(cols):\n",
    "                rougher_train_cols.append(cols)\n",
    "rougher_train_cols"
   ]
  },
  {
   "cell_type": "code",
   "execution_count": 30,
   "metadata": {},
   "outputs": [
    {
     "name": "stdout",
     "output_type": "stream",
     "text": [
      "Rougher\n",
      "train features shape: (15128, 10)\n",
      "train target shape: (15128,)\n",
      "test features shape: (5292, 10)\n",
      "test target shape: (5292,)\n"
     ]
    }
   ],
   "source": [
    "\n",
    "# обучающий и целевой признаки для обучающей выборки\n",
    "rougher_train_features = train_data[rougher_train_cols]\n",
    "rougher_train_target = train_data['rougher.output.recovery']\n",
    "\n",
    "# обучающий и целевой признаки для тестовой выборки\n",
    "test_dates = test_data['date']\n",
    "rougher_test_features = test_data[rougher_train_cols]\n",
    "rougher_test_target = recovery_full_data.query('date in @test_dates')['rougher.output.recovery']\n",
    "\n",
    "print('Rougher')\n",
    "print('train features shape:', rougher_train_features.shape)\n",
    "print('train target shape:',rougher_train_target.shape)\n",
    "print('test features shape:', rougher_test_features.shape)\n",
    "print('test target shape:', rougher_test_target.shape)"
   ]
  },
  {
   "cell_type": "markdown",
   "metadata": {},
   "source": [
    "Теперь выделим признаки процесса очистки. \n",
    "По технологическому процессу, на вход очистки подаётся концентрат, поэтому для обучения моделей очистки мы также будем учитывать признаки rougher.output.concentrate_*. "
   ]
  },
  {
   "cell_type": "code",
   "execution_count": 31,
   "metadata": {},
   "outputs": [
    {
     "data": {
      "text/plain": [
       "['date',\n",
       " 'primary_cleaner.input.sulfate',\n",
       " 'primary_cleaner.input.depressant',\n",
       " 'primary_cleaner.input.feed_size',\n",
       " 'primary_cleaner.input.xanthate']"
      ]
     },
     "execution_count": 31,
     "metadata": {},
     "output_type": "execute_result"
    }
   ],
   "source": [
    "# признаки процесса очистки\n",
    "final_train_cols = []\n",
    "for cols in test_data.columns:\n",
    "    if 'rougher' not in str(cols):\n",
    "        if 'state' not in str(cols):\n",
    "            if 'calculation' not in str(cols):\n",
    "                final_train_cols.append(cols)\n",
    "\n",
    "# добавим признаки концентратов флотации\n",
    "#for each in ['rougher.output.concentrate_ag', 'rougher.output.concentrate_pb', 'rougher.output.concentrate_sol', 'rougher.output.concentrate_au']:\n",
    "#    final_train_cols.append(each)\n",
    "\n",
    "final_train_cols"
   ]
  },
  {
   "cell_type": "code",
   "execution_count": 32,
   "metadata": {},
   "outputs": [
    {
     "name": "stdout",
     "output_type": "stream",
     "text": [
      "Final\n",
      "train features shape: (15128, 4)\n",
      "train target shape: (15128,)\n",
      "test features shape: (5292, 4)\n",
      "test target shape: (5292,)\n"
     ]
    }
   ],
   "source": [
    "# обучающий и целевой признаки для обучающей выборки\n",
    "final_train_features = train_data[final_train_cols].drop(['date'], axis=1)\n",
    "final_train_target = train_data['final.output.recovery']\n",
    "\n",
    "# обучающий и целевой признаки для тестовой выборки\n",
    "final_test_features = test_data[final_train_cols].drop(['date'], axis=1)\n",
    "final_test_target = recovery_full_data.query('date in @test_dates')['final.output.recovery']\n",
    "\n",
    "\n",
    "print('Final')\n",
    "print('train features shape:', final_train_features.shape)\n",
    "print('train target shape:', final_train_target.shape)\n",
    "print('test features shape:', final_test_features.shape)\n",
    "print('test target shape:', final_test_target.shape)"
   ]
  },
  {
   "cell_type": "markdown",
   "metadata": {},
   "source": [
    "Признаки для обучения и тестирования моделей готовы. Переходим к моделированию."
   ]
  },
  {
   "cell_type": "markdown",
   "metadata": {},
   "source": [
    "Для поиска оптимальных гиперпараметров моделей TreeRegressor и RFRegressor будет использоваться функция GridSearchCV.\n",
    "Данная функция позволяет перебирать гиперпараметры, автоматически валидировать их с помощью кросс-валидации. Кроме того, функция позволяет переопределить функцию скоринга - мы будем использовать нашу sMAPE."
   ]
  },
  {
   "cell_type": "markdown",
   "metadata": {},
   "source": [
    "### 4.2.2 Константная модель"
   ]
  },
  {
   "cell_type": "markdown",
   "metadata": {},
   "source": [
    "Для оценки адекватности моделей, посмотрим на метрики константной модели - которая предсказывает только медианные значения целевых признаков."
   ]
  },
  {
   "cell_type": "code",
   "execution_count": 33,
   "metadata": {},
   "outputs": [
    {
     "name": "stdout",
     "output_type": "stream",
     "text": [
      "sMAPE for rougher const. model: 5.327571034951264\n",
      "sMAPE for cleaner const. model: 8.538475799902201\n",
      "Final sMAPE for const. models: 7.735749608664467\n"
     ]
    }
   ],
   "source": [
    "# берем медианы целевого признака обучающей выборки\n",
    "rougher_recovery_median = rougher_train_target.median()\n",
    "final_recovery_median = final_train_target.median()\n",
    "\n",
    "# строим константные целевые признаки\n",
    "rougher_target_const = pd.Series(rougher_recovery_median, index=rougher_test_target.index)\n",
    "final_target_const = pd.Series(final_recovery_median, index=final_test_target.index)\n",
    "\n",
    "#считаем метрики для константной модели\n",
    "smape_const_rougher = smape(rougher_test_target, rougher_target_const)\n",
    "smape_const_final = smape(final_test_target, final_target_const)\n",
    "\n",
    "print('sMAPE for rougher const. model:', smape_const_rougher)\n",
    "print('sMAPE for cleaner const. model:', smape_const_final)\n",
    "print('Final sMAPE for const. models:', smape_final(smape_const_rougher, smape_const_final))"
   ]
  },
  {
   "cell_type": "markdown",
   "metadata": {},
   "source": [
    "Финальный скор sMAPE для константной модели получился 7.73 %."
   ]
  },
  {
   "cell_type": "markdown",
   "metadata": {},
   "source": [
    "### 4.2.2 RandomForestRegressor"
   ]
  },
  {
   "cell_type": "markdown",
   "metadata": {},
   "source": [
    "Подбираем оптимальные гиперпараметры, ориентируясь на минимизацию SMAPE."
   ]
  },
  {
   "cell_type": "code",
   "execution_count": 34,
   "metadata": {},
   "outputs": [],
   "source": [
    "# функция для обучения gridsearch, возвращает лучший скор smape и параметры\n",
    "# WARNING: это может считаться дооолго\n",
    "def RFR_grid(feat, targ):\n",
    "    estimator = RandomForestRegressor(random_state=112211)\n",
    "    param_grid = { \n",
    "            \"n_estimators\"      : [5,10,20,30],\n",
    "            \"max_features\"      : [\"auto\", \"sqrt\", \"log2\"],\n",
    "            \"max_depth\" : [i for i in range(5,21,5)],\n",
    "            \"min_samples_leaf\" : [1, 4, 8],\n",
    "            \"min_samples_split\" : [2,4,8,10,12],\n",
    "            \"bootstrap\": [True, False],\n",
    "                }\n",
    "\n",
    "    rfr_grid = GridSearchCV(estimator, param_grid, n_jobs=-1, cv=5, scoring=smape_score)\n",
    "    rfr_grid.fit(feat, targ)\n",
    "    \n",
    "    return rfr_grid.best_score_, rfr_grid.best_params_"
   ]
  },
  {
   "cell_type": "code",
   "execution_count": 35,
   "metadata": {},
   "outputs": [
    {
     "data": {
      "text/plain": [
       "(-7.466190738016744,\n",
       " {'bootstrap': True,\n",
       "  'max_depth': 15,\n",
       "  'max_features': 'sqrt',\n",
       "  'min_samples_leaf': 8,\n",
       "  'min_samples_split': 2,\n",
       "  'n_estimators': 10})"
      ]
     },
     "execution_count": 35,
     "metadata": {},
     "output_type": "execute_result"
    }
   ],
   "source": [
    "# применяем функцию к модели флотации\n",
    "RFR_grid(rougher_train_features, rougher_train_target)"
   ]
  },
  {
   "cell_type": "code",
   "execution_count": 52,
   "metadata": {},
   "outputs": [
    {
     "name": "stdout",
     "output_type": "stream",
     "text": [
      "Rougher sMAPE-score: 4.6119312465647\n"
     ]
    }
   ],
   "source": [
    "# Обучаем модель для флотации с найденными параметрами\n",
    "model_rougher = RandomForestRegressor(n_estimators=30, max_features='sqrt', min_samples_split=2, bootstrap=True, max_depth=20, min_samples_leaf=8, random_state=112211)\n",
    "model_rougher.fit(rougher_train_features, rougher_train_target)\n",
    "\n",
    "# тестируем модель\n",
    "pred = model_rougher.predict(rougher_test_features)\n",
    "smape_rougher = smape(rougher_test_target, pred)\n",
    "print('Rougher sMAPE-score:', smape_rougher)"
   ]
  },
  {
   "cell_type": "code",
   "execution_count": 37,
   "metadata": {},
   "outputs": [
    {
     "data": {
      "text/plain": [
       "(-10.715770849436598,\n",
       " {'bootstrap': False,\n",
       "  'max_depth': 5,\n",
       "  'max_features': 'sqrt',\n",
       "  'min_samples_leaf': 1,\n",
       "  'min_samples_split': 2,\n",
       "  'n_estimators': 5})"
      ]
     },
     "execution_count": 37,
     "metadata": {},
     "output_type": "execute_result"
    }
   ],
   "source": [
    "# гридсерч для процесса очистки\n",
    "RFR_grid(final_train_features, final_train_target)"
   ]
  },
  {
   "cell_type": "code",
   "execution_count": 55,
   "metadata": {},
   "outputs": [
    {
     "name": "stdout",
     "output_type": "stream",
     "text": [
      "Cleaner sMAPE-score: 7.499540055557234\n"
     ]
    }
   ],
   "source": [
    "model_clean = RandomForestRegressor(n_estimators=5, max_features='sqrt', min_samples_split=2, bootstrap=False, max_depth=5, min_samples_leaf=1, random_state=112211)\n",
    "model_clean.fit(final_train_features, final_train_target)\n",
    "pred = model_clean.predict(final_test_features)\n",
    "\n",
    "smape_clean = smape(final_test_target, pred)\n",
    "print('Cleaner sMAPE-score:', smape_clean)"
   ]
  },
  {
   "cell_type": "code",
   "execution_count": 56,
   "metadata": {},
   "outputs": [
    {
     "name": "stdout",
     "output_type": "stream",
     "text": [
      "Final sMAPE: 6.777637853309101\n"
     ]
    }
   ],
   "source": [
    "# считаем финальный скор\n",
    "print('Final sMAPE:', smape_final(smape_rougher, smape_clean))"
   ]
  },
  {
   "cell_type": "markdown",
   "metadata": {},
   "source": [
    "Итоговая средняя абсолютная ошибка для модели случайного леса получилась sMAPE = 6.77%. "
   ]
  },
  {
   "cell_type": "markdown",
   "metadata": {},
   "source": [
    "### 4.2.3 DecicionTreeRegressor"
   ]
  },
  {
   "cell_type": "markdown",
   "metadata": {},
   "source": [
    "Для моделей дерева проходим ту же процедуру, что и для леса - ищем оптимальные параметры, ориентируясь на sMAPE."
   ]
  },
  {
   "cell_type": "code",
   "execution_count": 40,
   "metadata": {},
   "outputs": [],
   "source": [
    "# функция гридсерч для дерева\n",
    "def DTC_grid(feat, targ):\n",
    "    estimator = DecisionTreeRegressor(random_state=112211)\n",
    "    param_grid = { \n",
    "            \"max_depth\" : [i for i in range(1,20,2)],\n",
    "            \"min_samples_leaf\" : [i for i in range(1,20,2)],\n",
    "            \"min_samples_split\" : [2,4,8,10,12],\n",
    "            \"max_features\"      : [\"auto\", \"sqrt\", \"log2\"],\n",
    "                }\n",
    "\n",
    "    rfr_grid = GridSearchCV(estimator, param_grid, n_jobs=-1, cv=5, scoring=smape_score)\n",
    "    rfr_grid.fit(feat, targ)\n",
    "    \n",
    "    return rfr_grid.best_score_, rfr_grid.best_params_"
   ]
  },
  {
   "cell_type": "code",
   "execution_count": 41,
   "metadata": {},
   "outputs": [
    {
     "data": {
      "text/plain": [
       "(-7.913666678371029,\n",
       " {'max_depth': 3,\n",
       "  'max_features': 'auto',\n",
       "  'min_samples_leaf': 19,\n",
       "  'min_samples_split': 2})"
      ]
     },
     "execution_count": 41,
     "metadata": {},
     "output_type": "execute_result"
    }
   ],
   "source": [
    "# Ищем параметры для флотации\n",
    "DTC_grid(rougher_train_features, rougher_train_target)"
   ]
  },
  {
   "cell_type": "code",
   "execution_count": 57,
   "metadata": {},
   "outputs": [
    {
     "name": "stdout",
     "output_type": "stream",
     "text": [
      "Rougher sMAPE-score: 5.445838537427789\n"
     ]
    }
   ],
   "source": [
    "# тестируем модель флотации\n",
    "model = DecisionTreeRegressor(max_depth=3, max_features='auto', min_samples_split=2, min_samples_leaf=19, random_state=112211)\n",
    "model.fit(rougher_train_features, rougher_train_target)\n",
    "pred = model.predict(rougher_test_features)\n",
    "\n",
    "smape_rougher = smape(rougher_test_target, pred)\n",
    "print('Rougher sMAPE-score:', smape_rougher)"
   ]
  },
  {
   "cell_type": "code",
   "execution_count": 43,
   "metadata": {},
   "outputs": [
    {
     "data": {
      "text/plain": [
       "(-10.87785081090036,\n",
       " {'max_depth': 3,\n",
       "  'max_features': 'auto',\n",
       "  'min_samples_leaf': 7,\n",
       "  'min_samples_split': 2})"
      ]
     },
     "execution_count": 43,
     "metadata": {},
     "output_type": "execute_result"
    }
   ],
   "source": [
    "# ищем параметры для очистки\n",
    "DTC_grid(final_train_features, final_train_target)"
   ]
  },
  {
   "cell_type": "code",
   "execution_count": 58,
   "metadata": {},
   "outputs": [
    {
     "name": "stdout",
     "output_type": "stream",
     "text": [
      "Cleaner sMAPE-score: 7.656515753260873\n"
     ]
    }
   ],
   "source": [
    "# тестируем модель очистки\n",
    "model = DecisionTreeRegressor(max_depth=3, max_features='auto', min_samples_split=2, min_samples_leaf=7, random_state=112211)\n",
    "model.fit(final_train_features, final_train_target)\n",
    "pred = model.predict(final_test_features)\n",
    "\n",
    "smape_clean = smape(final_test_target, pred)\n",
    "print('Cleaner sMAPE-score:', smape_clean)"
   ]
  },
  {
   "cell_type": "code",
   "execution_count": 59,
   "metadata": {},
   "outputs": [
    {
     "name": "stdout",
     "output_type": "stream",
     "text": [
      "Final sMAPE: 7.103846449302602\n"
     ]
    }
   ],
   "source": [
    "# считаем финальный скор\n",
    "print('Final sMAPE:', smape_final(smape_rougher, smape_clean))"
   ]
  },
  {
   "cell_type": "markdown",
   "metadata": {},
   "source": [
    "Тоже неплохо.\n",
    "Итоговая средняя абсолютная ошибка для модели дерева получилась sMAPE = 7.10%. "
   ]
  },
  {
   "cell_type": "markdown",
   "metadata": {},
   "source": [
    "### 4.2.4 LinearRegression"
   ]
  },
  {
   "cell_type": "markdown",
   "metadata": {},
   "source": [
    "Для линейной регрессии параметры искать не будем. Просто обучим и протестируем модели."
   ]
  },
  {
   "cell_type": "code",
   "execution_count": 60,
   "metadata": {},
   "outputs": [
    {
     "name": "stdout",
     "output_type": "stream",
     "text": [
      "Rougher sMAPE-score: 5.00722474849361\n"
     ]
    }
   ],
   "source": [
    "# обучаем модель для флотации\n",
    "model = LinearRegression()\n",
    "model.fit(rougher_train_features, rougher_train_target)\n",
    "\n",
    "#тестируем модель \n",
    "pred = model.predict(rougher_test_features)\n",
    "smape_rougher = smape(rougher_test_target, pred)\n",
    "print('Rougher sMAPE-score:', smape_rougher)"
   ]
  },
  {
   "cell_type": "code",
   "execution_count": 61,
   "metadata": {},
   "outputs": [
    {
     "name": "stdout",
     "output_type": "stream",
     "text": [
      "Cleaner sMAPE-score: 8.108270258578171\n"
     ]
    }
   ],
   "source": [
    "# обучаем модель для очистки\n",
    "model = LinearRegression()\n",
    "model.fit(final_train_features, final_train_target)\n",
    "\n",
    "# тестируем модель\n",
    "pred = model.predict(final_test_features)\n",
    "smape_clean = smape(final_test_target, pred)\n",
    "print('Cleaner sMAPE-score:', smape_clean)"
   ]
  },
  {
   "cell_type": "code",
   "execution_count": 62,
   "metadata": {},
   "outputs": [
    {
     "name": "stdout",
     "output_type": "stream",
     "text": [
      "Final sMAPE: 7.33300888105703\n"
     ]
    }
   ],
   "source": [
    "# считаем финальный скор\n",
    "print('Final sMAPE:', smape_final(smape_rougher, smape_clean))"
   ]
  },
  {
   "cell_type": "markdown",
   "metadata": {},
   "source": [
    "Ну вот и что-то среднее.\n",
    "Итоговая средняя абсолютная ошибка для модели линейной регрессии получилась sMAPE = 7.33%. "
   ]
  },
  {
   "cell_type": "markdown",
   "metadata": {},
   "source": [
    "## Выводы\n",
    "Были обучены и проанализированы модели машинного обучения отдельно для процесса флотации и отдельно для процесса очистки.\n",
    "Полученные метрики для разных типов моделей:\n",
    "* RandomForestRegressor: sMAPE = 6.77%\n",
    "* DecisionTreeRegressor: sMAPE = 7.01%\n",
    "* LinearRegression: sMAPE = 7.33%"
   ]
  },
  {
   "cell_type": "code",
   "execution_count": null,
   "metadata": {},
   "outputs": [],
   "source": []
  },
  {
   "cell_type": "markdown",
   "metadata": {},
   "source": [
    "# 5. Выводы"
   ]
  },
  {
   "cell_type": "markdown",
   "metadata": {},
   "source": [
    "Целью данной работы было построение прототипа модели машинного обучения, для предсказывания коэффициента восстановления золота из золотосодержащей руды. На входе данные с параметрами добычи и очистки.\n",
    "\n",
    "Данные были загружены, проанализированы и обработаны. Обнаруженные пропуски в данных были заполнены методом 'ffill'.\n",
    "\n",
    "Были изучены концентрации различных веществ на разных этапа технологического процесса. Данные проанализированы и проверены на валидность. Аномалий не обнаружено.\n",
    "Также были изучены размеры гранул сырья в тестовой и обучающей сборках. Средние размеры гранул 56(std=22) и 60(std=30) для тестовой и обучающей соответственно. Распределения можно оценить как близкие по значениям.\n",
    "\n",
    "Были проанализированы суммы долей различных веществ в сырье, черновом и финальном концентратах. Были обнаружены аномалии в виде нулевых и околонулевых значений. Такие значения могут быть получены при особенностях тех.процесса или погрешностях оборудования. Для минимизации ошибок при обучении машинных моделей, был определён минимальный порог доли вещества (1.3 %). Данные для обучения и тестирования моделей были соответсвующим образом отфильтрованы.\n",
    "\n",
    "Были построены различные модели машинного обучения для процесса флотации и процесса очистки. Для поиска оптимальных гиперпараметров использовался метод кросс-валидации на обучающей выборке.\n",
    "Для оценки эффективности моделей использовался показатель симметричной средней абсолютной процентной ошибки (sMAPE). \n",
    "Итоговый sMAPE предсказаний двух моделей вычислялся по формуле: \n",
    "> sMAPE_final = sMAPE_rougher * 25% + sMAPE_cleaner * 75%\n",
    "\n",
    "Итоговые метрики для разных типов моделей:\n",
    "* Constant median model: sMAPE = 7.73 %\n",
    "* RandomForestRegressor: sMAPE = 6.77%\n",
    "* DecisionTreeRegressor: sMAPE = 7.01%\n",
    "* LinearRegression: sMAPE = 7.33%\n",
    "\n",
    "Таким образом, в качестве прототипа модели машинного обучения для целей работы, можно рекомендовать модель с лучшим скором - RandomForestRegressor."
   ]
  },
  {
   "cell_type": "code",
   "execution_count": null,
   "metadata": {},
   "outputs": [],
   "source": []
  }
 ],
 "metadata": {
  "kernelspec": {
   "display_name": "Python 3",
   "language": "python",
   "name": "python3"
  },
  "language_info": {
   "codemirror_mode": {
    "name": "ipython",
    "version": 3
   },
   "file_extension": ".py",
   "mimetype": "text/x-python",
   "name": "python",
   "nbconvert_exporter": "python",
   "pygments_lexer": "ipython3",
   "version": "3.7.7"
  }
 },
 "nbformat": 4,
 "nbformat_minor": 4
}
